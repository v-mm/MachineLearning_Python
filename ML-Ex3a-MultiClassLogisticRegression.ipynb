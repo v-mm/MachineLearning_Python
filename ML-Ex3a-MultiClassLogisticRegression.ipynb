{
 "cells": [
  {
   "cell_type": "code",
   "execution_count": 1,
   "metadata": {},
   "outputs": [],
   "source": [
    "import numpy as np\n",
    "import pandas as pd\n",
    "import matplotlib.pyplot as plt\n",
    "%matplotlib inline"
   ]
  },
  {
   "cell_type": "code",
   "execution_count": 2,
   "metadata": {},
   "outputs": [],
   "source": [
    "# for the minimising function\n",
    "from scipy.optimize import minimize\n",
    "\n",
    "# for reading MATLAB files\n",
    "from scipy.io import loadmat"
   ]
  },
  {
   "cell_type": "code",
   "execution_count": 3,
   "metadata": {},
   "outputs": [
    {
     "data": {
      "text/plain": [
       "{'__header__': b'MATLAB 5.0 MAT-file, Platform: GLNXA64, Created on: Sun Oct 16 13:09:09 2011',\n",
       " '__version__': '1.0',\n",
       " '__globals__': [],\n",
       " 'X': array([[0., 0., 0., ..., 0., 0., 0.],\n",
       "        [0., 0., 0., ..., 0., 0., 0.],\n",
       "        [0., 0., 0., ..., 0., 0., 0.],\n",
       "        ...,\n",
       "        [0., 0., 0., ..., 0., 0., 0.],\n",
       "        [0., 0., 0., ..., 0., 0., 0.],\n",
       "        [0., 0., 0., ..., 0., 0., 0.]]),\n",
       " 'y': array([[10],\n",
       "        [10],\n",
       "        [10],\n",
       "        ...,\n",
       "        [ 9],\n",
       "        [ 9],\n",
       "        [ 9]], dtype=uint8)}"
      ]
     },
     "execution_count": 3,
     "metadata": {},
     "output_type": "execute_result"
    }
   ],
   "source": [
    "# read data from file \n",
    "\n",
    "path = \"D:\\Programming\\TestData\\ex3data1.mat\"\n",
    "data = loadmat(path)\n",
    "#loads X, y from MATLAB file ex3data1.mat\n",
    "data"
   ]
  },
  {
   "cell_type": "code",
   "execution_count": 4,
   "metadata": {},
   "outputs": [
    {
     "data": {
      "text/plain": [
       "((5000, 400), (5000, 1))"
      ]
     },
     "execution_count": 4,
     "metadata": {},
     "output_type": "execute_result"
    }
   ],
   "source": [
    "data['X'].shape, data['y'].shape"
   ]
  },
  {
   "cell_type": "code",
   "execution_count": 5,
   "metadata": {},
   "outputs": [
    {
     "data": {
      "text/plain": [
       "((5000, 400), (5000, 1))"
      ]
     },
     "execution_count": 5,
     "metadata": {},
     "output_type": "execute_result"
    }
   ],
   "source": [
    "#extract X, y\n",
    "X = data['X']\n",
    "y = data['y']\n",
    "X.shape, y.shape"
   ]
  },
  {
   "cell_type": "code",
   "execution_count": 6,
   "metadata": {},
   "outputs": [
    {
     "data": {
      "text/plain": [
       "array([ 1,  2,  3,  4,  5,  6,  7,  8,  9, 10], dtype=uint8)"
      ]
     },
     "execution_count": 6,
     "metadata": {},
     "output_type": "execute_result"
    }
   ],
   "source": [
    "# unique class labels in y\n",
    "np.unique(y)"
   ]
  },
  {
   "cell_type": "code",
   "execution_count": 7,
   "metadata": {},
   "outputs": [
    {
     "data": {
      "text/plain": [
       "(5000, 401)"
      ]
     },
     "execution_count": 7,
     "metadata": {},
     "output_type": "execute_result"
    }
   ],
   "source": [
    "# add intercept term to X i.e. 1's column to X matrix\n",
    "\n",
    "X = np.c_[np.ones((X.shape[0], 1)), X]\n",
    "# using this method to avoid problems in the matrix multipications within the minimizing function\n",
    "\n",
    "X.shape"
   ]
  },
  {
   "cell_type": "code",
   "execution_count": 8,
   "metadata": {},
   "outputs": [],
   "source": [
    "def sigmoid(z):\n",
    "    return 1/(1 + np.exp(-z))"
   ]
  },
  {
   "cell_type": "code",
   "execution_count": 9,
   "metadata": {},
   "outputs": [],
   "source": [
    "def costFunctionReg(theta, X, y, learningRate):\n",
    "    \"\"\"\n",
    "    X is (m, n+1) including intercept column\n",
    "    y is (m, 1)\n",
    "    theta is (n+1,1)\n",
    "    \"\"\"\n",
    "    m = X.shape[0]\n",
    "    h = sigmoid(np.dot(X, theta)) # h is hypothesis, h is (m,1) same as y\n",
    "    \n",
    "    term1 = np.dot(-y.T, np.log(h))\n",
    "    term2 = np.dot((1-y).T, np.log(1-h))\n",
    "    \n",
    "    # intercept term is not regularized i.e. theta[0]=0, \n",
    "    # here shape of theta need not be retained, end result cost is a scalar\n",
    "    regTerm = learningRate / (2 * m) * np.sum(np.square(theta[1:]))\n",
    "    \n",
    "    cost = (1/m) * np.sum(term1 - term2) + regTerm\n",
    "    \n",
    "    return cost"
   ]
  },
  {
   "cell_type": "code",
   "execution_count": 10,
   "metadata": {},
   "outputs": [],
   "source": [
    "def gradientReg(theta, X, y, learningRate):\n",
    "    \"\"\"\n",
    "    X is (m, n+1) including intercept column\n",
    "    y is (m, 1)\n",
    "    theta is (n+1,1)\n",
    "    \"\"\"    \n",
    "    m = X.shape[0]\n",
    "    h = sigmoid(np.dot(X, theta)) # h is hypothesis, h is (m,1) same as y\n",
    "    \n",
    "    # intercept term is not regularized\n",
    "    # this is only for regularization term and here shape of theta needs to be maintained for end result grad\n",
    "    theta[0] = 0\n",
    "    regTerm = (learningRate / m) * theta\n",
    "    \n",
    "    grad = (1/m) * np.dot(X.T, (h-y)) + regTerm # (n+1,m) * (m,1) =>(n+1,1) => same as theta\n",
    "    \n",
    "    return grad"
   ]
  },
  {
   "cell_type": "code",
   "execution_count": 11,
   "metadata": {},
   "outputs": [
    {
     "data": {
      "text/plain": [
       "(2.534819396109744,\n",
       " array([ 0.14656137, -0.54855841,  0.72472227,  1.39800296]))"
      ]
     },
     "execution_count": 11,
     "metadata": {},
     "output_type": "execute_result"
    }
   ],
   "source": [
    "# testing costFunctionReg and gradientReg with theta set to zeros\n",
    "\n",
    "testTheta = np.array([-2,-1,1,2])\n",
    "\n",
    "XTest = np.concatenate((np.ones((5,1)),\n",
    "np.fromiter((x/10 for x in range(1,16)), float).reshape((3,5)).T), axis = 1)\n",
    "\n",
    "yTest = np.array([1,0,1,0,1])\n",
    "lambdaTest = 3\n",
    "\n",
    "cost = costFunctionReg(testTheta, XTest, yTest, lambdaTest)\n",
    "grad = gradientReg(testTheta, XTest, yTest, lambdaTest)\n",
    "\n",
    "# Expected cost: \n",
    "# 2.534819\n",
    "\n",
    "#Expected gradients:\n",
    "# 0.146561\\n -0.548558\\n 0.724722\\n 1.398003\n",
    "\n",
    "cost, grad"
   ]
  },
  {
   "cell_type": "code",
   "execution_count": 12,
   "metadata": {},
   "outputs": [],
   "source": [
    "def one_vs_all(X, y, numLabels, learningRate):\n",
    "    \n",
    "    m = X.shape[0] # no of rows m\n",
    "    params = X.shape[1] # no of features (no of thetas) n+1 (X already has intercept term)\n",
    "    \n",
    "    # return var\n",
    "    allTheta = np.zeros((numLabels, params)) # (K, n+1) -> K labels/output classes, n features\n",
    "        \n",
    "    # labels are 1 - indexed not 0 indexed\n",
    "    for i in range(1, numLabels + 1):   \n",
    "\n",
    "        initialTheta = np.zeros((params, 1)) # (n+1,1)\n",
    "        \n",
    "        yClass = np.array([1 if label == i else 0 for label in y])\n",
    "        # y has 10 classes (1 to 10) distributed among 400 rows, \n",
    "        # for each count 'i' set only corresponding element of yClass to 1\n",
    "        # and all other elements to 0 \n",
    "        # thus transforming into a binary logistic regression problem (yes/no)\n",
    "        \n",
    "        yClass = np.reshape(yClass, (m,1))\n",
    "        # converting yClass from array (m,) to matrix (m,1)\n",
    "        \n",
    "        fmin = minimize(costFunctionReg, initialTheta, args = (X, yClass.ravel(), learningRate), \n",
    "                          method = 'TNC', jac = gradientReg, options = {'maxiter': 400})\n",
    "        \n",
    "        allTheta[i-1,:] = fmin.x\n",
    "        \n",
    "    return allTheta"
   ]
  },
  {
   "cell_type": "code",
   "execution_count": 13,
   "metadata": {},
   "outputs": [],
   "source": [
    "learningRate = 0.1\n",
    "# smaller lambda (learning rate), higher accuracy of final prediction \n",
    "# for lambda = 1, accuracy is 94.46%, for lambda = 0.1, accuracy is 96.46%\n",
    "# however minimizing function takes more time for smaller lambda\n",
    "\n",
    "numLabels = 10\n",
    "\n",
    "allTheta = one_vs_all(X, y, numLabels, learningRate)"
   ]
  },
  {
   "cell_type": "code",
   "execution_count": 14,
   "metadata": {},
   "outputs": [
    {
     "data": {
      "text/plain": [
       "((10, 401), (5000, 401), (5000, 1))"
      ]
     },
     "execution_count": 14,
     "metadata": {},
     "output_type": "execute_result"
    }
   ],
   "source": [
    "# checking output\n",
    "allTheta.shape, X.shape, y.shape"
   ]
  },
  {
   "cell_type": "code",
   "execution_count": 15,
   "metadata": {},
   "outputs": [
    {
     "data": {
      "text/plain": [
       "array([[-3.07209150e+00,  0.00000000e+00,  0.00000000e+00, ...,\n",
       "         6.83994259e-03, -2.93583111e-10,  0.00000000e+00],\n",
       "       [-3.73221215e+00,  0.00000000e+00,  0.00000000e+00, ...,\n",
       "         2.33346949e-02, -2.55932029e-03,  0.00000000e+00],\n",
       "       [-5.71267163e+00,  0.00000000e+00,  0.00000000e+00, ...,\n",
       "        -6.27868869e-05, -3.61375962e-07,  0.00000000e+00],\n",
       "       ...,\n",
       "       [-9.12551429e+00,  0.00000000e+00,  0.00000000e+00, ...,\n",
       "        -6.16739281e-04,  6.96212587e-05,  0.00000000e+00],\n",
       "       [-5.62189442e+00,  0.00000000e+00,  0.00000000e+00, ...,\n",
       "        -1.12771539e-02,  8.58907140e-04,  0.00000000e+00],\n",
       "       [-8.06799574e+00,  0.00000000e+00,  0.00000000e+00, ...,\n",
       "        -3.54044724e-05,  9.56083120e-07,  0.00000000e+00]])"
      ]
     },
     "execution_count": 15,
     "metadata": {},
     "output_type": "execute_result"
    }
   ],
   "source": [
    "# checking output\n",
    "allTheta"
   ]
  },
  {
   "cell_type": "code",
   "execution_count": 16,
   "metadata": {},
   "outputs": [],
   "source": [
    "def predictOneVsAll(allTheta, X):\n",
    "    \"\"\"\n",
    "    X is (m,n+1)\n",
    "    allTheta is (k,n+1)\n",
    "    \"\"\"\n",
    "    # prediction is hypothesis    \n",
    "    probs = sigmoid(np.dot(X, allTheta.T)) # (m,n+1) * (n+1,k) => (m,k)\n",
    "    \n",
    "    # create array of the index with the maximum probability\n",
    "    hArgmax = np.argmax(probs, axis=1)\n",
    "    # probs is (m,k) matrix. In each row, the index of the max element gives the label for that row\n",
    "    # so in row 3, if 7th element is max, then row 3 is label 7\n",
    "    \n",
    "    # arrays are 0 indexed but labels are 1 indexed\n",
    "    hArgmax = hArgmax + 1 # adding 1 to each element of array of type (m,)\n",
    "    \n",
    "    return hArgmax"
   ]
  },
  {
   "cell_type": "code",
   "execution_count": 17,
   "metadata": {},
   "outputs": [],
   "source": [
    "yPred = predictOneVsAll(allTheta, X)"
   ]
  },
  {
   "cell_type": "code",
   "execution_count": 18,
   "metadata": {},
   "outputs": [
    {
     "name": "stdout",
     "output_type": "stream",
     "text": [
      "Training set accuracy: 96.46000000000001 %\n"
     ]
    }
   ],
   "source": [
    "print('Training set accuracy: {} %'.format(np.mean(yPred == y.ravel())*100))"
   ]
  },
  {
   "cell_type": "code",
   "execution_count": 19,
   "metadata": {},
   "outputs": [],
   "source": [
    "# using SciKit Learn built in logistic regression functions\n",
    "\n",
    "from sklearn.linear_model import LogisticRegression"
   ]
  },
  {
   "cell_type": "code",
   "execution_count": 20,
   "metadata": {},
   "outputs": [
    {
     "data": {
      "text/plain": [
       "LogisticRegression(C=10, solver='liblinear')"
      ]
     },
     "execution_count": 20,
     "metadata": {},
     "output_type": "execute_result"
    }
   ],
   "source": [
    "clf = LogisticRegression(C=10, penalty='l2', solver='liblinear')\n",
    "# Scikit-learn fits intercept automatically, so we exclude first column with 'ones' from X when fitting.\n",
    "clf.fit(X[:,1:],y.ravel())"
   ]
  },
  {
   "cell_type": "code",
   "execution_count": 21,
   "metadata": {},
   "outputs": [
    {
     "name": "stdout",
     "output_type": "stream",
     "text": [
      "Training set accuracy: 96.5 %\n"
     ]
    }
   ],
   "source": [
    "pred2 = clf.predict(X[:,1:])\n",
    "print('Training set accuracy: {} %'.format(np.mean(pred2 == y.ravel())*100))"
   ]
  },
  {
   "cell_type": "code",
   "execution_count": null,
   "metadata": {},
   "outputs": [],
   "source": []
  }
 ],
 "metadata": {
  "kernelspec": {
   "display_name": "Python 3",
   "language": "python",
   "name": "python3"
  },
  "language_info": {
   "codemirror_mode": {
    "name": "ipython",
    "version": 3
   },
   "file_extension": ".py",
   "mimetype": "text/x-python",
   "name": "python",
   "nbconvert_exporter": "python",
   "pygments_lexer": "ipython3",
   "version": "3.8.3"
  }
 },
 "nbformat": 4,
 "nbformat_minor": 4
}
