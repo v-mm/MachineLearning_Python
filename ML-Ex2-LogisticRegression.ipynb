{
 "cells": [
  {
   "cell_type": "code",
   "execution_count": 1,
   "metadata": {},
   "outputs": [],
   "source": [
    "import numpy as np\n",
    "import pandas as pd\n",
    "import matplotlib.pyplot as plt\n",
    "%matplotlib inline"
   ]
  },
  {
   "cell_type": "code",
   "execution_count": 2,
   "metadata": {},
   "outputs": [],
   "source": [
    "import scipy.optimize as opt # needed for the minimize function"
   ]
  },
  {
   "cell_type": "code",
   "execution_count": 3,
   "metadata": {},
   "outputs": [
    {
     "data": {
      "text/html": [
       "<div>\n",
       "<style scoped>\n",
       "    .dataframe tbody tr th:only-of-type {\n",
       "        vertical-align: middle;\n",
       "    }\n",
       "\n",
       "    .dataframe tbody tr th {\n",
       "        vertical-align: top;\n",
       "    }\n",
       "\n",
       "    .dataframe thead th {\n",
       "        text-align: right;\n",
       "    }\n",
       "</style>\n",
       "<table border=\"1\" class=\"dataframe\">\n",
       "  <thead>\n",
       "    <tr style=\"text-align: right;\">\n",
       "      <th></th>\n",
       "      <th>Test1</th>\n",
       "      <th>Test2</th>\n",
       "      <th>Result</th>\n",
       "    </tr>\n",
       "  </thead>\n",
       "  <tbody>\n",
       "    <tr>\n",
       "      <th>0</th>\n",
       "      <td>34.623660</td>\n",
       "      <td>78.024693</td>\n",
       "      <td>0</td>\n",
       "    </tr>\n",
       "    <tr>\n",
       "      <th>1</th>\n",
       "      <td>30.286711</td>\n",
       "      <td>43.894998</td>\n",
       "      <td>0</td>\n",
       "    </tr>\n",
       "    <tr>\n",
       "      <th>2</th>\n",
       "      <td>35.847409</td>\n",
       "      <td>72.902198</td>\n",
       "      <td>0</td>\n",
       "    </tr>\n",
       "    <tr>\n",
       "      <th>3</th>\n",
       "      <td>60.182599</td>\n",
       "      <td>86.308552</td>\n",
       "      <td>1</td>\n",
       "    </tr>\n",
       "    <tr>\n",
       "      <th>4</th>\n",
       "      <td>79.032736</td>\n",
       "      <td>75.344376</td>\n",
       "      <td>1</td>\n",
       "    </tr>\n",
       "  </tbody>\n",
       "</table>\n",
       "</div>"
      ],
      "text/plain": [
       "       Test1      Test2  Result\n",
       "0  34.623660  78.024693       0\n",
       "1  30.286711  43.894998       0\n",
       "2  35.847409  72.902198       0\n",
       "3  60.182599  86.308552       1\n",
       "4  79.032736  75.344376       1"
      ]
     },
     "execution_count": 3,
     "metadata": {},
     "output_type": "execute_result"
    }
   ],
   "source": [
    "# load data from file using pandas dataframes\n",
    "\n",
    "path = \"D:\\Programming\\TestData\\ex2data1.txt\"\n",
    "data = pd.read_csv(path, header=None, names=['Test1', 'Test2', 'Result'])\n",
    "data.head()"
   ]
  },
  {
   "cell_type": "code",
   "execution_count": 4,
   "metadata": {},
   "outputs": [
    {
     "name": "stdout",
     "output_type": "stream",
     "text": [
      "(100, 2)\n",
      "       Test1      Test2\n",
      "0  34.623660  78.024693\n",
      "1  30.286711  43.894998\n",
      "2  35.847409  72.902198\n",
      "3  60.182599  86.308552\n",
      "4  79.032736  75.344376\n",
      "\n",
      "\n",
      "(100,)\n",
      "0    0\n",
      "1    0\n",
      "2    0\n",
      "3    1\n",
      "4    1\n",
      "Name: Result, dtype: int64\n"
     ]
    }
   ],
   "source": [
    "#extract X,y from data\n",
    "X = data.iloc[:, :-1] # all columns upto last column\n",
    "y = data.iloc[:, -1]  # last column\n",
    "\n",
    "print(X.shape)\n",
    "print(X[:5])\n",
    "print('\\n')\n",
    "print(y.shape)\n",
    "print(y[:5])\n",
    "\n",
    "# X, y are not yet matrices, but values in a dataframe"
   ]
  },
  {
   "cell_type": "code",
   "execution_count": 5,
   "metadata": {},
   "outputs": [
    {
     "data": {
      "text/plain": [
       "Text(0, 0.5, 'Test 2')"
      ]
     },
     "execution_count": 5,
     "metadata": {},
     "output_type": "execute_result"
    },
    {
     "data": {
      "image/png": "[encoded data removed]",
      "text/plain": [
       "<Figure size 432x288 with 1 Axes>"
      ]
     },
     "metadata": {
      "needs_background": "light"
     },
     "output_type": "display_data"
    }
   ],
   "source": [
    "# plot data\n",
    "\n",
    "#plot positive and negative indices\n",
    "pos = data['Result'] == 1\n",
    "neg = data['Result'] == 0\n",
    "\n",
    "fig, ax = plt.subplots(figsize = (6,4))\n",
    "\n",
    "ax.scatter(data[pos]['Test1'], data[pos]['Test2'], s=25, c='g', marker = '+', label = 'Admitted')\n",
    "ax.scatter(data[neg]['Test1'], data[neg]['Test2'], s=10, c='r', marker = 'o', label = 'Not Admitted')\n",
    "\n",
    "ax.legend()\n",
    "\n",
    "ax.set_xlabel('Test 1')\n",
    "ax.set_ylabel('Test 2')"
   ]
  },
  {
   "cell_type": "code",
   "execution_count": 6,
   "metadata": {},
   "outputs": [
    {
     "name": "stdout",
     "output_type": "stream",
     "text": [
      "(100, 3)\n",
      "[[ 1.         34.62365962 78.02469282]\n",
      " [ 1.         30.28671077 43.89499752]\n",
      " [ 1.         35.84740877 72.90219803]\n",
      " [ 1.         60.18259939 86.3085521 ]\n",
      " [ 1.         79.03273605 75.34437644]]\n"
     ]
    }
   ],
   "source": [
    "# add intercept term to X i.e. 1's column to X matrix\n",
    "\n",
    "#X = np.insert(X, 0, 1, axis = 1)\n",
    "X = np.c_[np.ones((X.shape[0], 1)), X]\n",
    "# using this method to avoid problems in the matrix multipications within the minimizing function\n",
    "\n",
    "print(X.shape)\n",
    "print(X[:5 ]) # first 5 rows of X"
   ]
  },
  {
   "cell_type": "code",
   "execution_count": 7,
   "metadata": {},
   "outputs": [
    {
     "name": "stdout",
     "output_type": "stream",
     "text": [
      "(100, 1)\n",
      "[[0]\n",
      " [0]\n",
      " [0]\n",
      " [1]\n",
      " [1]]\n"
     ]
    }
   ],
   "source": [
    "# converting y to a matrix (m,) => (m,1)\n",
    "\n",
    "y = y[:, np.newaxis]\n",
    "# using this method to avoid problems in the matrix multipications within the minimizing function\n",
    "\n",
    "print(y.shape)\n",
    "print(y[:5])"
   ]
  },
  {
   "cell_type": "code",
   "execution_count": 8,
   "metadata": {},
   "outputs": [],
   "source": [
    "def sigmoid(z):\n",
    "    \n",
    "    g = 1 / (1 + np.exp(-z))\n",
    "    \n",
    "    return g"
   ]
  },
  {
   "cell_type": "code",
   "execution_count": 9,
   "metadata": {},
   "outputs": [
    {
     "data": {
      "text/plain": [
       "[<matplotlib.lines.Line2D at 0x1eb60cfaa00>]"
      ]
     },
     "execution_count": 9,
     "metadata": {},
     "output_type": "execute_result"
    },
    {
     "data": {
      "image/png": "[encoded data removed]",
      "text/plain": [
       "<Figure size 432x288 with 1 Axes>"
      ]
     },
     "metadata": {
      "needs_background": "light"
     },
     "output_type": "display_data"
    }
   ],
   "source": [
    "# plot sigmoid function\n",
    "\n",
    "nums = np.arange(-5,5,step=1)\n",
    "fig,ax = plt.subplots(figsize=(6,4))\n",
    "\n",
    "ax.plot(nums, sigmoid(nums),'b')"
   ]
  },
  {
   "cell_type": "code",
   "execution_count": 10,
   "metadata": {},
   "outputs": [],
   "source": [
    "def costFunction(theta, X, y): # minimizing function expects operands in that order theta...X...y\n",
    "    \n",
    "    \"\"\"\n",
    "    #X is (m,n+1) / including intercept column of 1s\n",
    "    #y is (m,1)\n",
    "    #theta is (n+1,1)  \n",
    "    \"\"\"   \n",
    "    m = X.shape[0]     \n",
    "    h = sigmoid(np.dot(X, theta)) # X * theta => (m,n+1) * (n+1,1) => (m,1) => y\n",
    "    Term1 = np.dot(-y.T, np.log(h)) \n",
    "    Term2 = np.dot((1-y).T, np.log(1 - h))\n",
    "\n",
    "    cost = (1/m) * np.sum(Term1 - Term2)\n",
    "    \n",
    "    return cost\n"
   ]
  },
  {
   "cell_type": "code",
   "execution_count": 11,
   "metadata": {},
   "outputs": [
    {
     "data": {
      "text/plain": [
       "0.6931471805599452"
      ]
     },
     "execution_count": 11,
     "metadata": {},
     "output_type": "execute_result"
    }
   ],
   "source": [
    "# test cost function with theta all zeros\n",
    "theta = np.zeros((X.shape[1],1))\n",
    "costFunction(theta, X, y) # should return 0.693\n"
   ]
  },
  {
   "cell_type": "code",
   "execution_count": 12,
   "metadata": {},
   "outputs": [],
   "source": [
    "def gradient(theta, X, y): # minimizing function expects operands in that order theta...X...y\n",
    "    \n",
    "    \"\"\"\n",
    "    X is (m,n+1) / including intercept column of 1s\n",
    "    y is (m,1)\n",
    "    theta is (n+1,1)        \n",
    "    \"\"\" \n",
    "    m = X.shape[0]    \n",
    "    h = sigmoid(np.dot(X, theta)) # h = X * theta => (m,n+1)*(n+1,1) => (m,1) => y    \n",
    "    grad = (1/m) * np.dot(X.T, (h-y)) # (n+1,m) * (m,1) =>(n+1,1) => same as theta\n",
    "            \n",
    "    return grad # no need to flatten"
   ]
  },
  {
   "cell_type": "code",
   "execution_count": 13,
   "metadata": {},
   "outputs": [
    {
     "data": {
      "text/plain": [
       "array([[ -0.1       ],\n",
       "       [-12.00921659],\n",
       "       [-11.26284221]])"
      ]
     },
     "execution_count": 13,
     "metadata": {},
     "output_type": "execute_result"
    }
   ],
   "source": [
    "# test gradient function\n",
    "gradient(theta, X, y)\n"
   ]
  },
  {
   "cell_type": "code",
   "execution_count": 14,
   "metadata": {},
   "outputs": [
    {
     "name": "stdout",
     "output_type": "stream",
     "text": [
      "[[ 1.         34.62365962 78.02469282]\n",
      " [ 1.         30.28671077 43.89499752]\n",
      " [ 1.         35.84740877 72.90219803]\n",
      " [ 1.         60.18259939 86.3085521 ]\n",
      " [ 1.         79.03273605 75.34437644]]\n",
      "[[0]\n",
      " [0]\n",
      " [0]\n",
      " [1]\n",
      " [1]]\n",
      "[[0.]\n",
      " [0.]\n",
      " [0.]]\n"
     ]
    }
   ],
   "source": [
    "# check X, y and theta\n",
    "\n",
    "print(X[:5])\n",
    "print(y[:5])\n",
    "print(theta[:])"
   ]
  },
  {
   "cell_type": "code",
   "execution_count": 15,
   "metadata": {},
   "outputs": [
    {
     "data": {
      "text/plain": [
       "array([-25.16131863,   0.20623159,   0.20147149])"
      ]
     },
     "execution_count": 15,
     "metadata": {},
     "output_type": "execute_result"
    }
   ],
   "source": [
    "# minimize cost function\n",
    "# we don't run gradient descent, instead we use SciPy's built in Optimization function...\n",
    "# ...to minimize our costFunction and calculate gradients using our gradient function\n",
    "\n",
    "initialTheta = np.zeros((X.shape[1],1))\n",
    "\n",
    "result = opt.fmin_tnc(func = costFunction, x0 = initialTheta, fprime = gradient, args = (X,y.flatten()))\n",
    "\n",
    "parameters = result[0]\n",
    "\n",
    "parameters\n"
   ]
  },
  {
   "cell_type": "code",
   "execution_count": 16,
   "metadata": {},
   "outputs": [
    {
     "data": {
      "text/plain": [
       "0.2034977015894746"
      ]
     },
     "execution_count": 16,
     "metadata": {},
     "output_type": "execute_result"
    }
   ],
   "source": [
    "# minimum cost for computed thete\n",
    "theta = parameters\n",
    "minCost = costFunction(theta, X, y)\n",
    "\n",
    "minCost\n"
   ]
  },
  {
   "cell_type": "code",
   "execution_count": 17,
   "metadata": {},
   "outputs": [],
   "source": [
    "# decision boundary\n",
    "def plotDecisionBoundary(theta, X, y):\n",
    "\n",
    "    #load the dataset\n",
    "    path = \"D:\\Programming\\TestData\\ex2data1.txt\"\n",
    "    data = np.loadtxt(path, delimiter=',')\n",
    "\n",
    "    X = data[:, 0:2]\n",
    "    y = data[:, 2]\n",
    "    \n",
    "    pos = np.where(y == 1)\n",
    "    neg = np.where(y == 0)\n",
    "    \n",
    "    plt.scatter(X[pos, 0], X[pos, 1], s=25, c='g', marker = '+', label = 'Admitted')\n",
    "    plt.scatter(X[neg, 0], X[neg, 1], s=25, c='r', marker = 'o', label = 'Admitted')\n",
    "    \n",
    "    plt.xlabel('Test 1 score')\n",
    "    plt.ylabel('Test 2 score')\n",
    "    \n",
    "    plt.title('Scatter plot of training data')\n",
    "    \n",
    "    # draw the decision boundary\n",
    "    # you need 2 points to draw a straight line y = mx+c where m is slope\n",
    "    plot_X1 = np.array([min(X[:, 0]), max(X[:, 0])])\n",
    "    plot_X2 = -(theta[0] + theta[1] * plot_X1)/theta[2]\n",
    "    plt.plot(plot_X1, plot_X2, c='y', label = 'Decision Boundary')\n",
    "    \n",
    "    \n",
    "    #plt.legend(['Decision Boundary', 'Admitted', 'Not Admitted'])\n",
    "    plt.legend()\n",
    "    \n",
    "    plt.show()     \n",
    "    \n",
    "    return\n"
   ]
  },
  {
   "cell_type": "code",
   "execution_count": 18,
   "metadata": {},
   "outputs": [
    {
     "data": {
      "image/png": "[encoded data removed]",
      "text/plain": [
       "<Figure size 432x288 with 1 Axes>"
      ]
     },
     "metadata": {
      "needs_background": "light"
     },
     "output_type": "display_data"
    }
   ],
   "source": [
    "plotDecisionBoundary(theta, X, y)"
   ]
  },
  {
   "cell_type": "code",
   "execution_count": 19,
   "metadata": {},
   "outputs": [
    {
     "data": {
      "text/plain": [
       "0.7762906238555608"
      ]
     },
     "execution_count": 19,
     "metadata": {},
     "output_type": "execute_result"
    }
   ],
   "source": [
    "# predict test\n",
    "#For a student with an Exam 1 score, of 45 and an Exam 2 score of 85, you should expect to see an admission\n",
    "# probability of 0.776.\n",
    "\n",
    "# given Xi = [1 45 85]\n",
    "# theta (already computed from minimizing function)\n",
    "\n",
    "Xi = [1, 45, 85]\n",
    "\n",
    "prediction = sigmoid(np.dot(Xi, theta))\n",
    "prediction"
   ]
  },
  {
   "cell_type": "code",
   "execution_count": 20,
   "metadata": {},
   "outputs": [],
   "source": [
    "def predict(theta, X, threshold = 0.5):\n",
    "    hTheta = sigmoid(np.dot(X, theta))\n",
    "    p = hTheta >= threshold\n",
    "    return p.astype('int')"
   ]
  },
  {
   "cell_type": "code",
   "execution_count": 21,
   "metadata": {},
   "outputs": [],
   "source": [
    "p = predict(theta, X, 0.5)"
   ]
  },
  {
   "cell_type": "code",
   "execution_count": 22,
   "metadata": {},
   "outputs": [
    {
     "name": "stdout",
     "output_type": "stream",
     "text": [
      "Training Accuracy 89.0%\n"
     ]
    }
   ],
   "source": [
    "print('Training Accuracy {}%'.format(100 * sum(p == y.ravel())/p.size))"
   ]
  },
  {
   "cell_type": "code",
   "execution_count": null,
   "metadata": {},
   "outputs": [],
   "source": []
  }
 ],
 "metadata": {
  "kernelspec": {
   "display_name": "Python 3",
   "language": "python",
   "name": "python3"
  },
  "language_info": {
   "codemirror_mode": {
    "name": "ipython",
    "version": 3
   },
   "file_extension": ".py",
   "mimetype": "text/x-python",
   "name": "python",
   "nbconvert_exporter": "python",
   "pygments_lexer": "ipython3",
   "version": "3.8.3"
  }
 },
 "nbformat": 4,
 "nbformat_minor": 4
}
