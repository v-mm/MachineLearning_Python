{
 "cells": [
  {
   "cell_type": "code",
   "execution_count": 34,
   "metadata": {},
   "outputs": [],
   "source": [
    "import numpy as np"
   ]
  },
  {
   "cell_type": "code",
   "execution_count": 35,
   "metadata": {},
   "outputs": [],
   "source": [
    "# for SVM implementation\n",
    "from sklearn import svm"
   ]
  },
  {
   "cell_type": "code",
   "execution_count": 36,
   "metadata": {},
   "outputs": [],
   "source": [
    "# for processing words in the emails\n",
    "import re # regular expression manipulation\n",
    "from nltk.stem import PorterStemmer # for converting words into their 'stems'"
   ]
  },
  {
   "cell_type": "code",
   "execution_count": 37,
   "metadata": {},
   "outputs": [],
   "source": [
    "# for loading the data\n",
    "from scipy.io import loadmat"
   ]
  },
  {
   "cell_type": "code",
   "execution_count": 38,
   "metadata": {},
   "outputs": [],
   "source": [
    "# part 1\n",
    "# pre processing data"
   ]
  },
  {
   "cell_type": "code",
   "execution_count": 39,
   "metadata": {},
   "outputs": [],
   "source": [
    "# read email text file\n",
    "spam1Path = \"D:\\Programming\\TestData\\spamSample1.txt\"\n",
    "\n",
    "spam1Content = open(spam1Path, 'r').read()"
   ]
  },
  {
   "cell_type": "code",
   "execution_count": 40,
   "metadata": {},
   "outputs": [
    {
     "data": {
      "text/plain": [
       "'Do You Want To Make $1000 Or More Per Week?\\n\\n \\n\\nIf you are a motivated and qualified individual - I \\nwill personally demonstrate to you a system that will \\nmake you $1,000 per week or more! This is NOT mlm.\\n\\n \\n\\nCall our 24 hour pre-recorded number to get the \\ndetails.  \\n\\n \\n\\n000-456-789\\n\\n \\n\\nI need people who want to make serious money.  Make \\nthe call and get the facts. \\n\\nInvest 2 minutes in yourself now!\\n\\n \\n\\n000-456-789\\n\\n \\n\\nLooking forward to your call and I will introduce you \\nto people like yourself who\\nare currently making $10,000 plus per week!\\n\\n \\n\\n000-456-789\\n\\n\\n\\n3484lJGv6-241lEaN9080lRmS6-271WxHo7524qiyT5-438rjUv5615hQcf0-662eiDB9057dMtVl72\\n\\n'"
      ]
     },
     "execution_count": 40,
     "metadata": {},
     "output_type": "execute_result"
    }
   ],
   "source": [
    "spam1Content"
   ]
  },
  {
   "cell_type": "code",
   "execution_count": 41,
   "metadata": {},
   "outputs": [],
   "source": [
    "# read vocab list\n",
    "vocabPath = \"D:\\Programming\\TestData\\Vocab.txt\"\n",
    "\n",
    "vocabList = open(vocabPath).read()"
   ]
  },
  {
   "cell_type": "code",
   "execution_count": 42,
   "metadata": {},
   "outputs": [
    {
     "data": {
      "text/plain": [
       "'1\\taa\\n2\\tab\\n3\\tabil\\n4\\tabl\\n5\\tabout\\n6\\tabov\\n7\\tabsolut\\n8\\tabus\\n9\\tac\\n10\\taccept\\n11\\taccess\\n12\\taccord\\n13\\taccount\\n14\\tachiev\\n15\\tacquir\\n16\\tacross\\n17\\tact\\n18\\taction\\n19\\tactiv\\n20\\tactual\\n21\\tad\\n22\\tadam\\n23\\tadd\\n24\\taddit\\n25\\taddress\\n26\\tadministr\\n27\\tadult\\n28\\tadvanc\\n29\\tadvantag\\n30\\tadvertis\\n31\\tadvic\\n32\\tadvis\\n33\\tae\\n34\\taf\\n35\\taffect\\n36\\taffili\\n37\\tafford\\n38\\tafrica\\n39\\tafter\\n40\\tag\\n41\\tagain\\n42\\tagainst\\n43\\tagenc\\n44\\tagent\\n45\\tago\\n46\\tagre\\n47\\tagreement\\n48\\taid\\n49\\tair\\n50\\tal\\n51\\talb\\n52\\talign\\n53\\tall\\n54\\tallow\\n55\\talmost\\n56\\talon\\n57\\talong\\n58\\talreadi\\n59\\talsa\\n60\\talso\\n61\\taltern\\n62\\talthough\\n63\\talwai\\n64\\tam\\n65\\tamaz\\n66\\tamerica\\n67\\tamerican\\n68\\tamong\\n69\\tamount\\n70\\tamp\\n71\\tan\\n72\\tanalysi\\n73\\tanalyst\\n74\\tand\\n75\\tani\\n76\\tanim\\n77\\tannounc\\n78\\tannual\\n79\\tannuiti\\n80\\tanoth\\n81\\tanswer\\n82\\tanti\\n83\\tanumb\\n84\\tanybodi\\n85\\tanymor\\n86\\tanyon\\n87\\tanyth\\n88\\tanywai\\n89\\tanywher\\n90\\taol\\n91\\tap\\n92\\tapolog\\n93\\tapp\\n94\\tappar\\n95\\tappear\\n96\\tappl\\n97\\tappli\\n98\\tapplic\\n99\\tappreci\\n100\\tapproach\\n101\\tapprov\\n102\\tapt\\n103\\tar\\n104\\tarchiv\\n105\\tarea\\n106\\taren\\n107\\targument\\n108\\tarial\\n109\\tarm\\n110\\taround\\n111\\tarrai\\n112\\tarriv\\n113\\tart\\n114\\tarticl\\n115\\tartist\\n116\\tas\\n117\\tascii\\n118\\task\\n119\\tasset\\n120\\tassist\\n121\\tassoci\\n122\\tassum\\n123\\tassur\\n124\\tat\\n125\\tatol\\n126\\tattach\\n127\\tattack\\n128\\tattempt\\n129\\tattent\\n130\\tattornei\\n131\\tattract\\n132\\taudio\\n133\\taug\\n134\\taugust\\n135\\tauthor\\n136\\tauto\\n137\\tautom\\n138\\tautomat\\n139\\tavail\\n140\\taverag\\n141\\tavoid\\n142\\tawai\\n143\\tawar\\n144\\taward\\n145\\tba\\n146\\tbabi\\n147\\tback\\n148\\tbackground\\n149\\tbackup\\n150\\tbad\\n151\\tbalanc\\n152\\tban\\n153\\tbank\\n154\\tbar\\n155\\tbase\\n156\\tbasenumb\\n157\\tbasi\\n158\\tbasic\\n159\\tbb\\n160\\tbc\\n161\\tbd\\n162\\tbe\\n163\\tbeat\\n164\\tbeberg\\n165\\tbecaus\\n166\\tbecom\\n167\\tbeen\\n168\\tbefor\\n169\\tbegin\\n170\\tbehalf\\n171\\tbehavior\\n172\\tbehind\\n173\\tbeliev\\n174\\tbelow\\n175\\tbenefit\\n176\\tbest\\n177\\tbeta\\n178\\tbetter\\n179\\tbetween\\n180\\tbf\\n181\\tbig\\n182\\tbill\\n183\\tbillion\\n184\\tbin\\n185\\tbinari\\n186\\tbit\\n187\\tblack\\n188\\tblank\\n189\\tblock\\n190\\tblog\\n191\\tblood\\n192\\tblue\\n193\\tbnumber\\n194\\tboard\\n195\\tbodi\\n196\\tboi\\n197\\tbonu\\n198\\tbook\\n199\\tboot\\n200\\tborder\\n201\\tboss\\n202\\tboston\\n203\\tbotan\\n204\\tboth\\n205\\tbottl\\n206\\tbottom\\n207\\tboundari\\n208\\tbox\\n209\\tbrain\\n210\\tbrand\\n211\\tbreak\\n212\\tbrian\\n213\\tbring\\n214\\tbroadcast\\n215\\tbroker\\n216\\tbrowser\\n217\\tbug\\n218\\tbui\\n219\\tbuild\\n220\\tbuilt\\n221\\tbulk\\n222\\tburn\\n223\\tbush\\n224\\tbusi\\n225\\tbut\\n226\\tbutton\\n227\\tby\\n228\\tbyte\\n229\\tca\\n230\\tcabl\\n231\\tcach\\n232\\tcalcul\\n233\\tcalifornia\\n234\\tcall\\n235\\tcame\\n236\\tcamera\\n237\\tcampaign\\n238\\tcan\\n239\\tcanada\\n240\\tcannot\\n241\\tcanon\\n242\\tcapabl\\n243\\tcapillari\\n244\\tcapit\\n245\\tcar\\n246\\tcard\\n247\\tcare\\n248\\tcareer\\n249\\tcarri\\n250\\tcartridg\\n251\\tcase\\n252\\tcash\\n253\\tcat\\n254\\tcatch\\n255\\tcategori\\n256\\tcaus\\n257\\tcb\\n258\\tcc\\n259\\tcd\\n260\\tce\\n261\\tcell\\n262\\tcent\\n263\\tcenter\\n264\\tcentral\\n265\\tcenturi\\n266\\tceo\\n267\\tcertain\\n268\\tcertainli\\n269\\tcf\\n270\\tchalleng\\n271\\tchanc\\n272\\tchang\\n273\\tchannel\\n274\\tchar\\n275\\tcharact\\n276\\tcharg\\n277\\tcharset\\n278\\tchat\\n279\\tcheap\\n280\\tcheck\\n281\\tcheer\\n282\\tchief\\n283\\tchildren\\n284\\tchina\\n285\\tchip\\n286\\tchoic\\n287\\tchoos\\n288\\tchri\\n289\\tciti\\n290\\tcitizen\\n291\\tcivil\\n292\\tclaim\\n293\\tclass\\n294\\tclassifi\\n295\\tclean\\n296\\tclear\\n297\\tclearli\\n298\\tclick\\n299\\tclient\\n300\\tclose\\n301\\tclue\\n302\\tcnet\\n303\\tcnumber\\n304\\tco\\n305\\tcode\\n306\\tcollect\\n307\\tcolleg\\n308\\tcolor\\n309\\tcom\\n310\\tcombin\\n311\\tcome\\n312\\tcomfort\\n313\\tcommand\\n314\\tcomment\\n315\\tcommentari\\n316\\tcommerci\\n317\\tcommiss\\n318\\tcommit\\n319\\tcommon\\n320\\tcommun\\n321\\tcompani\\n322\\tcompar\\n323\\tcomparison\\n324\\tcompat\\n325\\tcompet\\n326\\tcompetit\\n327\\tcompil\\n328\\tcomplet\\n329\\tcomprehens\\n330\\tcomput\\n331\\tconcentr\\n332\\tconcept\\n333\\tconcern\\n334\\tcondit\\n335\\tconf\\n336\\tconfer\\n337\\tconfid\\n338\\tconfidenti\\n339\\tconfig\\n340\\tconfigur\\n341\\tconfirm\\n342\\tconflict\\n343\\tconfus\\n344\\tcongress\\n345\\tconnect\\n346\\tconsid\\n347\\tconsolid\\n348\\tconstitut\\n349\\tconstruct\\n350\\tconsult\\n351\\tconsum\\n352\\tcontact\\n353\\tcontain\\n354\\tcontent\\n355\\tcontinu\\n356\\tcontract\\n357\\tcontribut\\n358\\tcontrol\\n359\\tconveni\\n360\\tconvers\\n361\\tconvert\\n362\\tcool\\n363\\tcooper\\n364\\tcopi\\n365\\tcopyright\\n366\\tcore\\n367\\tcorpor\\n368\\tcorrect\\n369\\tcorrespond\\n370\\tcost\\n371\\tcould\\n372\\tcouldn\\n373\\tcount\\n374\\tcountri\\n375\\tcoupl\\n376\\tcours\\n377\\tcourt\\n378\\tcover\\n379\\tcoverag\\n380\\tcrash\\n381\\tcreat\\n382\\tcreativ\\n383\\tcredit\\n384\\tcritic\\n385\\tcross\\n386\\tcultur\\n387\\tcurrent\\n388\\tcustom\\n389\\tcut\\n390\\tcv\\n391\\tda\\n392\\tdagga\\n393\\tdai\\n394\\tdaili\\n395\\tdan\\n396\\tdanger\\n397\\tdark\\n398\\tdata\\n399\\tdatabas\\n400\\tdatapow\\n401\\tdate\\n402\\tdave\\n403\\tdavid\\n404\\tdc\\n405\\tde\\n406\\tdead\\n407\\tdeal\\n408\\tdear\\n409\\tdeath\\n410\\tdebt\\n411\\tdecad\\n412\\tdecid\\n413\\tdecis\\n414\\tdeclar\\n415\\tdeclin\\n416\\tdecor\\n417\\tdefault\\n418\\tdefend\\n419\\tdefens\\n420\\tdefin\\n421\\tdefinit\\n422\\tdegre\\n423\\tdelai\\n424\\tdelet\\n425\\tdeliv\\n426\\tdeliveri\\n427\\tdell\\n428\\tdemand\\n429\\tdemocrat\\n430\\tdepart\\n431\\tdepend\\n432\\tdeposit\\n433\\tdescrib\\n434\\tdescript\\n435\\tdeserv\\n436\\tdesign\\n437\\tdesir\\n438\\tdesktop\\n439\\tdespit\\n440\\tdetail\\n441\\tdetect\\n442\\tdetermin\\n443\\tdev\\n444\\tdevel\\n445\\tdevelop\\n446\\tdevic\\n447\\tdi\\n448\\tdial\\n449\\tdid\\n450\\tdidn\\n451\\tdiet\\n452\\tdiffer\\n453\\tdifficult\\n454\\tdigit\\n455\\tdirect\\n456\\tdirectli\\n457\\tdirector\\n458\\tdirectori\\n459\\tdisabl\\n460\\tdiscount\\n461\\tdiscov\\n462\\tdiscoveri\\n463\\tdiscuss\\n464\\tdisk\\n465\\tdisplai\\n466\\tdisposit\\n467\\tdistanc\\n468\\tdistribut\\n469\\tdn\\n470\\tdnumber\\n471\\tdo\\n472\\tdoc\\n473\\tdocument\\n474\\tdoe\\n475\\tdoer\\n476\\tdoesn\\n477\\tdollar\\n478\\tdollarac\\n479\\tdollarnumb\\n480\\tdomain\\n481\\tdon\\n482\\tdone\\n483\\tdont\\n484\\tdoubl\\n485\\tdoubt\\n486\\tdown\\n487\\tdownload\\n488\\tdr\\n489\\tdraw\\n490\\tdream\\n491\\tdrive\\n492\\tdriver\\n493\\tdrop\\n494\\tdrug\\n495\\tdue\\n496\\tdure\\n497\\tdvd\\n498\\tdw\\n499\\tdynam\\n500\\tea\\n501\\teach\\n502\\tearli\\n503\\tearlier\\n504\\tearn\\n505\\tearth\\n506\\teasi\\n507\\teasier\\n508\\teasili\\n509\\teat\\n510\\teb\\n511\\tebai\\n512\\tec\\n513\\techo\\n514\\teconom\\n515\\teconomi\\n516\\ted\\n517\\tedg\\n518\\tedit\\n519\\teditor\\n520\\teduc\\n521\\teff\\n522\\teffect\\n523\\teffici\\n524\\teffort\\n525\\teither\\n526\\tel\\n527\\telectron\\n528\\telimin\\n529\\tels\\n530\\temail\\n531\\temailaddr\\n532\\temerg\\n533\\tempir\\n534\\temploy\\n535\\temploye\\n536\\ten\\n537\\tenabl\\n538\\tencod\\n539\\tencourag\\n540\\tend\\n541\\tenemi\\n542\\tenenkio\\n543\\tenergi\\n544\\tengin\\n545\\tenglish\\n546\\tenhanc\\n547\\tenjoi\\n548\\tenough\\n549\\tensur\\n550\\tenter\\n551\\tenterpris\\n552\\tentertain\\n553\\tentir\\n554\\tentri\\n555\\tenumb\\n556\\tenviron\\n557\\tequal\\n558\\tequip\\n559\\tequival\\n560\\terror\\n561\\tespeci\\n562\\tessenti\\n563\\testablish\\n564\\testat\\n565\\testim\\n566\\tet\\n567\\tetc\\n568\\teuro\\n569\\teurop\\n570\\teuropean\\n571\\teven\\n572\\tevent\\n573\\teventu\\n574\\tever\\n575\\teveri\\n576\\teveryon\\n577\\teveryth\\n578\\tevid\\n579\\tevil\\n580\\texactli\\n581\\texampl\\n582\\texcel\\n583\\texcept\\n584\\texchang\\n585\\texcit\\n586\\texclus\\n587\\texecut\\n588\\texercis\\n589\\texist\\n590\\texmh\\n591\\texpand\\n592\\texpect\\n593\\texpens\\n594\\texperi\\n595\\texpert\\n596\\texpir\\n597\\texplain\\n598\\texplor\\n599\\texpress\\n600\\textend\\n601\\textens\\n602\\textra\\n603\\textract\\n604\\textrem\\n605\\tey\\n606\\tfa\\n607\\tface\\n608\\tfact\\n609\\tfactor\\n610\\tfail\\n611\\tfair\\n612\\tfall\\n613\\tfals\\n614\\tfamili\\n615\\tfaq\\n616\\tfar\\n617\\tfast\\n618\\tfaster\\n619\\tfastest\\n620\\tfat\\n621\\tfather\\n622\\tfavorit\\n623\\tfax\\n624\\tfb\\n625\\tfd\\n626\\tfeatur\\n627\\tfeder\\n628\\tfee\\n629\\tfeed\\n630\\tfeedback\\n631\\tfeel\\n632\\tfemal\\n633\\tfew\\n634\\tffffff\\n635\\tffnumber\\n636\\tfield\\n637\\tfight\\n638\\tfigur\\n639\\tfile\\n640\\tfill\\n641\\tfilm\\n642\\tfilter\\n643\\tfinal\\n644\\tfinanc\\n645\\tfinanci\\n646\\tfind\\n647\\tfine\\n648\\tfinish\\n649\\tfire\\n650\\tfirewal\\n651\\tfirm\\n652\\tfirst\\n653\\tfit\\n654\\tfive\\n655\\tfix\\n656\\tflag\\n657\\tflash\\n658\\tflow\\n659\\tfnumber\\n660\\tfocu\\n661\\tfolder\\n662\\tfolk\\n663\\tfollow\\n664\\tfont\\n665\\tfood\\n666\\tfor\\n667\\tforc\\n668\\tforeign\\n669\\tforev\\n670\\tforget\\n671\\tfork\\n672\\tform\\n673\\tformat\\n674\\tformer\\n675\\tfortun\\n676\\tforward\\n677\\tfound\\n678\\tfoundat\\n679\\tfour\\n680\\tfranc\\n681\\tfree\\n682\\tfreedom\\n683\\tfrench\\n684\\tfreshrpm\\n685\\tfri\\n686\\tfridai\\n687\\tfriend\\n688\\tfrom\\n689\\tfront\\n690\\tftoc\\n691\\tftp\\n692\\tfull\\n693\\tfulli\\n694\\tfun\\n695\\tfunction\\n696\\tfund\\n697\\tfurther\\n698\\tfutur\\n699\\tga\\n700\\tgain\\n701\\tgame\\n702\\tgari\\n703\\tgarrigu\\n704\\tgave\\n705\\tgcc\\n706\\tgeek\\n707\\tgener\\n708\\tget\\n709\\tgif\\n710\\tgift\\n711\\tgirl\\n712\\tgive\\n713\\tgiven\\n714\\tglobal\\n715\\tgnome\\n716\\tgnu\\n717\\tgnupg\\n718\\tgo\\n719\\tgoal\\n720\\tgod\\n721\\tgoe\\n722\\tgold\\n723\\tgone\\n724\\tgood\\n725\\tgoogl\\n726\\tgot\\n727\\tgovern\\n728\\tgpl\\n729\\tgrand\\n730\\tgrant\\n731\\tgraphic\\n732\\tgreat\\n733\\tgreater\\n734\\tground\\n735\\tgroup\\n736\\tgrow\\n737\\tgrowth\\n738\\tgt\\n739\\tguarante\\n740\\tguess\\n741\\tgui\\n742\\tguid\\n743\\tha\\n744\\thack\\n745\\thad\\n746\\thalf\\n747\\tham\\n748\\thand\\n749\\thandl\\n750\\thappen\\n751\\thappi\\n752\\thard\\n753\\thardwar\\n754\\that\\n755\\thate\\n756\\thave\\n757\\thaven\\n758\\the\\n759\\thead\\n760\\theader\\n761\\theadlin\\n762\\thealth\\n763\\thear\\n764\\theard\\n765\\theart\\n766\\theaven\\n767\\thei\\n768\\theight\\n769\\theld\\n770\\thello\\n771\\thelp\\n772\\thelvetica\\n773\\ther\\n774\\therba\\n775\\there\\n776\\thermio\\n777\\thettinga\\n778\\thi\\n779\\thigh\\n780\\thigher\\n781\\thighli\\n782\\thighlight\\n783\\thim\\n784\\thistori\\n785\\thit\\n786\\thold\\n787\\thome\\n788\\thonor\\n789\\thope\\n790\\thost\\n791\\thot\\n792\\thour\\n793\\thous\\n794\\thow\\n795\\thowev\\n796\\thp\\n797\\thtml\\n798\\thttp\\n799\\thttpaddr\\n800\\thuge\\n801\\thuman\\n802\\thundr\\n803\\tibm\\n804\\tid\\n805\\tidea\\n806\\tident\\n807\\tidentifi\\n808\\tidnumb\\n809\\tie\\n810\\tif\\n811\\tignor\\n812\\tii\\n813\\tiii\\n814\\tiiiiiiihnumberjnumberhnumberjnumberhnumb\\n815\\tilleg\\n816\\tim\\n817\\timag\\n818\\timagin\\n819\\timmedi\\n820\\timpact\\n821\\timplement\\n822\\timport\\n823\\timpress\\n824\\timprov\\n825\\tin\\n826\\tinc\\n827\\tinclud\\n828\\tincom\\n829\\tincreas\\n830\\tincred\\n831\\tinde\\n832\\tindepend\\n833\\tindex\\n834\\tindia\\n835\\tindian\\n836\\tindic\\n837\\tindividu\\n838\\tindustri\\n839\\tinfo\\n840\\tinform\\n841\\tiniti\\n842\\tinlin\\n843\\tinnov\\n844\\tinput\\n845\\tinsert\\n846\\tinsid\\n847\\tinstal\\n848\\tinstanc\\n849\\tinstant\\n850\\tinstead\\n851\\tinstitut\\n852\\tinstruct\\n853\\tinsur\\n854\\tint\\n855\\tintegr\\n856\\tintel\\n857\\tintellig\\n858\\tintend\\n859\\tinteract\\n860\\tinterest\\n861\\tinterfac\\n862\\tintern\\n863\\tinternet\\n864\\tinterview\\n865\\tinto\\n866\\tintro\\n867\\tintroduc\\n868\\tinumb\\n869\\tinvest\\n870\\tinvestig\\n871\\tinvestor\\n872\\tinvok\\n873\\tinvolv\\n874\\tip\\n875\\tireland\\n876\\tirish\\n877\\tis\\n878\\tisland\\n879\\tisn\\n880\\tiso\\n881\\tisp\\n882\\tissu\\n883\\tit\\n884\\titem\\n885\\titself\\n886\\tjabber\\n887\\tjame\\n888\\tjava\\n889\\tjim\\n890\\tjnumberiiiiiiihepihepihf\\n891\\tjob\\n892\\tjoe\\n893\\tjohn\\n894\\tjoin\\n895\\tjournal\\n896\\tjudg\\n897\\tjudgment\\n898\\tjul\\n899\\tjuli\\n900\\tjump\\n901\\tjune\\n902\\tjust\\n903\\tjustin\\n904\\tkeep\\n905\\tkei\\n906\\tkept\\n907\\tkernel\\n908\\tkevin\\n909\\tkeyboard\\n910\\tkid\\n911\\tkill\\n912\\tkind\\n913\\tking\\n914\\tkingdom\\n915\\tknew\\n916\\tknow\\n917\\tknowledg\\n918\\tknown\\n919\\tla\\n920\\tlack\\n921\\tland\\n922\\tlanguag\\n923\\tlaptop\\n924\\tlarg\\n925\\tlarger\\n926\\tlargest\\n927\\tlaser\\n928\\tlast\\n929\\tlate\\n930\\tlater\\n931\\tlatest\\n932\\tlaunch\\n933\\tlaw\\n934\\tlawrenc\\n935\\tle\\n936\\tlead\\n937\\tleader\\n938\\tlearn\\n939\\tleast\\n940\\tleav\\n941\\tleft\\n942\\tlegal\\n943\\tlender\\n944\\tlength\\n945\\tless\\n946\\tlesson\\n947\\tlet\\n948\\tletter\\n949\\tlevel\\n950\\tlib\\n951\\tlibrari\\n952\\tlicens\\n953\\tlife\\n954\\tlifetim\\n955\\tlight\\n956\\tlike\\n957\\tlimit\\n958\\tline\\n959\\tlink\\n960\\tlinux\\n961\\tlist\\n962\\tlisten\\n963\\tlittl\\n964\\tlive\\n965\\tll\\n966\\tlo\\n967\\tload\\n968\\tloan\\n969\\tlocal\\n970\\tlocat\\n971\\tlock\\n972\\tlockergnom\\n973\\tlog\\n974\\tlong\\n975\\tlonger\\n976\\tlook\\n977\\tlose\\n978\\tloss\\n979\\tlost\\n980\\tlot\\n981\\tlove\\n982\\tlow\\n983\\tlower\\n984\\tlowest\\n985\\tlt\\n986\\tma\\n987\\tmac\\n988\\tmachin\\n989\\tmade\\n990\\tmagazin\\n991\\tmai\\n992\\tmail\\n993\\tmailer\\n994\\tmain\\n995\\tmaintain\\n996\\tmajor\\n997\\tmake\\n998\\tmaker\\n999\\tmale\\n1000\\tman\\n1001\\tmanag\\n1002\\tmani\\n1003\\tmanual\\n1004\\tmanufactur\\n1005\\tmap\\n1006\\tmarch\\n1007\\tmargin\\n1008\\tmark\\n1009\\tmarket\\n1010\\tmarshal\\n1011\\tmass\\n1012\\tmaster\\n1013\\tmatch\\n1014\\tmateri\\n1015\\tmatter\\n1016\\tmatthia\\n1017\\tmayb\\n1018\\tme\\n1019\\tmean\\n1020\\tmeasur\\n1021\\tmechan\\n1022\\tmedia\\n1023\\tmedic\\n1024\\tmeet\\n1025\\tmember\\n1026\\tmembership\\n1027\\tmemori\\n1028\\tmen\\n1029\\tmention\\n1030\\tmenu\\n1031\\tmerchant\\n1032\\tmessag\\n1033\\tmethod\\n1034\\tmh\\n1035\\tmichael\\n1036\\tmicrosoft\\n1037\\tmiddl\\n1038\\tmight\\n1039\\tmike\\n1040\\tmile\\n1041\\tmilitari\\n1042\\tmillion\\n1043\\tmime\\n1044\\tmind\\n1045\\tmine\\n1046\\tmini\\n1047\\tminimum\\n1048\\tminut\\n1049\\tmiss\\n1050\\tmistak\\n1051\\tmobil\\n1052\\tmode\\n1053\\tmodel\\n1054\\tmodem\\n1055\\tmodifi\\n1056\\tmodul\\n1057\\tmoment\\n1058\\tmon\\n1059\\tmondai\\n1060\\tmonei\\n1061\\tmonitor\\n1062\\tmonth\\n1063\\tmonthli\\n1064\\tmore\\n1065\\tmorn\\n1066\\tmortgag\\n1067\\tmost\\n1068\\tmostli\\n1069\\tmother\\n1070\\tmotiv\\n1071\\tmove\\n1072\\tmovi\\n1073\\tmpnumber\\n1074\\tmr\\n1075\\tms\\n1076\\tmsg\\n1077\\tmuch\\n1078\\tmulti\\n1079\\tmultipart\\n1080\\tmultipl\\n1081\\tmurphi\\n1082\\tmusic\\n1083\\tmust\\n1084\\tmy\\n1085\\tmyself\\n1086\\tname\\n1087\\tnation\\n1088\\tnatur\\n1089\\tnbsp\\n1090\\tnear\\n1091\\tnearli\\n1092\\tnecessari\\n1093\\tneed\\n1094\\tneg\\n1095\\tnet\\n1096\\tnetscap\\n1097\\tnetwork\\n1098\\tnever\\n1099\\tnew\\n1100\\tnewslett\\n1101\\tnext\\n1102\\tnextpart\\n1103\\tnice\\n1104\\tnigeria\\n1105\\tnight\\n1106\\tno\\n1107\\tnobodi\\n1108\\tnon\\n1109\\tnone\\n1110\\tnor\\n1111\\tnormal\\n1112\\tnorth\\n1113\\tnot\\n1114\\tnote\\n1115\\tnoth\\n1116\\tnotic\\n1117\\tnow\\n1118\\tnt\\n1119\\tnull\\n1120\\tnumber\\n1121\\tnumbera\\n1122\\tnumberam\\n1123\\tnumberanumb\\n1124\\tnumberb\\n1125\\tnumberbit\\n1126\\tnumberc\\n1127\\tnumbercb\\n1128\\tnumbercbr\\n1129\\tnumbercfont\\n1130\\tnumbercli\\n1131\\tnumbercnumb\\n1132\\tnumbercp\\n1133\\tnumberctd\\n1134\\tnumberd\\n1135\\tnumberdari\\n1136\\tnumberdnumb\\n1137\\tnumberenumb\\n1138\\tnumberf\\n1139\\tnumberfb\\n1140\\tnumberff\\n1141\\tnumberffont\\n1142\\tnumberfp\\n1143\\tnumberftd\\n1144\\tnumberk\\n1145\\tnumberm\\n1146\\tnumbermb\\n1147\\tnumberp\\n1148\\tnumberpd\\n1149\\tnumberpm\\n1150\\tnumberpx\\n1151\\tnumberst\\n1152\\tnumberth\\n1153\\tnumbertnumb\\n1154\\tnumberx\\n1155\\tobject\\n1156\\toblig\\n1157\\tobtain\\n1158\\tobvious\\n1159\\toccur\\n1160\\toct\\n1161\\toctob\\n1162\\tof\\n1163\\toff\\n1164\\toffer\\n1165\\toffic\\n1166\\toffici\\n1167\\toften\\n1168\\toh\\n1169\\tok\\n1170\\told\\n1171\\ton\\n1172\\tonc\\n1173\\tonli\\n1174\\tonlin\\n1175\\topen\\n1176\\toper\\n1177\\topinion\\n1178\\topportun\\n1179\\topt\\n1180\\toptim\\n1181\\toption\\n1182\\tor\\n1183\\torder\\n1184\\torg\\n1185\\torgan\\n1186\\torigin\\n1187\\tos\\n1188\\tosdn\\n1189\\tother\\n1190\\totherwis\\n1191\\tour\\n1192\\tout\\n1193\\toutlook\\n1194\\toutput\\n1195\\toutsid\\n1196\\tover\\n1197\\town\\n1198\\towner\\n1199\\toz\\n1200\\tpacif\\n1201\\tpack\\n1202\\tpackag\\n1203\\tpage\\n1204\\tpai\\n1205\\tpaid\\n1206\\tpain\\n1207\\tpalm\\n1208\\tpanel\\n1209\\tpaper\\n1210\\tparagraph\\n1211\\tparent\\n1212\\tpart\\n1213\\tparti\\n1214\\tparticip\\n1215\\tparticular\\n1216\\tparticularli\\n1217\\tpartit\\n1218\\tpartner\\n1219\\tpass\\n1220\\tpassword\\n1221\\tpast\\n1222\\tpatch\\n1223\\tpatent\\n1224\\tpath\\n1225\\tpattern\\n1226\\tpaul\\n1227\\tpayment\\n1228\\tpc\\n1229\\tpeac\\n1230\\tpeopl\\n1231\\tper\\n1232\\tpercent\\n1233\\tpercentag\\n1234\\tperfect\\n1235\\tperfectli\\n1236\\tperform\\n1237\\tperhap\\n1238\\tperiod\\n1239\\tperl\\n1240\\tperman\\n1241\\tpermiss\\n1242\\tperson\\n1243\\tpgp\\n1244\\tphone\\n1245\\tphoto\\n1246\\tphp\\n1247\\tphrase\\n1248\\tphysic\\n1249\\tpick\\n1250\\tpictur\\n1251\\tpiec\\n1252\\tpiiiiiiii\\n1253\\tpipe\\n1254\\tpjnumber\\n1255\\tplace\\n1256\\tplai\\n1257\\tplain\\n1258\\tplan\\n1259\\tplanet\\n1260\\tplant\\n1261\\tplanta\\n1262\\tplatform\\n1263\\tplayer\\n1264\\tpleas\\n1265\\tplu\\n1266\\tplug\\n1267\\tpm\\n1268\\tpocket\\n1269\\tpoint\\n1270\\tpolic\\n1271\\tpolici\\n1272\\tpolit\\n1273\\tpoor\\n1274\\tpop\\n1275\\tpopul\\n1276\\tpopular\\n1277\\tport\\n1278\\tposit\\n1279\\tpossibl\\n1280\\tpost\\n1281\\tpotenti\\n1282\\tpound\\n1283\\tpowel\\n1284\\tpower\\n1285\\tpowershot\\n1286\\tpractic\\n1287\\tpre\\n1288\\tpredict\\n1289\\tprefer\\n1290\\tpremium\\n1291\\tprepar\\n1292\\tpresent\\n1293\\tpresid\\n1294\\tpress\\n1295\\tpretti\\n1296\\tprevent\\n1297\\tpreviou\\n1298\\tprevious\\n1299\\tprice\\n1300\\tprincipl\\n1301\\tprint\\n1302\\tprintabl\\n1303\\tprinter\\n1304\\tprivaci\\n1305\\tprivat\\n1306\\tprize\\n1307\\tpro\\n1308\\tprobabl\\n1309\\tproblem\\n1310\\tprocedur\\n1311\\tprocess\\n1312\\tprocessor\\n1313\\tprocmail\\n1314\\tproduc\\n1315\\tproduct\\n1316\\tprofession\\n1317\\tprofil\\n1318\\tprofit\\n1319\\tprogram\\n1320\\tprogramm\\n1321\\tprogress\\n1322\\tproject\\n1323\\tpromis\\n1324\\tpromot\\n1325\\tprompt\\n1326\\tproperti\\n1327\\tpropos\\n1328\\tproprietari\\n1329\\tprospect\\n1330\\tprotect\\n1331\\tprotocol\\n1332\\tprove\\n1333\\tproven\\n1334\\tprovid\\n1335\\tproxi\\n1336\\tpub\\n1337\\tpublic\\n1338\\tpublish\\n1339\\tpudg\\n1340\\tpull\\n1341\\tpurchas\\n1342\\tpurpos\\n1343\\tput\\n1344\\tpython\\n1345\\tqnumber\\n1346\\tqualifi\\n1347\\tqualiti\\n1348\\tquarter\\n1349\\tquestion\\n1350\\tquick\\n1351\\tquickli\\n1352\\tquit\\n1353\\tquot\\n1354\\tradio\\n1355\\tragga\\n1356\\trais\\n1357\\trandom\\n1358\\trang\\n1359\\trate\\n1360\\trather\\n1361\\tratio\\n1362\\trazor\\n1363\\trazornumb\\n1364\\tre\\n1365\\treach\\n1366\\tread\\n1367\\treader\\n1368\\treadi\\n1369\\treal\\n1370\\trealiz\\n1371\\trealli\\n1372\\treason\\n1373\\treceiv\\n1374\\trecent\\n1375\\trecipi\\n1376\\trecommend\\n1377\\trecord\\n1378\\tred\\n1379\\tredhat\\n1380\\treduc\\n1381\\trefer\\n1382\\trefin\\n1383\\treg\\n1384\\tregard\\n1385\\tregion\\n1386\\tregist\\n1387\\tregul\\n1388\\tregular\\n1389\\trel\\n1390\\trelat\\n1391\\trelationship\\n1392\\treleas\\n1393\\trelev\\n1394\\treliabl\\n1395\\tremain\\n1396\\trememb\\n1397\\tremot\\n1398\\tremov\\n1399\\treplac\\n1400\\trepli\\n1401\\treport\\n1402\\trepositori\\n1403\\trepres\\n1404\\trepubl\\n1405\\trequest\\n1406\\trequir\\n1407\\tresearch\\n1408\\treserv\\n1409\\tresid\\n1410\\tresourc\\n1411\\trespect\\n1412\\trespond\\n1413\\trespons\\n1414\\trest\\n1415\\tresult\\n1416\\tretail\\n1417\\treturn\\n1418\\treveal\\n1419\\trevenu\\n1420\\trevers\\n1421\\treview\\n1422\\trevok\\n1423\\trh\\n1424\\trich\\n1425\\tright\\n1426\\trisk\\n1427\\troad\\n1428\\trobert\\n1429\\trock\\n1430\\trole\\n1431\\troll\\n1432\\trom\\n1433\\troman\\n1434\\troom\\n1435\\troot\\n1436\\tround\\n1437\\trpm\\n1438\\trss\\n1439\\trule\\n1440\\trun\\n1441\\tsa\\n1442\\tsafe\\n1443\\tsai\\n1444\\tsaid\\n1445\\tsale\\n1446\\tsame\\n1447\\tsampl\\n1448\\tsan\\n1449\\tsaou\\n1450\\tsat\\n1451\\tsatellit\\n1452\\tsave\\n1453\\tsaw\\n1454\\tscan\\n1455\\tschedul\\n1456\\tschool\\n1457\\tscienc\\n1458\\tscore\\n1459\\tscreen\\n1460\\tscript\\n1461\\tse\\n1462\\tsearch\\n1463\\tseason\\n1464\\tsecond\\n1465\\tsecret\\n1466\\tsection\\n1467\\tsecur\\n1468\\tsee\\n1469\\tseed\\n1470\\tseek\\n1471\\tseem\\n1472\\tseen\\n1473\\tselect\\n1474\\tself\\n1475\\tsell\\n1476\\tseminar\\n1477\\tsend\\n1478\\tsender\\n1479\\tsendmail\\n1480\\tsenior\\n1481\\tsens\\n1482\\tsensit\\n1483\\tsent\\n1484\\tsep\\n1485\\tsepar\\n1486\\tseptemb\\n1487\\tsequenc\\n1488\\tseri\\n1489\\tserif\\n1490\\tseriou\\n1491\\tserv\\n1492\\tserver\\n1493\\tservic\\n1494\\tset\\n1495\\tsetup\\n1496\\tseven\\n1497\\tseventh\\n1498\\tsever\\n1499\\tsex\\n1500\\tsexual\\n1501\\tsf\\n1502\\tshape\\n1503\\tshare\\n1504\\tshe\\n1505\\tshell\\n1506\\tship\\n1507\\tshop\\n1508\\tshort\\n1509\\tshot\\n1510\\tshould\\n1511\\tshow\\n1512\\tside\\n1513\\tsign\\n1514\\tsignatur\\n1515\\tsignific\\n1516\\tsimilar\\n1517\\tsimpl\\n1518\\tsimpli\\n1519\\tsinc\\n1520\\tsincer\\n1521\\tsingl\\n1522\\tsit\\n1523\\tsite\\n1524\\tsituat\\n1525\\tsix\\n1526\\tsize\\n1527\\tskeptic\\n1528\\tskill\\n1529\\tskin\\n1530\\tskip\\n1531\\tsleep\\n1532\\tslow\\n1533\\tsmall\\n1534\\tsmart\\n1535\\tsmoke\\n1536\\tsmtp\\n1537\\tsnumber\\n1538\\tso\\n1539\\tsocial\\n1540\\tsocieti\\n1541\\tsoftwar\\n1542\\tsold\\n1543\\tsolut\\n1544\\tsolv\\n1545\\tsome\\n1546\\tsomeon\\n1547\\tsometh\\n1548\\tsometim\\n1549\\tson\\n1550\\tsong\\n1551\\tsoni\\n1552\\tsoon\\n1553\\tsorri\\n1554\\tsort\\n1555\\tsound\\n1556\\tsourc\\n1557\\tsouth\\n1558\\tspace\\n1559\\tspain\\n1560\\tspam\\n1561\\tspamassassin\\n1562\\tspamd\\n1563\\tspammer\\n1564\\tspeak\\n1565\\tspec\\n1566\\tspecial\\n1567\\tspecif\\n1568\\tspecifi\\n1569\\tspeech\\n1570\\tspeed\\n1571\\tspend\\n1572\\tsponsor\\n1573\\tsport\\n1574\\tspot\\n1575\\tsrc\\n1576\\tssh\\n1577\\tst\\n1578\\tstabl\\n1579\\tstaff\\n1580\\tstai\\n1581\\tstand\\n1582\\tstandard\\n1583\\tstar\\n1584\\tstart\\n1585\\tstate\\n1586\\tstatement\\n1587\\tstatu\\n1588\\tstep\\n1589\\tsteve\\n1590\\tstill\\n1591\\tstock\\n1592\\tstop\\n1593\\tstorag\\n1594\\tstore\\n1595\\tstori\\n1596\\tstrategi\\n1597\\tstream\\n1598\\tstreet\\n1599\\tstring\\n1600\\tstrip\\n1601\\tstrong\\n1602\\tstructur\\n1603\\tstudi\\n1604\\tstuff\\n1605\\tstupid\\n1606\\tstyle\\n1607\\tsubject\\n1608\\tsubmit\\n1609\\tsubscrib\\n1610\\tsubscript\\n1611\\tsubstanti\\n1612\\tsuccess\\n1613\\tsuch\\n1614\\tsuffer\\n1615\\tsuggest\\n1616\\tsuit\\n1617\\tsum\\n1618\\tsummari\\n1619\\tsummer\\n1620\\tsun\\n1621\\tsuper\\n1622\\tsuppli\\n1623\\tsupport\\n1624\\tsuppos\\n1625\\tsure\\n1626\\tsurpris\\n1627\\tsuse\\n1628\\tsuspect\\n1629\\tsweet\\n1630\\tswitch\\n1631\\tsystem\\n1632\\ttab\\n1633\\ttabl\\n1634\\ttablet\\n1635\\ttag\\n1636\\ttake\\n1637\\ttaken\\n1638\\ttalk\\n1639\\ttape\\n1640\\ttarget\\n1641\\ttask\\n1642\\ttax\\n1643\\tteach\\n1644\\tteam\\n1645\\ttech\\n1646\\ttechnic\\n1647\\ttechniqu\\n1648\\ttechnolog\\n1649\\ttel\\n1650\\ttelecom\\n1651\\ttelephon\\n1652\\ttell\\n1653\\ttemperatur\\n1654\\ttempl\\n1655\\tten\\n1656\\tterm\\n1657\\ttermin\\n1658\\tterror\\n1659\\tterrorist\\n1660\\ttest\\n1661\\ttexa\\n1662\\ttext\\n1663\\tthan\\n1664\\tthank\\n1665\\tthat\\n1666\\tthe\\n1667\\tthei\\n1668\\ttheir\\n1669\\tthem\\n1670\\tthemselv\\n1671\\tthen\\n1672\\ttheori\\n1673\\tthere\\n1674\\ttherefor\\n1675\\tthese\\n1676\\tthi\\n1677\\tthing\\n1678\\tthink\\n1679\\tthinkgeek\\n1680\\tthird\\n1681\\tthose\\n1682\\tthough\\n1683\\tthought\\n1684\\tthousand\\n1685\\tthread\\n1686\\tthreat\\n1687\\tthree\\n1688\\tthrough\\n1689\\tthu\\n1690\\tthursdai\\n1691\\tti\\n1692\\tticket\\n1693\\ttim\\n1694\\ttime\\n1695\\ttip\\n1696\\ttire\\n1697\\ttitl\\n1698\\ttm\\n1699\\tto\\n1700\\ttodai\\n1701\\ttogeth\\n1702\\ttoken\\n1703\\ttold\\n1704\\ttoll\\n1705\\ttom\\n1706\\ttoner\\n1707\\ttoni\\n1708\\ttoo\\n1709\\ttook\\n1710\\ttool\\n1711\\ttop\\n1712\\ttopic\\n1713\\ttotal\\n1714\\ttouch\\n1715\\ttoward\\n1716\\ttrack\\n1717\\ttrade\\n1718\\ttradit\\n1719\\ttraffic\\n1720\\ttrain\\n1721\\ttransact\\n1722\\ttransfer\\n1723\\ttravel\\n1724\\ttreat\\n1725\\ttree\\n1726\\ttri\\n1727\\ttrial\\n1728\\ttrick\\n1729\\ttrip\\n1730\\ttroubl\\n1731\\ttrue\\n1732\\ttruli\\n1733\\ttrust\\n1734\\ttruth\\n1735\\ttry\\n1736\\ttue\\n1737\\ttuesdai\\n1738\\tturn\\n1739\\ttv\\n1740\\ttwo\\n1741\\ttype\\n1742\\tuk\\n1743\\tultim\\n1744\\tun\\n1745\\tunder\\n1746\\tunderstand\\n1747\\tunfortun\\n1748\\tuniqu\\n1749\\tunison\\n1750\\tunit\\n1751\\tunivers\\n1752\\tunix\\n1753\\tunless\\n1754\\tunlik\\n1755\\tunlimit\\n1756\\tunseen\\n1757\\tunsolicit\\n1758\\tunsubscrib\\n1759\\tuntil\\n1760\\tup\\n1761\\tupdat\\n1762\\tupgrad\\n1763\\tupon\\n1764\\turgent\\n1765\\turl\\n1766\\tus\\n1767\\tusa\\n1768\\tusag\\n1769\\tusb\\n1770\\tusd\\n1771\\tusdollarnumb\\n1772\\tuseless\\n1773\\tuser\\n1774\\tusr\\n1775\\tusual\\n1776\\tutil\\n1777\\tvacat\\n1778\\tvalid\\n1779\\tvalu\\n1780\\tvaluabl\\n1781\\tvar\\n1782\\tvariabl\\n1783\\tvarieti\\n1784\\tvariou\\n1785\\tve\\n1786\\tvendor\\n1787\\tventur\\n1788\\tveri\\n1789\\tverifi\\n1790\\tversion\\n1791\\tvia\\n1792\\tvideo\\n1793\\tview\\n1794\\tvirtual\\n1795\\tvisa\\n1796\\tvisit\\n1797\\tvisual\\n1798\\tvnumber\\n1799\\tvoic\\n1800\\tvote\\n1801\\tvs\\n1802\\tvulner\\n1803\\twa\\n1804\\twai\\n1805\\twait\\n1806\\twake\\n1807\\twalk\\n1808\\twall\\n1809\\twant\\n1810\\twar\\n1811\\twarm\\n1812\\twarn\\n1813\\twarranti\\n1814\\twashington\\n1815\\twasn\\n1816\\twast\\n1817\\twatch\\n1818\\twater\\n1819\\twe\\n1820\\twealth\\n1821\\tweapon\\n1822\\tweb\\n1823\\tweblog\\n1824\\twebsit\\n1825\\twed\\n1826\\twednesdai\\n1827\\tweek\\n1828\\tweekli\\n1829\\tweight\\n1830\\twelcom\\n1831\\twell\\n1832\\twent\\n1833\\twere\\n1834\\twest\\n1835\\twhat\\n1836\\twhatev\\n1837\\twhen\\n1838\\twhere\\n1839\\twhether\\n1840\\twhich\\n1841\\twhile\\n1842\\twhite\\n1843\\twhitelist\\n1844\\twho\\n1845\\twhole\\n1846\\twhose\\n1847\\twhy\\n1848\\twi\\n1849\\twide\\n1850\\twidth\\n1851\\twife\\n1852\\twill\\n1853\\twilliam\\n1854\\twin\\n1855\\twindow\\n1856\\twing\\n1857\\twinner\\n1858\\twireless\\n1859\\twish\\n1860\\twith\\n1861\\twithin\\n1862\\twithout\\n1863\\twnumberp\\n1864\\twoman\\n1865\\twomen\\n1866\\twon\\n1867\\twonder\\n1868\\tword\\n1869\\twork\\n1870\\tworker\\n1871\\tworld\\n1872\\tworldwid\\n1873\\tworri\\n1874\\tworst\\n1875\\tworth\\n1876\\twould\\n1877\\twouldn\\n1878\\twrite\\n1879\\twritten\\n1880\\twrong\\n1881\\twrote\\n1882\\twww\\n1883\\tximian\\n1884\\txml\\n1885\\txp\\n1886\\tyahoo\\n1887\\tye\\n1888\\tyeah\\n1889\\tyear\\n1890\\tyesterdai\\n1891\\tyet\\n1892\\tyork\\n1893\\tyou\\n1894\\tyoung\\n1895\\tyour\\n1896\\tyourself\\n1897\\tzdnet\\n1898\\tzero\\n1899\\tzip\\n'"
      ]
     },
     "execution_count": 42,
     "metadata": {},
     "output_type": "execute_result"
    }
   ],
   "source": [
    "vocabList\n",
    "# note tabs \\t and new lines \\n"
   ]
  },
  {
   "cell_type": "code",
   "execution_count": 43,
   "metadata": {},
   "outputs": [],
   "source": [
    "# convert vocab list into a dictionary\n",
    "\n",
    "vocabList = vocabList.split('\\n')[:-1]\n",
    "\n",
    "vocabList_dict = {}\n",
    "\n",
    "for row in vocabList:\n",
    "    value, key = row.split('\\t')[:]\n",
    "    vocabList_dict[key] = value\n"
   ]
  },
  {
   "cell_type": "code",
   "execution_count": 44,
   "metadata": {},
   "outputs": [
    {
     "data": {
      "text/plain": [
       "{'aa': '1',\n",
       " 'ab': '2',\n",
       " 'abil': '3',\n",
       " 'abl': '4',\n",
       " 'about': '5',\n",
       " 'abov': '6',\n",
       " 'absolut': '7',\n",
       " 'abus': '8',\n",
       " 'ac': '9',\n",
       " 'accept': '10',\n",
       " 'access': '11',\n",
       " 'accord': '12',\n",
       " 'account': '13',\n",
       " 'achiev': '14',\n",
       " 'acquir': '15',\n",
       " 'across': '16',\n",
       " 'act': '17',\n",
       " 'action': '18',\n",
       " 'activ': '19',\n",
       " 'actual': '20',\n",
       " 'ad': '21',\n",
       " 'adam': '22',\n",
       " 'add': '23',\n",
       " 'addit': '24',\n",
       " 'address': '25',\n",
       " 'administr': '26',\n",
       " 'adult': '27',\n",
       " 'advanc': '28',\n",
       " 'advantag': '29',\n",
       " 'advertis': '30',\n",
       " 'advic': '31',\n",
       " 'advis': '32',\n",
       " 'ae': '33',\n",
       " 'af': '34',\n",
       " 'affect': '35',\n",
       " 'affili': '36',\n",
       " 'afford': '37',\n",
       " 'africa': '38',\n",
       " 'after': '39',\n",
       " 'ag': '40',\n",
       " 'again': '41',\n",
       " 'against': '42',\n",
       " 'agenc': '43',\n",
       " 'agent': '44',\n",
       " 'ago': '45',\n",
       " 'agre': '46',\n",
       " 'agreement': '47',\n",
       " 'aid': '48',\n",
       " 'air': '49',\n",
       " 'al': '50',\n",
       " 'alb': '51',\n",
       " 'align': '52',\n",
       " 'all': '53',\n",
       " 'allow': '54',\n",
       " 'almost': '55',\n",
       " 'alon': '56',\n",
       " 'along': '57',\n",
       " 'alreadi': '58',\n",
       " 'alsa': '59',\n",
       " 'also': '60',\n",
       " 'altern': '61',\n",
       " 'although': '62',\n",
       " 'alwai': '63',\n",
       " 'am': '64',\n",
       " 'amaz': '65',\n",
       " 'america': '66',\n",
       " 'american': '67',\n",
       " 'among': '68',\n",
       " 'amount': '69',\n",
       " 'amp': '70',\n",
       " 'an': '71',\n",
       " 'analysi': '72',\n",
       " 'analyst': '73',\n",
       " 'and': '74',\n",
       " 'ani': '75',\n",
       " 'anim': '76',\n",
       " 'announc': '77',\n",
       " 'annual': '78',\n",
       " 'annuiti': '79',\n",
       " 'anoth': '80',\n",
       " 'answer': '81',\n",
       " 'anti': '82',\n",
       " 'anumb': '83',\n",
       " 'anybodi': '84',\n",
       " 'anymor': '85',\n",
       " 'anyon': '86',\n",
       " 'anyth': '87',\n",
       " 'anywai': '88',\n",
       " 'anywher': '89',\n",
       " 'aol': '90',\n",
       " 'ap': '91',\n",
       " 'apolog': '92',\n",
       " 'app': '93',\n",
       " 'appar': '94',\n",
       " 'appear': '95',\n",
       " 'appl': '96',\n",
       " 'appli': '97',\n",
       " 'applic': '98',\n",
       " 'appreci': '99',\n",
       " 'approach': '100',\n",
       " 'approv': '101',\n",
       " 'apt': '102',\n",
       " 'ar': '103',\n",
       " 'archiv': '104',\n",
       " 'area': '105',\n",
       " 'aren': '106',\n",
       " 'argument': '107',\n",
       " 'arial': '108',\n",
       " 'arm': '109',\n",
       " 'around': '110',\n",
       " 'arrai': '111',\n",
       " 'arriv': '112',\n",
       " 'art': '113',\n",
       " 'articl': '114',\n",
       " 'artist': '115',\n",
       " 'as': '116',\n",
       " 'ascii': '117',\n",
       " 'ask': '118',\n",
       " 'asset': '119',\n",
       " 'assist': '120',\n",
       " 'associ': '121',\n",
       " 'assum': '122',\n",
       " 'assur': '123',\n",
       " 'at': '124',\n",
       " 'atol': '125',\n",
       " 'attach': '126',\n",
       " 'attack': '127',\n",
       " 'attempt': '128',\n",
       " 'attent': '129',\n",
       " 'attornei': '130',\n",
       " 'attract': '131',\n",
       " 'audio': '132',\n",
       " 'aug': '133',\n",
       " 'august': '134',\n",
       " 'author': '135',\n",
       " 'auto': '136',\n",
       " 'autom': '137',\n",
       " 'automat': '138',\n",
       " 'avail': '139',\n",
       " 'averag': '140',\n",
       " 'avoid': '141',\n",
       " 'awai': '142',\n",
       " 'awar': '143',\n",
       " 'award': '144',\n",
       " 'ba': '145',\n",
       " 'babi': '146',\n",
       " 'back': '147',\n",
       " 'background': '148',\n",
       " 'backup': '149',\n",
       " 'bad': '150',\n",
       " 'balanc': '151',\n",
       " 'ban': '152',\n",
       " 'bank': '153',\n",
       " 'bar': '154',\n",
       " 'base': '155',\n",
       " 'basenumb': '156',\n",
       " 'basi': '157',\n",
       " 'basic': '158',\n",
       " 'bb': '159',\n",
       " 'bc': '160',\n",
       " 'bd': '161',\n",
       " 'be': '162',\n",
       " 'beat': '163',\n",
       " 'beberg': '164',\n",
       " 'becaus': '165',\n",
       " 'becom': '166',\n",
       " 'been': '167',\n",
       " 'befor': '168',\n",
       " 'begin': '169',\n",
       " 'behalf': '170',\n",
       " 'behavior': '171',\n",
       " 'behind': '172',\n",
       " 'believ': '173',\n",
       " 'below': '174',\n",
       " 'benefit': '175',\n",
       " 'best': '176',\n",
       " 'beta': '177',\n",
       " 'better': '178',\n",
       " 'between': '179',\n",
       " 'bf': '180',\n",
       " 'big': '181',\n",
       " 'bill': '182',\n",
       " 'billion': '183',\n",
       " 'bin': '184',\n",
       " 'binari': '185',\n",
       " 'bit': '186',\n",
       " 'black': '187',\n",
       " 'blank': '188',\n",
       " 'block': '189',\n",
       " 'blog': '190',\n",
       " 'blood': '191',\n",
       " 'blue': '192',\n",
       " 'bnumber': '193',\n",
       " 'board': '194',\n",
       " 'bodi': '195',\n",
       " 'boi': '196',\n",
       " 'bonu': '197',\n",
       " 'book': '198',\n",
       " 'boot': '199',\n",
       " 'border': '200',\n",
       " 'boss': '201',\n",
       " 'boston': '202',\n",
       " 'botan': '203',\n",
       " 'both': '204',\n",
       " 'bottl': '205',\n",
       " 'bottom': '206',\n",
       " 'boundari': '207',\n",
       " 'box': '208',\n",
       " 'brain': '209',\n",
       " 'brand': '210',\n",
       " 'break': '211',\n",
       " 'brian': '212',\n",
       " 'bring': '213',\n",
       " 'broadcast': '214',\n",
       " 'broker': '215',\n",
       " 'browser': '216',\n",
       " 'bug': '217',\n",
       " 'bui': '218',\n",
       " 'build': '219',\n",
       " 'built': '220',\n",
       " 'bulk': '221',\n",
       " 'burn': '222',\n",
       " 'bush': '223',\n",
       " 'busi': '224',\n",
       " 'but': '225',\n",
       " 'button': '226',\n",
       " 'by': '227',\n",
       " 'byte': '228',\n",
       " 'ca': '229',\n",
       " 'cabl': '230',\n",
       " 'cach': '231',\n",
       " 'calcul': '232',\n",
       " 'california': '233',\n",
       " 'call': '234',\n",
       " 'came': '235',\n",
       " 'camera': '236',\n",
       " 'campaign': '237',\n",
       " 'can': '238',\n",
       " 'canada': '239',\n",
       " 'cannot': '240',\n",
       " 'canon': '241',\n",
       " 'capabl': '242',\n",
       " 'capillari': '243',\n",
       " 'capit': '244',\n",
       " 'car': '245',\n",
       " 'card': '246',\n",
       " 'care': '247',\n",
       " 'career': '248',\n",
       " 'carri': '249',\n",
       " 'cartridg': '250',\n",
       " 'case': '251',\n",
       " 'cash': '252',\n",
       " 'cat': '253',\n",
       " 'catch': '254',\n",
       " 'categori': '255',\n",
       " 'caus': '256',\n",
       " 'cb': '257',\n",
       " 'cc': '258',\n",
       " 'cd': '259',\n",
       " 'ce': '260',\n",
       " 'cell': '261',\n",
       " 'cent': '262',\n",
       " 'center': '263',\n",
       " 'central': '264',\n",
       " 'centuri': '265',\n",
       " 'ceo': '266',\n",
       " 'certain': '267',\n",
       " 'certainli': '268',\n",
       " 'cf': '269',\n",
       " 'challeng': '270',\n",
       " 'chanc': '271',\n",
       " 'chang': '272',\n",
       " 'channel': '273',\n",
       " 'char': '274',\n",
       " 'charact': '275',\n",
       " 'charg': '276',\n",
       " 'charset': '277',\n",
       " 'chat': '278',\n",
       " 'cheap': '279',\n",
       " 'check': '280',\n",
       " 'cheer': '281',\n",
       " 'chief': '282',\n",
       " 'children': '283',\n",
       " 'china': '284',\n",
       " 'chip': '285',\n",
       " 'choic': '286',\n",
       " 'choos': '287',\n",
       " 'chri': '288',\n",
       " 'citi': '289',\n",
       " 'citizen': '290',\n",
       " 'civil': '291',\n",
       " 'claim': '292',\n",
       " 'class': '293',\n",
       " 'classifi': '294',\n",
       " 'clean': '295',\n",
       " 'clear': '296',\n",
       " 'clearli': '297',\n",
       " 'click': '298',\n",
       " 'client': '299',\n",
       " 'close': '300',\n",
       " 'clue': '301',\n",
       " 'cnet': '302',\n",
       " 'cnumber': '303',\n",
       " 'co': '304',\n",
       " 'code': '305',\n",
       " 'collect': '306',\n",
       " 'colleg': '307',\n",
       " 'color': '308',\n",
       " 'com': '309',\n",
       " 'combin': '310',\n",
       " 'come': '311',\n",
       " 'comfort': '312',\n",
       " 'command': '313',\n",
       " 'comment': '314',\n",
       " 'commentari': '315',\n",
       " 'commerci': '316',\n",
       " 'commiss': '317',\n",
       " 'commit': '318',\n",
       " 'common': '319',\n",
       " 'commun': '320',\n",
       " 'compani': '321',\n",
       " 'compar': '322',\n",
       " 'comparison': '323',\n",
       " 'compat': '324',\n",
       " 'compet': '325',\n",
       " 'competit': '326',\n",
       " 'compil': '327',\n",
       " 'complet': '328',\n",
       " 'comprehens': '329',\n",
       " 'comput': '330',\n",
       " 'concentr': '331',\n",
       " 'concept': '332',\n",
       " 'concern': '333',\n",
       " 'condit': '334',\n",
       " 'conf': '335',\n",
       " 'confer': '336',\n",
       " 'confid': '337',\n",
       " 'confidenti': '338',\n",
       " 'config': '339',\n",
       " 'configur': '340',\n",
       " 'confirm': '341',\n",
       " 'conflict': '342',\n",
       " 'confus': '343',\n",
       " 'congress': '344',\n",
       " 'connect': '345',\n",
       " 'consid': '346',\n",
       " 'consolid': '347',\n",
       " 'constitut': '348',\n",
       " 'construct': '349',\n",
       " 'consult': '350',\n",
       " 'consum': '351',\n",
       " 'contact': '352',\n",
       " 'contain': '353',\n",
       " 'content': '354',\n",
       " 'continu': '355',\n",
       " 'contract': '356',\n",
       " 'contribut': '357',\n",
       " 'control': '358',\n",
       " 'conveni': '359',\n",
       " 'convers': '360',\n",
       " 'convert': '361',\n",
       " 'cool': '362',\n",
       " 'cooper': '363',\n",
       " 'copi': '364',\n",
       " 'copyright': '365',\n",
       " 'core': '366',\n",
       " 'corpor': '367',\n",
       " 'correct': '368',\n",
       " 'correspond': '369',\n",
       " 'cost': '370',\n",
       " 'could': '371',\n",
       " 'couldn': '372',\n",
       " 'count': '373',\n",
       " 'countri': '374',\n",
       " 'coupl': '375',\n",
       " 'cours': '376',\n",
       " 'court': '377',\n",
       " 'cover': '378',\n",
       " 'coverag': '379',\n",
       " 'crash': '380',\n",
       " 'creat': '381',\n",
       " 'creativ': '382',\n",
       " 'credit': '383',\n",
       " 'critic': '384',\n",
       " 'cross': '385',\n",
       " 'cultur': '386',\n",
       " 'current': '387',\n",
       " 'custom': '388',\n",
       " 'cut': '389',\n",
       " 'cv': '390',\n",
       " 'da': '391',\n",
       " 'dagga': '392',\n",
       " 'dai': '393',\n",
       " 'daili': '394',\n",
       " 'dan': '395',\n",
       " 'danger': '396',\n",
       " 'dark': '397',\n",
       " 'data': '398',\n",
       " 'databas': '399',\n",
       " 'datapow': '400',\n",
       " 'date': '401',\n",
       " 'dave': '402',\n",
       " 'david': '403',\n",
       " 'dc': '404',\n",
       " 'de': '405',\n",
       " 'dead': '406',\n",
       " 'deal': '407',\n",
       " 'dear': '408',\n",
       " 'death': '409',\n",
       " 'debt': '410',\n",
       " 'decad': '411',\n",
       " 'decid': '412',\n",
       " 'decis': '413',\n",
       " 'declar': '414',\n",
       " 'declin': '415',\n",
       " 'decor': '416',\n",
       " 'default': '417',\n",
       " 'defend': '418',\n",
       " 'defens': '419',\n",
       " 'defin': '420',\n",
       " 'definit': '421',\n",
       " 'degre': '422',\n",
       " 'delai': '423',\n",
       " 'delet': '424',\n",
       " 'deliv': '425',\n",
       " 'deliveri': '426',\n",
       " 'dell': '427',\n",
       " 'demand': '428',\n",
       " 'democrat': '429',\n",
       " 'depart': '430',\n",
       " 'depend': '431',\n",
       " 'deposit': '432',\n",
       " 'describ': '433',\n",
       " 'descript': '434',\n",
       " 'deserv': '435',\n",
       " 'design': '436',\n",
       " 'desir': '437',\n",
       " 'desktop': '438',\n",
       " 'despit': '439',\n",
       " 'detail': '440',\n",
       " 'detect': '441',\n",
       " 'determin': '442',\n",
       " 'dev': '443',\n",
       " 'devel': '444',\n",
       " 'develop': '445',\n",
       " 'devic': '446',\n",
       " 'di': '447',\n",
       " 'dial': '448',\n",
       " 'did': '449',\n",
       " 'didn': '450',\n",
       " 'diet': '451',\n",
       " 'differ': '452',\n",
       " 'difficult': '453',\n",
       " 'digit': '454',\n",
       " 'direct': '455',\n",
       " 'directli': '456',\n",
       " 'director': '457',\n",
       " 'directori': '458',\n",
       " 'disabl': '459',\n",
       " 'discount': '460',\n",
       " 'discov': '461',\n",
       " 'discoveri': '462',\n",
       " 'discuss': '463',\n",
       " 'disk': '464',\n",
       " 'displai': '465',\n",
       " 'disposit': '466',\n",
       " 'distanc': '467',\n",
       " 'distribut': '468',\n",
       " 'dn': '469',\n",
       " 'dnumber': '470',\n",
       " 'do': '471',\n",
       " 'doc': '472',\n",
       " 'document': '473',\n",
       " 'doe': '474',\n",
       " 'doer': '475',\n",
       " 'doesn': '476',\n",
       " 'dollar': '477',\n",
       " 'dollarac': '478',\n",
       " 'dollarnumb': '479',\n",
       " 'domain': '480',\n",
       " 'don': '481',\n",
       " 'done': '482',\n",
       " 'dont': '483',\n",
       " 'doubl': '484',\n",
       " 'doubt': '485',\n",
       " 'down': '486',\n",
       " 'download': '487',\n",
       " 'dr': '488',\n",
       " 'draw': '489',\n",
       " 'dream': '490',\n",
       " 'drive': '491',\n",
       " 'driver': '492',\n",
       " 'drop': '493',\n",
       " 'drug': '494',\n",
       " 'due': '495',\n",
       " 'dure': '496',\n",
       " 'dvd': '497',\n",
       " 'dw': '498',\n",
       " 'dynam': '499',\n",
       " 'ea': '500',\n",
       " 'each': '501',\n",
       " 'earli': '502',\n",
       " 'earlier': '503',\n",
       " 'earn': '504',\n",
       " 'earth': '505',\n",
       " 'easi': '506',\n",
       " 'easier': '507',\n",
       " 'easili': '508',\n",
       " 'eat': '509',\n",
       " 'eb': '510',\n",
       " 'ebai': '511',\n",
       " 'ec': '512',\n",
       " 'echo': '513',\n",
       " 'econom': '514',\n",
       " 'economi': '515',\n",
       " 'ed': '516',\n",
       " 'edg': '517',\n",
       " 'edit': '518',\n",
       " 'editor': '519',\n",
       " 'educ': '520',\n",
       " 'eff': '521',\n",
       " 'effect': '522',\n",
       " 'effici': '523',\n",
       " 'effort': '524',\n",
       " 'either': '525',\n",
       " 'el': '526',\n",
       " 'electron': '527',\n",
       " 'elimin': '528',\n",
       " 'els': '529',\n",
       " 'email': '530',\n",
       " 'emailaddr': '531',\n",
       " 'emerg': '532',\n",
       " 'empir': '533',\n",
       " 'employ': '534',\n",
       " 'employe': '535',\n",
       " 'en': '536',\n",
       " 'enabl': '537',\n",
       " 'encod': '538',\n",
       " 'encourag': '539',\n",
       " 'end': '540',\n",
       " 'enemi': '541',\n",
       " 'enenkio': '542',\n",
       " 'energi': '543',\n",
       " 'engin': '544',\n",
       " 'english': '545',\n",
       " 'enhanc': '546',\n",
       " 'enjoi': '547',\n",
       " 'enough': '548',\n",
       " 'ensur': '549',\n",
       " 'enter': '550',\n",
       " 'enterpris': '551',\n",
       " 'entertain': '552',\n",
       " 'entir': '553',\n",
       " 'entri': '554',\n",
       " 'enumb': '555',\n",
       " 'environ': '556',\n",
       " 'equal': '557',\n",
       " 'equip': '558',\n",
       " 'equival': '559',\n",
       " 'error': '560',\n",
       " 'especi': '561',\n",
       " 'essenti': '562',\n",
       " 'establish': '563',\n",
       " 'estat': '564',\n",
       " 'estim': '565',\n",
       " 'et': '566',\n",
       " 'etc': '567',\n",
       " 'euro': '568',\n",
       " 'europ': '569',\n",
       " 'european': '570',\n",
       " 'even': '571',\n",
       " 'event': '572',\n",
       " 'eventu': '573',\n",
       " 'ever': '574',\n",
       " 'everi': '575',\n",
       " 'everyon': '576',\n",
       " 'everyth': '577',\n",
       " 'evid': '578',\n",
       " 'evil': '579',\n",
       " 'exactli': '580',\n",
       " 'exampl': '581',\n",
       " 'excel': '582',\n",
       " 'except': '583',\n",
       " 'exchang': '584',\n",
       " 'excit': '585',\n",
       " 'exclus': '586',\n",
       " 'execut': '587',\n",
       " 'exercis': '588',\n",
       " 'exist': '589',\n",
       " 'exmh': '590',\n",
       " 'expand': '591',\n",
       " 'expect': '592',\n",
       " 'expens': '593',\n",
       " 'experi': '594',\n",
       " 'expert': '595',\n",
       " 'expir': '596',\n",
       " 'explain': '597',\n",
       " 'explor': '598',\n",
       " 'express': '599',\n",
       " 'extend': '600',\n",
       " 'extens': '601',\n",
       " 'extra': '602',\n",
       " 'extract': '603',\n",
       " 'extrem': '604',\n",
       " 'ey': '605',\n",
       " 'fa': '606',\n",
       " 'face': '607',\n",
       " 'fact': '608',\n",
       " 'factor': '609',\n",
       " 'fail': '610',\n",
       " 'fair': '611',\n",
       " 'fall': '612',\n",
       " 'fals': '613',\n",
       " 'famili': '614',\n",
       " 'faq': '615',\n",
       " 'far': '616',\n",
       " 'fast': '617',\n",
       " 'faster': '618',\n",
       " 'fastest': '619',\n",
       " 'fat': '620',\n",
       " 'father': '621',\n",
       " 'favorit': '622',\n",
       " 'fax': '623',\n",
       " 'fb': '624',\n",
       " 'fd': '625',\n",
       " 'featur': '626',\n",
       " 'feder': '627',\n",
       " 'fee': '628',\n",
       " 'feed': '629',\n",
       " 'feedback': '630',\n",
       " 'feel': '631',\n",
       " 'femal': '632',\n",
       " 'few': '633',\n",
       " 'ffffff': '634',\n",
       " 'ffnumber': '635',\n",
       " 'field': '636',\n",
       " 'fight': '637',\n",
       " 'figur': '638',\n",
       " 'file': '639',\n",
       " 'fill': '640',\n",
       " 'film': '641',\n",
       " 'filter': '642',\n",
       " 'final': '643',\n",
       " 'financ': '644',\n",
       " 'financi': '645',\n",
       " 'find': '646',\n",
       " 'fine': '647',\n",
       " 'finish': '648',\n",
       " 'fire': '649',\n",
       " 'firewal': '650',\n",
       " 'firm': '651',\n",
       " 'first': '652',\n",
       " 'fit': '653',\n",
       " 'five': '654',\n",
       " 'fix': '655',\n",
       " 'flag': '656',\n",
       " 'flash': '657',\n",
       " 'flow': '658',\n",
       " 'fnumber': '659',\n",
       " 'focu': '660',\n",
       " 'folder': '661',\n",
       " 'folk': '662',\n",
       " 'follow': '663',\n",
       " 'font': '664',\n",
       " 'food': '665',\n",
       " 'for': '666',\n",
       " 'forc': '667',\n",
       " 'foreign': '668',\n",
       " 'forev': '669',\n",
       " 'forget': '670',\n",
       " 'fork': '671',\n",
       " 'form': '672',\n",
       " 'format': '673',\n",
       " 'former': '674',\n",
       " 'fortun': '675',\n",
       " 'forward': '676',\n",
       " 'found': '677',\n",
       " 'foundat': '678',\n",
       " 'four': '679',\n",
       " 'franc': '680',\n",
       " 'free': '681',\n",
       " 'freedom': '682',\n",
       " 'french': '683',\n",
       " 'freshrpm': '684',\n",
       " 'fri': '685',\n",
       " 'fridai': '686',\n",
       " 'friend': '687',\n",
       " 'from': '688',\n",
       " 'front': '689',\n",
       " 'ftoc': '690',\n",
       " 'ftp': '691',\n",
       " 'full': '692',\n",
       " 'fulli': '693',\n",
       " 'fun': '694',\n",
       " 'function': '695',\n",
       " 'fund': '696',\n",
       " 'further': '697',\n",
       " 'futur': '698',\n",
       " 'ga': '699',\n",
       " 'gain': '700',\n",
       " 'game': '701',\n",
       " 'gari': '702',\n",
       " 'garrigu': '703',\n",
       " 'gave': '704',\n",
       " 'gcc': '705',\n",
       " 'geek': '706',\n",
       " 'gener': '707',\n",
       " 'get': '708',\n",
       " 'gif': '709',\n",
       " 'gift': '710',\n",
       " 'girl': '711',\n",
       " 'give': '712',\n",
       " 'given': '713',\n",
       " 'global': '714',\n",
       " 'gnome': '715',\n",
       " 'gnu': '716',\n",
       " 'gnupg': '717',\n",
       " 'go': '718',\n",
       " 'goal': '719',\n",
       " 'god': '720',\n",
       " 'goe': '721',\n",
       " 'gold': '722',\n",
       " 'gone': '723',\n",
       " 'good': '724',\n",
       " 'googl': '725',\n",
       " 'got': '726',\n",
       " 'govern': '727',\n",
       " 'gpl': '728',\n",
       " 'grand': '729',\n",
       " 'grant': '730',\n",
       " 'graphic': '731',\n",
       " 'great': '732',\n",
       " 'greater': '733',\n",
       " 'ground': '734',\n",
       " 'group': '735',\n",
       " 'grow': '736',\n",
       " 'growth': '737',\n",
       " 'gt': '738',\n",
       " 'guarante': '739',\n",
       " 'guess': '740',\n",
       " 'gui': '741',\n",
       " 'guid': '742',\n",
       " 'ha': '743',\n",
       " 'hack': '744',\n",
       " 'had': '745',\n",
       " 'half': '746',\n",
       " 'ham': '747',\n",
       " 'hand': '748',\n",
       " 'handl': '749',\n",
       " 'happen': '750',\n",
       " 'happi': '751',\n",
       " 'hard': '752',\n",
       " 'hardwar': '753',\n",
       " 'hat': '754',\n",
       " 'hate': '755',\n",
       " 'have': '756',\n",
       " 'haven': '757',\n",
       " 'he': '758',\n",
       " 'head': '759',\n",
       " 'header': '760',\n",
       " 'headlin': '761',\n",
       " 'health': '762',\n",
       " 'hear': '763',\n",
       " 'heard': '764',\n",
       " 'heart': '765',\n",
       " 'heaven': '766',\n",
       " 'hei': '767',\n",
       " 'height': '768',\n",
       " 'held': '769',\n",
       " 'hello': '770',\n",
       " 'help': '771',\n",
       " 'helvetica': '772',\n",
       " 'her': '773',\n",
       " 'herba': '774',\n",
       " 'here': '775',\n",
       " 'hermio': '776',\n",
       " 'hettinga': '777',\n",
       " 'hi': '778',\n",
       " 'high': '779',\n",
       " 'higher': '780',\n",
       " 'highli': '781',\n",
       " 'highlight': '782',\n",
       " 'him': '783',\n",
       " 'histori': '784',\n",
       " 'hit': '785',\n",
       " 'hold': '786',\n",
       " 'home': '787',\n",
       " 'honor': '788',\n",
       " 'hope': '789',\n",
       " 'host': '790',\n",
       " 'hot': '791',\n",
       " 'hour': '792',\n",
       " 'hous': '793',\n",
       " 'how': '794',\n",
       " 'howev': '795',\n",
       " 'hp': '796',\n",
       " 'html': '797',\n",
       " 'http': '798',\n",
       " 'httpaddr': '799',\n",
       " 'huge': '800',\n",
       " 'human': '801',\n",
       " 'hundr': '802',\n",
       " 'ibm': '803',\n",
       " 'id': '804',\n",
       " 'idea': '805',\n",
       " 'ident': '806',\n",
       " 'identifi': '807',\n",
       " 'idnumb': '808',\n",
       " 'ie': '809',\n",
       " 'if': '810',\n",
       " 'ignor': '811',\n",
       " 'ii': '812',\n",
       " 'iii': '813',\n",
       " 'iiiiiiihnumberjnumberhnumberjnumberhnumb': '814',\n",
       " 'illeg': '815',\n",
       " 'im': '816',\n",
       " 'imag': '817',\n",
       " 'imagin': '818',\n",
       " 'immedi': '819',\n",
       " 'impact': '820',\n",
       " 'implement': '821',\n",
       " 'import': '822',\n",
       " 'impress': '823',\n",
       " 'improv': '824',\n",
       " 'in': '825',\n",
       " 'inc': '826',\n",
       " 'includ': '827',\n",
       " 'incom': '828',\n",
       " 'increas': '829',\n",
       " 'incred': '830',\n",
       " 'inde': '831',\n",
       " 'independ': '832',\n",
       " 'index': '833',\n",
       " 'india': '834',\n",
       " 'indian': '835',\n",
       " 'indic': '836',\n",
       " 'individu': '837',\n",
       " 'industri': '838',\n",
       " 'info': '839',\n",
       " 'inform': '840',\n",
       " 'initi': '841',\n",
       " 'inlin': '842',\n",
       " 'innov': '843',\n",
       " 'input': '844',\n",
       " 'insert': '845',\n",
       " 'insid': '846',\n",
       " 'instal': '847',\n",
       " 'instanc': '848',\n",
       " 'instant': '849',\n",
       " 'instead': '850',\n",
       " 'institut': '851',\n",
       " 'instruct': '852',\n",
       " 'insur': '853',\n",
       " 'int': '854',\n",
       " 'integr': '855',\n",
       " 'intel': '856',\n",
       " 'intellig': '857',\n",
       " 'intend': '858',\n",
       " 'interact': '859',\n",
       " 'interest': '860',\n",
       " 'interfac': '861',\n",
       " 'intern': '862',\n",
       " 'internet': '863',\n",
       " 'interview': '864',\n",
       " 'into': '865',\n",
       " 'intro': '866',\n",
       " 'introduc': '867',\n",
       " 'inumb': '868',\n",
       " 'invest': '869',\n",
       " 'investig': '870',\n",
       " 'investor': '871',\n",
       " 'invok': '872',\n",
       " 'involv': '873',\n",
       " 'ip': '874',\n",
       " 'ireland': '875',\n",
       " 'irish': '876',\n",
       " 'is': '877',\n",
       " 'island': '878',\n",
       " 'isn': '879',\n",
       " 'iso': '880',\n",
       " 'isp': '881',\n",
       " 'issu': '882',\n",
       " 'it': '883',\n",
       " 'item': '884',\n",
       " 'itself': '885',\n",
       " 'jabber': '886',\n",
       " 'jame': '887',\n",
       " 'java': '888',\n",
       " 'jim': '889',\n",
       " 'jnumberiiiiiiihepihepihf': '890',\n",
       " 'job': '891',\n",
       " 'joe': '892',\n",
       " 'john': '893',\n",
       " 'join': '894',\n",
       " 'journal': '895',\n",
       " 'judg': '896',\n",
       " 'judgment': '897',\n",
       " 'jul': '898',\n",
       " 'juli': '899',\n",
       " 'jump': '900',\n",
       " 'june': '901',\n",
       " 'just': '902',\n",
       " 'justin': '903',\n",
       " 'keep': '904',\n",
       " 'kei': '905',\n",
       " 'kept': '906',\n",
       " 'kernel': '907',\n",
       " 'kevin': '908',\n",
       " 'keyboard': '909',\n",
       " 'kid': '910',\n",
       " 'kill': '911',\n",
       " 'kind': '912',\n",
       " 'king': '913',\n",
       " 'kingdom': '914',\n",
       " 'knew': '915',\n",
       " 'know': '916',\n",
       " 'knowledg': '917',\n",
       " 'known': '918',\n",
       " 'la': '919',\n",
       " 'lack': '920',\n",
       " 'land': '921',\n",
       " 'languag': '922',\n",
       " 'laptop': '923',\n",
       " 'larg': '924',\n",
       " 'larger': '925',\n",
       " 'largest': '926',\n",
       " 'laser': '927',\n",
       " 'last': '928',\n",
       " 'late': '929',\n",
       " 'later': '930',\n",
       " 'latest': '931',\n",
       " 'launch': '932',\n",
       " 'law': '933',\n",
       " 'lawrenc': '934',\n",
       " 'le': '935',\n",
       " 'lead': '936',\n",
       " 'leader': '937',\n",
       " 'learn': '938',\n",
       " 'least': '939',\n",
       " 'leav': '940',\n",
       " 'left': '941',\n",
       " 'legal': '942',\n",
       " 'lender': '943',\n",
       " 'length': '944',\n",
       " 'less': '945',\n",
       " 'lesson': '946',\n",
       " 'let': '947',\n",
       " 'letter': '948',\n",
       " 'level': '949',\n",
       " 'lib': '950',\n",
       " 'librari': '951',\n",
       " 'licens': '952',\n",
       " 'life': '953',\n",
       " 'lifetim': '954',\n",
       " 'light': '955',\n",
       " 'like': '956',\n",
       " 'limit': '957',\n",
       " 'line': '958',\n",
       " 'link': '959',\n",
       " 'linux': '960',\n",
       " 'list': '961',\n",
       " 'listen': '962',\n",
       " 'littl': '963',\n",
       " 'live': '964',\n",
       " 'll': '965',\n",
       " 'lo': '966',\n",
       " 'load': '967',\n",
       " 'loan': '968',\n",
       " 'local': '969',\n",
       " 'locat': '970',\n",
       " 'lock': '971',\n",
       " 'lockergnom': '972',\n",
       " 'log': '973',\n",
       " 'long': '974',\n",
       " 'longer': '975',\n",
       " 'look': '976',\n",
       " 'lose': '977',\n",
       " 'loss': '978',\n",
       " 'lost': '979',\n",
       " 'lot': '980',\n",
       " 'love': '981',\n",
       " 'low': '982',\n",
       " 'lower': '983',\n",
       " 'lowest': '984',\n",
       " 'lt': '985',\n",
       " 'ma': '986',\n",
       " 'mac': '987',\n",
       " 'machin': '988',\n",
       " 'made': '989',\n",
       " 'magazin': '990',\n",
       " 'mai': '991',\n",
       " 'mail': '992',\n",
       " 'mailer': '993',\n",
       " 'main': '994',\n",
       " 'maintain': '995',\n",
       " 'major': '996',\n",
       " 'make': '997',\n",
       " 'maker': '998',\n",
       " 'male': '999',\n",
       " 'man': '1000',\n",
       " ...}"
      ]
     },
     "execution_count": 44,
     "metadata": {},
     "output_type": "execute_result"
    }
   ],
   "source": [
    "vocabList_dict # list of words and corresponding indices"
   ]
  },
  {
   "cell_type": "code",
   "execution_count": 45,
   "metadata": {},
   "outputs": [],
   "source": [
    "# pre-process emails: extract word indices from each email\n",
    "\n",
    "def preProcessEmail(emailContent, vocabList_dict):\n",
    "    # convert to all lower case\n",
    "    emailContent = emailContent.lower()\n",
    "    \n",
    "    # strip html tags, substitute with space\n",
    "    emailContent = re.sub(\"<[^<>]+>\", \" \", emailContent)\n",
    "    \n",
    "    # replace actual numbers with text 'number'\n",
    "    emailContent = re.sub(\"[0-9]+\", \"number\", emailContent)\n",
    "    \n",
    "    # replace URLs with 'httpaddr'\n",
    "    emailContent = re.sub(\"(http|https)://[^\\s]*\", \"httpaddr\", emailContent)\n",
    "    \n",
    "    # replace email addresses with 'emailaddr'\n",
    "    emailContent = re.sub(\"[^\\s]+@[^\\s]+\", \"emailaddr\", emailContent)\n",
    "    \n",
    "    # replace $ with 'dollar'\n",
    "    emailContent = re.sub(\"[$]+\", \"dollar\", emailContent)    \n",
    "  \n",
    "    # replace non-alphanumeric characters (i.e. special characters) with spaces\n",
    "    emailContent = re.sub(\"[^a-zA-Z0-9]\", \" \", emailContent)        \n",
    "  \n",
    "    # stem the words\n",
    "    ps = PorterStemmer()\n",
    "    emailContent = [ps.stem(token) for token in emailContent.split(\" \")]\n",
    "    # above converts emailContent into a list\n",
    "    \n",
    "    # process email and return word indices\n",
    "    wordIndices = []\n",
    "    \n",
    "    for word in emailContent: # indexing into a list\n",
    "        if word in vocabList_dict:\n",
    "            wordIndices.append(int(vocabList_dict[word]))            \n",
    "    \n",
    "    return wordIndices"
   ]
  },
  {
   "cell_type": "code",
   "execution_count": 46,
   "metadata": {},
   "outputs": [],
   "source": [
    "# create a features vector for each email from its word index\n",
    "# the features vector is the size of the vocab list\n",
    "# if a word in the email, and is present in the vocablist then it's index is marked as '1' in the features vector\n",
    "\n",
    "def emailFeatures(wordIndices, vocabList_dict):\n",
    "    \n",
    "    \"\"\"\n",
    "    # if an email has the text:\n",
    "    #\n",
    "    # The quick brown fox jumped over the lazy dog.\n",
    "    #\n",
    "    # Then, the word_indices vector for this text might look like:\n",
    "    #               \n",
    "    # 60  100   33   44   10     53  60  58   5\n",
    "    # \n",
    "    # and the features vector might look like this \n",
    "    #\n",
    "    # [1 0 0 0 0... 1...0... 0 0 1....1] => same size as vocab list\n",
    "\n",
    "    \"\"\"\n",
    "    n = len(vocabList_dict)\n",
    "\n",
    "    featuresVec = np.zeros((n,1))\n",
    "\n",
    "    for i in wordIndices:\n",
    "        featuresVec[i] = 1\n",
    "\n",
    "    return featuresVec"
   ]
  },
  {
   "cell_type": "code",
   "execution_count": 47,
   "metadata": {},
   "outputs": [],
   "source": [
    "# extract word indices from spam1 email\n",
    "\n",
    "wordIndices = preProcessEmail(spam1Content, vocabList_dict)"
   ]
  },
  {
   "cell_type": "code",
   "execution_count": 48,
   "metadata": {},
   "outputs": [
    {
     "data": {
      "text/plain": [
       "(95, 1899)"
      ]
     },
     "execution_count": 48,
     "metadata": {},
     "output_type": "execute_result"
    }
   ],
   "source": [
    "len(wordIndices), len(vocabList_dict)"
   ]
  },
  {
   "cell_type": "code",
   "execution_count": 49,
   "metadata": {},
   "outputs": [],
   "source": [
    "# convert email1 into features vector using its word indices\n",
    "\n",
    "spam1Features = emailFeatures(wordIndices, vocabList_dict)"
   ]
  },
  {
   "cell_type": "code",
   "execution_count": 50,
   "metadata": {},
   "outputs": [
    {
     "name": "stdout",
     "output_type": "stream",
     "text": [
      "length of spam1Features =  1899\n",
      "nr of non zero entries in spam1Features  =  48.0\n"
     ]
    }
   ],
   "source": [
    "print(\"length of spam1Features = \", len(spam1Features))\n",
    "print(\"nr of non zero entries in spam1Features  = \", np.sum(spam1Features))"
   ]
  },
  {
   "cell_type": "code",
   "execution_count": 51,
   "metadata": {},
   "outputs": [
    {
     "data": {
      "text/plain": [
       "array([[0.],\n",
       "       [0.],\n",
       "       [0.],\n",
       "       ...,\n",
       "       [1.],\n",
       "       [0.],\n",
       "       [0.]])"
      ]
     },
     "execution_count": 51,
     "metadata": {},
     "output_type": "execute_result"
    }
   ],
   "source": [
    "spam1Features"
   ]
  },
  {
   "cell_type": "code",
   "execution_count": 52,
   "metadata": {},
   "outputs": [],
   "source": [
    "# part 2\n",
    "# training classifiers using the given data in spamTrain.mat\n"
   ]
  },
  {
   "cell_type": "code",
   "execution_count": 53,
   "metadata": {},
   "outputs": [],
   "source": [
    "# load training data\n",
    "trainPath = \"D:\\Programming\\TestData\\spamTrain.mat\"\n",
    "\n",
    "trainData = loadmat(trainPath) # for loading data from matlab files"
   ]
  },
  {
   "cell_type": "code",
   "execution_count": 54,
   "metadata": {},
   "outputs": [
    {
     "data": {
      "text/plain": [
       "dict_keys(['__header__', '__version__', '__globals__', 'X', 'y'])"
      ]
     },
     "execution_count": 54,
     "metadata": {},
     "output_type": "execute_result"
    }
   ],
   "source": [
    "trainData.keys()"
   ]
  },
  {
   "cell_type": "code",
   "execution_count": 55,
   "metadata": {},
   "outputs": [],
   "source": [
    "XTrain, yTrain = trainData['X'], trainData['y']"
   ]
  },
  {
   "cell_type": "code",
   "execution_count": 56,
   "metadata": {},
   "outputs": [
    {
     "data": {
      "text/plain": [
       "((4000, 1899), (4000, 1))"
      ]
     },
     "execution_count": 56,
     "metadata": {},
     "output_type": "execute_result"
    }
   ],
   "source": [
    "XTrain.shape, yTrain.shape\n",
    "# XTrain has 4000 sample (email feature vectors), each sample/row of length 1899 (same as vocab list)"
   ]
  },
  {
   "cell_type": "code",
   "execution_count": 57,
   "metadata": {},
   "outputs": [
    {
     "name": "stdout",
     "output_type": "stream",
     "text": [
      "Training Accuracy: 99.97500000000001 %\n"
     ]
    }
   ],
   "source": [
    "# support vector machine from sklearn.svm\n",
    "\n",
    "#spamSVC = svm.SVC(C=0.1,kernel='linear')\n",
    "spamSVC = svm.SVC(kernel='linear')\n",
    "spamSVC.fit(XTrain, yTrain.ravel())\n",
    "\n",
    "trainingScore = spamSVC.score(XTrain, yTrain.ravel())\n",
    "\n",
    "print(\"Training Accuracy:\", trainingScore * 100, \"%\")"
   ]
  },
  {
   "cell_type": "code",
   "execution_count": 58,
   "metadata": {},
   "outputs": [],
   "source": [
    "# slight detour"
   ]
  },
  {
   "cell_type": "code",
   "execution_count": 59,
   "metadata": {},
   "outputs": [
    {
     "data": {
      "text/plain": [
       "((1, 1899),\n",
       " array([[-1.44288629e-04,  2.06502671e-02,  2.86525927e-02, ...,\n",
       "         -1.63829815e-01, -1.45504787e-02,  7.84855049e-02]]))"
      ]
     },
     "execution_count": 59,
     "metadata": {},
     "output_type": "execute_result"
    }
   ],
   "source": [
    "# optimal weights computed / assigned to the features\n",
    "\n",
    "weights = spamSVC.coef_\n",
    "\n",
    "weights.shape, weights"
   ]
  },
  {
   "cell_type": "code",
   "execution_count": 60,
   "metadata": {},
   "outputs": [
    {
     "data": {
      "text/plain": [
       "array([[1603, 1880, 1436, ..., 1847,  656, 1190]], dtype=int64)"
      ]
     },
     "execution_count": 60,
     "metadata": {},
     "output_type": "execute_result"
    }
   ],
   "source": [
    "sortedIndices = np.argsort(weights)\n",
    "sortedIndices\n",
    "# weights in sorted order, giving their indices in sorted order\n",
    "# these indices indicate the indices of the words in vocabList_dict which are given corresponding weights\n",
    "# by the learning algo SVC"
   ]
  },
  {
   "cell_type": "code",
   "execution_count": 61,
   "metadata": {},
   "outputs": [],
   "source": [
    "# back from detour"
   ]
  },
  {
   "cell_type": "code",
   "execution_count": 62,
   "metadata": {},
   "outputs": [],
   "source": [
    "# load test data\n",
    "testPath = \"D:\\Programming\\TestData\\spamTest.mat\"\n",
    "\n",
    "testData = loadmat(testPath) # for loading data from matlab files"
   ]
  },
  {
   "cell_type": "code",
   "execution_count": 63,
   "metadata": {},
   "outputs": [
    {
     "data": {
      "text/plain": [
       "dict_keys(['__header__', '__version__', '__globals__', 'Xtest', 'ytest'])"
      ]
     },
     "execution_count": 63,
     "metadata": {},
     "output_type": "execute_result"
    }
   ],
   "source": [
    "testData.keys()"
   ]
  },
  {
   "cell_type": "code",
   "execution_count": 64,
   "metadata": {},
   "outputs": [],
   "source": [
    "Xtest, ytest = testData['Xtest'], testData['ytest']"
   ]
  },
  {
   "cell_type": "code",
   "execution_count": 65,
   "metadata": {},
   "outputs": [
    {
     "data": {
      "text/plain": [
       "((1000, 1899), (1000, 1))"
      ]
     },
     "execution_count": 65,
     "metadata": {},
     "output_type": "execute_result"
    }
   ],
   "source": [
    "Xtest.shape, ytest.shape\n",
    "# Xtest has 1000 sample (email feature vectors), each sample/row of length 1899 (same as vocab list)"
   ]
  },
  {
   "cell_type": "code",
   "execution_count": 66,
   "metadata": {},
   "outputs": [],
   "source": [
    "yPred = spamSVC.predict(Xtest)"
   ]
  },
  {
   "cell_type": "code",
   "execution_count": 67,
   "metadata": {},
   "outputs": [
    {
     "data": {
      "text/plain": [
       "((1000,),\n",
       " array([1, 0, 0, 1, 1, 1, 1, 0, 1, 0, 0, 0, 0, 0, 1, 0, 0, 1, 1, 1, 0, 1,\n",
       "        0, 0, 1, 0, 0, 1, 0, 0, 0, 0, 0, 0, 1, 0, 1, 0, 1, 1, 1, 1, 1, 1,\n",
       "        1, 0, 0, 0, 1, 0, 0, 0, 1, 0, 0, 0, 0, 1, 0, 0, 0, 0, 0, 0, 1, 0,\n",
       "        0, 0, 1, 1, 0, 1, 1, 1, 0, 1, 0, 0, 0, 0, 0, 0, 0, 0, 1, 0, 0, 1,\n",
       "        0, 1, 1, 0, 0, 0, 1, 1, 0, 0, 0, 0, 0, 0, 0, 0, 1, 0, 1, 0, 0, 1,\n",
       "        0, 0, 1, 1, 1, 1, 0, 0, 0, 0, 0, 0, 0, 0, 0, 1, 1, 1, 0, 0, 0, 0,\n",
       "        0, 0, 1, 0, 0, 1, 0, 1, 0, 0, 0, 1, 1, 0, 0, 1, 1, 0, 1, 0, 0, 0,\n",
       "        0, 0, 0, 0, 1, 0, 1, 1, 1, 1, 0, 0, 0, 0, 0, 0, 0, 1, 0, 0, 0, 0,\n",
       "        0, 0, 0, 0, 0, 0, 1, 0, 0, 1, 0, 0, 0, 1, 0, 0, 0, 0, 0, 0, 1, 0,\n",
       "        1, 0, 0, 0, 1, 1, 0, 0, 1, 0, 1, 0, 0, 0, 0, 0, 0, 0, 0, 0, 0, 0,\n",
       "        0, 0, 0, 1, 0, 0, 0, 0, 0, 0, 0, 1, 0, 0, 0, 0, 0, 1, 0, 0, 0, 0,\n",
       "        0, 0, 1, 0, 1, 0, 0, 1, 1, 1, 1, 1, 0, 0, 0, 1, 0, 0, 0, 0, 0, 0,\n",
       "        1, 0, 0, 1, 0, 1, 0, 1, 0, 1, 0, 0, 0, 0, 0, 1, 0, 0, 0, 0, 0, 1,\n",
       "        0, 1, 0, 1, 0, 0, 1, 0, 0, 0, 0, 1, 0, 0, 1, 0, 0, 0, 1, 1, 1, 0,\n",
       "        1, 1, 0, 0, 1, 0, 0, 0, 0, 1, 0, 0, 0, 0, 0, 0, 0, 1, 0, 1, 1, 0,\n",
       "        0, 0, 0, 0, 0, 0, 1, 1, 1, 1, 0, 0, 1, 0, 1, 1, 1, 1, 0, 1, 0, 1,\n",
       "        1, 0, 0, 1, 0, 0, 0, 0, 0, 0, 0, 0, 1, 0, 0, 0, 0, 0, 0, 1, 0, 0,\n",
       "        0, 0, 0, 0, 0, 0, 1, 0, 0, 1, 0, 1, 0, 0, 0, 0, 1, 0, 0, 1, 0, 0,\n",
       "        0, 0, 0, 1, 1, 0, 0, 0, 0, 0, 0, 0, 1, 0, 1, 0, 0, 1, 0, 0, 0, 0,\n",
       "        0, 0, 0, 0, 1, 0, 0, 1, 0, 0, 0, 0, 1, 0, 1, 0, 1, 1, 1, 1, 1, 0,\n",
       "        0, 0, 1, 1, 0, 0, 1, 0, 0, 0, 0, 0, 1, 0, 1, 0, 0, 0, 0, 0, 0, 0,\n",
       "        0, 0, 0, 0, 1, 0, 0, 0, 0, 0, 1, 0, 0, 0, 1, 1, 0, 0, 0, 0, 0, 0,\n",
       "        0, 0, 0, 0, 0, 0, 0, 0, 0, 0, 0, 0, 0, 0, 0, 1, 1, 0, 0, 0, 0, 1,\n",
       "        1, 0, 0, 0, 1, 1, 0, 0, 0, 0, 0, 1, 1, 0, 0, 0, 1, 0, 0, 0, 0, 0,\n",
       "        1, 0, 0, 0, 0, 0, 0, 1, 1, 0, 0, 0, 0, 1, 0, 0, 1, 1, 0, 0, 1, 0,\n",
       "        1, 0, 0, 0, 1, 0, 0, 0, 0, 1, 1, 1, 1, 0, 0, 0, 0, 1, 0, 0, 0, 0,\n",
       "        0, 0, 0, 0, 0, 0, 0, 0, 0, 1, 0, 1, 0, 0, 1, 0, 0, 0, 0, 1, 1, 0,\n",
       "        1, 0, 0, 0, 0, 1, 1, 0, 0, 0, 0, 0, 0, 0, 0, 1, 0, 0, 1, 0, 0, 0,\n",
       "        0, 1, 1, 0, 1, 0, 0, 0, 0, 0, 0, 0, 1, 1, 0, 1, 1, 0, 0, 1, 1, 1,\n",
       "        1, 1, 0, 1, 0, 1, 0, 0, 1, 0, 0, 0, 0, 1, 1, 0, 0, 0, 0, 1, 0, 0,\n",
       "        0, 0, 1, 1, 0, 0, 1, 0, 1, 0, 0, 1, 0, 0, 0, 0, 1, 0, 1, 0, 0, 0,\n",
       "        0, 1, 1, 0, 0, 0, 0, 0, 1, 1, 0, 0, 0, 1, 0, 1, 0, 0, 0, 0, 1, 1,\n",
       "        0, 0, 0, 0, 1, 0, 1, 1, 0, 1, 0, 0, 0, 0, 0, 1, 1, 0, 0, 0, 0, 0,\n",
       "        1, 1, 0, 0, 1, 0, 0, 1, 0, 0, 0, 0, 1, 0, 1, 1, 0, 1, 0, 0, 0, 1,\n",
       "        0, 0, 1, 0, 0, 1, 0, 1, 1, 0, 0, 0, 1, 1, 1, 1, 1, 1, 0, 0, 0, 0,\n",
       "        0, 1, 0, 0, 0, 0, 0, 1, 1, 0, 0, 1, 0, 0, 0, 1, 0, 1, 1, 0, 0, 1,\n",
       "        0, 1, 0, 1, 1, 0, 1, 0, 1, 1, 1, 0, 1, 1, 0, 0, 0, 0, 0, 1, 0, 0,\n",
       "        0, 0, 0, 1, 0, 0, 0, 0, 0, 0, 0, 1, 0, 0, 1, 0, 1, 0, 1, 0, 0, 0,\n",
       "        1, 0, 0, 1, 1, 0, 0, 0, 0, 0, 0, 0, 0, 0, 0, 1, 0, 0, 1, 0, 1, 0,\n",
       "        0, 0, 0, 0, 0, 1, 0, 1, 0, 1, 1, 1, 1, 0, 0, 1, 1, 0, 0, 0, 0, 0,\n",
       "        0, 0, 0, 1, 0, 1, 0, 0, 1, 0, 1, 1, 1, 0, 1, 0, 0, 1, 0, 0, 0, 0,\n",
       "        0, 1, 0, 0, 0, 0, 1, 0, 0, 0, 1, 0, 0, 0, 0, 0, 0, 1, 1, 0, 0, 1,\n",
       "        0, 1, 0, 0, 0, 0, 0, 1, 0, 0, 0, 1, 0, 0, 1, 0, 0, 0, 0, 1, 1, 0,\n",
       "        0, 0, 1, 0, 1, 0, 1, 0, 0, 1, 0, 0, 1, 0, 0, 0, 1, 1, 0, 0, 0, 0,\n",
       "        0, 0, 1, 0, 0, 0, 0, 1, 0, 1, 1, 0, 0, 0, 1, 0, 0, 0, 0, 1, 0, 0,\n",
       "        0, 0, 0, 1, 0, 1, 1, 0, 1, 0], dtype=uint8))"
      ]
     },
     "execution_count": 67,
     "metadata": {},
     "output_type": "execute_result"
    }
   ],
   "source": [
    "yPred.shape, yPred"
   ]
  },
  {
   "cell_type": "code",
   "execution_count": 68,
   "metadata": {},
   "outputs": [],
   "source": [
    "testScore = spamSVC.score(Xtest, ytest)"
   ]
  },
  {
   "cell_type": "code",
   "execution_count": 69,
   "metadata": {},
   "outputs": [
    {
     "name": "stdout",
     "output_type": "stream",
     "text": [
      "Test Accuracy: 97.8 %\n"
     ]
    }
   ],
   "source": [
    "print(\"Test Accuracy:\", testScore * 100, \"%\")"
   ]
  },
  {
   "cell_type": "code",
   "execution_count": 70,
   "metadata": {},
   "outputs": [
    {
     "data": {
      "text/plain": [
       "array([1], dtype=uint8)"
      ]
     },
     "execution_count": 70,
     "metadata": {},
     "output_type": "execute_result"
    }
   ],
   "source": [
    "spamSVC.predict(spam1Features.T)\n",
    "# 1 => spam"
   ]
  },
  {
   "cell_type": "code",
   "execution_count": 71,
   "metadata": {},
   "outputs": [],
   "source": [
    "# trial runs"
   ]
  },
  {
   "cell_type": "code",
   "execution_count": 72,
   "metadata": {},
   "outputs": [],
   "source": [
    "# read email text file\n",
    "email1Path = \"D:\\Programming\\TestData\\emailMinalSample1.txt\"\n",
    "\n",
    "email1Content = open(email1Path, 'r').read()"
   ]
  },
  {
   "cell_type": "code",
   "execution_count": 73,
   "metadata": {},
   "outputs": [],
   "source": [
    "wordIndices = preProcessEmail(email1Content, vocabList_dict)"
   ]
  },
  {
   "cell_type": "code",
   "execution_count": 74,
   "metadata": {},
   "outputs": [],
   "source": [
    "email1Features = emailFeatures(wordIndices, vocabList_dict)"
   ]
  },
  {
   "cell_type": "code",
   "execution_count": 75,
   "metadata": {},
   "outputs": [
    {
     "data": {
      "text/plain": [
       "(93, 1899, 61.0)"
      ]
     },
     "execution_count": 75,
     "metadata": {},
     "output_type": "execute_result"
    }
   ],
   "source": [
    "len(wordIndices), len(email1Features), np.sum(email1Features) #nr of non zero entries"
   ]
  },
  {
   "cell_type": "code",
   "execution_count": 76,
   "metadata": {},
   "outputs": [
    {
     "data": {
      "text/plain": [
       "array([0], dtype=uint8)"
      ]
     },
     "execution_count": 76,
     "metadata": {},
     "output_type": "execute_result"
    }
   ],
   "source": [
    "spamSVC.predict(email1Features.T)\n",
    "# 0 => not spam"
   ]
  },
  {
   "cell_type": "code",
   "execution_count": 77,
   "metadata": {},
   "outputs": [],
   "source": [
    "# read email text file\n",
    "spam2Path = \"D:\\Programming\\TestData\\spamSample2.txt\"\n",
    "\n",
    "spam2Content = open(spam2Path, 'r').read()"
   ]
  },
  {
   "cell_type": "code",
   "execution_count": 78,
   "metadata": {},
   "outputs": [],
   "source": [
    "wordIndices = preProcessEmail(spam2Content, vocabList_dict)"
   ]
  },
  {
   "cell_type": "code",
   "execution_count": 79,
   "metadata": {},
   "outputs": [],
   "source": [
    "spam2Features = emailFeatures(wordIndices, vocabList_dict)"
   ]
  },
  {
   "cell_type": "code",
   "execution_count": 80,
   "metadata": {},
   "outputs": [
    {
     "data": {
      "text/plain": [
       "array([1], dtype=uint8)"
      ]
     },
     "execution_count": 80,
     "metadata": {},
     "output_type": "execute_result"
    }
   ],
   "source": [
    "spamSVC.predict(spam2Features.T)\n",
    "\n",
    "# 1 => spam"
   ]
  },
  {
   "cell_type": "code",
   "execution_count": 81,
   "metadata": {},
   "outputs": [],
   "source": [
    "# read email text file\n",
    "email2Path = \"D:\\Programming\\TestData\\emailMinalSample2.txt\"\n",
    "\n",
    "email2Content = open(email2Path, 'r').read()"
   ]
  },
  {
   "cell_type": "code",
   "execution_count": 82,
   "metadata": {},
   "outputs": [],
   "source": [
    "wordIndices = preProcessEmail(email2Content, vocabList_dict)"
   ]
  },
  {
   "cell_type": "code",
   "execution_count": 83,
   "metadata": {},
   "outputs": [],
   "source": [
    "email2Features = emailFeatures(wordIndices, vocabList_dict)"
   ]
  },
  {
   "cell_type": "code",
   "execution_count": 85,
   "metadata": {},
   "outputs": [
    {
     "data": {
      "text/plain": [
       "array([1], dtype=uint8)"
      ]
     },
     "execution_count": 85,
     "metadata": {},
     "output_type": "execute_result"
    }
   ],
   "source": [
    "spamSVC.predict(email2Features.T)\n",
    "\n",
    "# 0 => not spam (this mail sample is really small; result is inaccurate)"
   ]
  },
  {
   "cell_type": "code",
   "execution_count": 86,
   "metadata": {},
   "outputs": [],
   "source": [
    "# read email text file\n",
    "email3Path = \"D:\\Programming\\TestData\\emailSample2.txt\"\n",
    "\n",
    "email3Content = open(email3Path, 'r').read()"
   ]
  },
  {
   "cell_type": "code",
   "execution_count": 87,
   "metadata": {},
   "outputs": [],
   "source": [
    "wordIndices = preProcessEmail(email3Content, vocabList_dict)"
   ]
  },
  {
   "cell_type": "code",
   "execution_count": 88,
   "metadata": {},
   "outputs": [],
   "source": [
    "email3Features = emailFeatures(wordIndices, vocabList_dict)"
   ]
  },
  {
   "cell_type": "code",
   "execution_count": 89,
   "metadata": {},
   "outputs": [
    {
     "data": {
      "text/plain": [
       "array([0], dtype=uint8)"
      ]
     },
     "execution_count": 89,
     "metadata": {},
     "output_type": "execute_result"
    }
   ],
   "source": [
    "spamSVC.predict(email3Features.T)\n",
    "\n",
    "# 1 => spam "
   ]
  },
  {
   "cell_type": "code",
   "execution_count": null,
   "metadata": {},
   "outputs": [],
   "source": []
  }
 ],
 "metadata": {
  "kernelspec": {
   "display_name": "Python 3",
   "language": "python",
   "name": "python3"
  },
  "language_info": {
   "codemirror_mode": {
    "name": "ipython",
    "version": 3
   },
   "file_extension": ".py",
   "mimetype": "text/x-python",
   "name": "python",
   "nbconvert_exporter": "python",
   "pygments_lexer": "ipython3",
   "version": "3.8.3"
  }
 },
 "nbformat": 4,
 "nbformat_minor": 4
}
