{
 "cells": [
  {
   "cell_type": "code",
   "execution_count": 1,
   "metadata": {},
   "outputs": [],
   "source": [
    "import numpy as np\n",
    "import pandas as pd\n",
    "import matplotlib.pyplot as plt\n",
    "%matplotlib inline"
   ]
  },
  {
   "cell_type": "code",
   "execution_count": 2,
   "metadata": {},
   "outputs": [],
   "source": [
    "# for the minimising function\n",
    "from scipy.optimize import minimize\n",
    "\n",
    "# for reading MATLAB files\n",
    "from scipy.io import loadmat"
   ]
  },
  {
   "cell_type": "code",
   "execution_count": 31,
   "metadata": {},
   "outputs": [],
   "source": [
    "# alternative minimize function\n",
    "import scipy.optimize as opt "
   ]
  },
  {
   "cell_type": "code",
   "execution_count": 3,
   "metadata": {},
   "outputs": [],
   "source": [
    "from sklearn.preprocessing import OneHotEncoder"
   ]
  },
  {
   "cell_type": "code",
   "execution_count": 37,
   "metadata": {},
   "outputs": [],
   "source": [
    "# Neural Network model\n",
    "\n",
    "# 3 layers - input, hidden and output\n",
    "\n",
    "# input layer X has 401 neurons \n",
    "# hidden layer has 25 neurons\n",
    "# output layer has 10 neuros\n",
    "# input layer a1 is X with intercept - (5000,401)\n",
    "\n",
    "# weights between input layer and hidden layer = Theta1 - (25,401)\n",
    "# weights between hidden layer and output layer = Theta2 - (10,26)\n",
    "\n",
    "# z2 = Theta1 x a1\n",
    "# a2 = g(z2) plus intercept\n",
    "# z3 = Theta2 x a2\n",
    "# a3 = g(z3) = htheta(x)\n"
   ]
  },
  {
   "cell_type": "code",
   "execution_count": 38,
   "metadata": {},
   "outputs": [
    {
     "data": {
      "text/plain": [
       "{'__header__': b'MATLAB 5.0 MAT-file, Platform: GLNXA64, Created on: Sun Oct 16 13:09:09 2011',\n",
       " '__version__': '1.0',\n",
       " '__globals__': [],\n",
       " 'X': array([[0., 0., 0., ..., 0., 0., 0.],\n",
       "        [0., 0., 0., ..., 0., 0., 0.],\n",
       "        [0., 0., 0., ..., 0., 0., 0.],\n",
       "        ...,\n",
       "        [0., 0., 0., ..., 0., 0., 0.],\n",
       "        [0., 0., 0., ..., 0., 0., 0.],\n",
       "        [0., 0., 0., ..., 0., 0., 0.]]),\n",
       " 'y': array([[10],\n",
       "        [10],\n",
       "        [10],\n",
       "        ...,\n",
       "        [ 9],\n",
       "        [ 9],\n",
       "        [ 9]], dtype=uint8)}"
      ]
     },
     "execution_count": 38,
     "metadata": {},
     "output_type": "execute_result"
    }
   ],
   "source": [
    "# read X, y data from file \n",
    "\n",
    "path = \"D:\\Programming\\TestData\\ex4data1.mat\"\n",
    "#same data as in ex3data1.mat\n",
    "\n",
    "data = loadmat(path)\n",
    "#loads X, y from MATLAB file ex3data1.mat\n",
    "data"
   ]
  },
  {
   "cell_type": "code",
   "execution_count": 39,
   "metadata": {},
   "outputs": [
    {
     "data": {
      "text/plain": [
       "dict_keys(['__header__', '__version__', '__globals__', 'X', 'y'])"
      ]
     },
     "execution_count": 39,
     "metadata": {},
     "output_type": "execute_result"
    }
   ],
   "source": [
    "data.keys()"
   ]
  },
  {
   "cell_type": "code",
   "execution_count": 40,
   "metadata": {},
   "outputs": [
    {
     "data": {
      "text/plain": [
       "((5000, 400), (5000, 1))"
      ]
     },
     "execution_count": 40,
     "metadata": {},
     "output_type": "execute_result"
    }
   ],
   "source": [
    "data['X'].shape, data['y'].shape"
   ]
  },
  {
   "cell_type": "code",
   "execution_count": 41,
   "metadata": {},
   "outputs": [
    {
     "data": {
      "text/plain": [
       "((5000, 400), (5000, 1))"
      ]
     },
     "execution_count": 41,
     "metadata": {},
     "output_type": "execute_result"
    }
   ],
   "source": [
    "#extract X, y\n",
    "X, y = data['X'], data['y']\n",
    "\n",
    "X.shape, y.shape"
   ]
  },
  {
   "cell_type": "code",
   "execution_count": 42,
   "metadata": {},
   "outputs": [
    {
     "data": {
      "text/plain": [
       "array([ 1,  2,  3,  4,  5,  6,  7,  8,  9, 10], dtype=uint8)"
      ]
     },
     "execution_count": 42,
     "metadata": {},
     "output_type": "execute_result"
    }
   ],
   "source": [
    "# unique class labels in y\n",
    "np.unique(y)"
   ]
  },
  {
   "cell_type": "code",
   "execution_count": 43,
   "metadata": {},
   "outputs": [],
   "source": [
    "# read weights data from file \n",
    "\n",
    "path = \"D:\\Programming\\TestData\\ex4weights.mat\"\n",
    "#same as in ex3weights.mat\n",
    "\n",
    "weights = loadmat(path)\n",
    "#loads X, y from MATLAB file ex3data1.mat\n",
    "#weights"
   ]
  },
  {
   "cell_type": "code",
   "execution_count": 44,
   "metadata": {},
   "outputs": [
    {
     "data": {
      "text/plain": [
       "dict_keys(['__header__', '__version__', '__globals__', 'Theta1', 'Theta2'])"
      ]
     },
     "execution_count": 44,
     "metadata": {},
     "output_type": "execute_result"
    }
   ],
   "source": [
    "weights.keys()"
   ]
  },
  {
   "cell_type": "code",
   "execution_count": 45,
   "metadata": {},
   "outputs": [
    {
     "name": "stdout",
     "output_type": "stream",
     "text": [
      "Theta1: (25, 401)\n",
      "Theta2: (10, 26)\n"
     ]
    }
   ],
   "source": [
    "# extract Theta1, Theta2\n",
    "Theta1, Theta2 = weights['Theta1'], weights['Theta2'] \n",
    "\n",
    "print('Theta1: {}'.format(Theta1.shape))\n",
    "print('Theta2: {}'.format(Theta2.shape))"
   ]
  },
  {
   "cell_type": "code",
   "execution_count": 46,
   "metadata": {},
   "outputs": [
    {
     "data": {
      "image/png": "[encoded data removed]",
      "text/plain": [
       "<Figure size 432x288 with 1 Axes>"
      ]
     },
     "metadata": {
      "needs_background": "light"
     },
     "output_type": "display_data"
    }
   ],
   "source": [
    "sample = np.random.choice(X.shape[0], 5)\n",
    "# pick 5 rows in X at random\n",
    "\n",
    "plt.imshow(X[sample].reshape(-1,20))\n",
    "plt.axis('off');\n",
    "# note semicolon above"
   ]
  },
  {
   "cell_type": "code",
   "execution_count": 47,
   "metadata": {},
   "outputs": [],
   "source": [
    "# convert y (5000,1) to yOneHot (5000,10)\n",
    "# each row of yOneHot has all zeros except for the element corresponsing to label\n",
    "# i.e. if y[25] = 7, then yOneHot[25] = [0, 0, 0, 0, 0, 0, 1, 0, 0, 0] (i.e. 1 in 7th element of row 25)\n",
    "\n",
    "#encoder = OneHotEncoder(sparse = False)\n",
    "#yOneHot = encoder.fit_transform(y)\n",
    "\n",
    "# move this to within cost function\n",
    "# cost function needs parameter 'y' not 'yOneHot'; create 'yOneHot' from 'y' inside cost function"
   ]
  },
  {
   "cell_type": "code",
   "execution_count": 48,
   "metadata": {},
   "outputs": [],
   "source": [
    "#y[4000], yOneHot[4000]"
   ]
  },
  {
   "cell_type": "code",
   "execution_count": 49,
   "metadata": {},
   "outputs": [],
   "source": [
    "# sigmoid\n",
    "# hypothesie\n",
    "# for the feed forward computation\n",
    "\n",
    "def sigmoid(z):\n",
    "    return 1/(1 + np.exp(-z))"
   ]
  },
  {
   "cell_type": "code",
   "execution_count": 50,
   "metadata": {},
   "outputs": [],
   "source": [
    "# sigmoid gradient\n",
    "# for the back propagation computation\n",
    "\n",
    "def sigmoidGradient(z):\n",
    "    return sigmoid(z) * (1-sigmoid(z))"
   ]
  },
  {
   "cell_type": "code",
   "execution_count": 51,
   "metadata": {},
   "outputs": [
    {
     "data": {
      "text/plain": [
       "0.25"
      ]
     },
     "execution_count": 51,
     "metadata": {},
     "output_type": "execute_result"
    }
   ],
   "source": [
    "# testing sigmoidGradient\n",
    "z= 0\n",
    "sigmoidGradient(z)"
   ]
  },
  {
   "cell_type": "code",
   "execution_count": 52,
   "metadata": {},
   "outputs": [],
   "source": [
    "# random intitialing weights\n",
    "# the initial weights for back prop should not be set to 0, to avoid getting stuck in symmetric calculations \n",
    "# i.e break symmetry during training / minimizing / learning actual weights\n",
    "# instead set them randomly so that calculations can proceed further\n",
    "\n",
    "def randomInitialize(linesIn, linesOut):\n",
    "    \n",
    "    epsilon = ((6)**0.5) / ((linesIn + linesOut) ** 0.5)\n",
    "    # see ex4 pdf note\n",
    "        \n",
    "    W = np.random.random((linesOut, linesIn + 1))\n",
    "    \n",
    "    # normalize so that it spans a range of twice epsilon\n",
    "    W = W * 2 * epsilon\n",
    "    \n",
    "    # shift so that mean is at 0\n",
    "    W = W - epsilon\n",
    "        \n",
    "    return W "
   ]
  },
  {
   "cell_type": "code",
   "execution_count": 53,
   "metadata": {},
   "outputs": [],
   "source": [
    "initialTheta1 = randomInitialize(400, 25)\n",
    "initialTheta2 = randomInitialize(25, 10)"
   ]
  },
  {
   "cell_type": "code",
   "execution_count": 54,
   "metadata": {},
   "outputs": [
    {
     "name": "stdout",
     "output_type": "stream",
     "text": [
      "(25, 401)\n",
      "(10, 26)\n"
     ]
    }
   ],
   "source": [
    "print(initialTheta1.shape)\n",
    "print(initialTheta2.shape)"
   ]
  },
  {
   "cell_type": "code",
   "execution_count": 55,
   "metadata": {},
   "outputs": [],
   "source": [
    "def forwardPass(X, Theta1, Theta2):    \n",
    "\n",
    "    # add intercept at input layer\n",
    "    a1 = np.c_[np.ones((X.shape[0], 1)), X] # (5000,401)    \n",
    "    \n",
    "    z2 = np.dot(a1, Theta1.T) # (5000,401) * (401,25) ->(5000,25)\n",
    "    a2 = sigmoid(z2)\n",
    "    \n",
    "    # add intercept at hidden layer\n",
    "    a2 = np.c_[np.ones((a2.shape[0], 1)), a2] # (5000,26)    \n",
    "    \n",
    "    z3 = np.dot(a2, Theta2.T) # (5000,26) * (26,10) ->(5000,10)\n",
    "    a3 = sigmoid(z3)\n",
    "    \n",
    "    return a1, z2, a2, z3, a3"
   ]
  },
  {
   "cell_type": "code",
   "execution_count": 56,
   "metadata": {},
   "outputs": [],
   "source": [
    "def nnCostFunction(nnParams, inputLayerSize, hiddenLayerSize, numLabels, X, y, learningRate):\n",
    "    \"\"\"\n",
    "    X is (5000,400)\n",
    "    yOneHot is (5000,10)\n",
    "    \n",
    "    Theta1 is (25,401)\n",
    "    Theta2 is (10,26)\n",
    "    \n",
    "    z2 = Theta1 x a1\n",
    "    a2 = g(z2) plus intercept\n",
    "    z3 = Theta2 x a2\n",
    "    a3 = g(z3) = htheta(x)\n",
    "    \n",
    "    \"\"\"\n",
    "    m = X.shape[0]\n",
    "\n",
    "    # convert y (5000,1) to yOneHot (5000,10)\n",
    "    # each row of yOneHot has all zeros except for the element corresponsing to label\n",
    "    # i.e. if y[25] = 7, then yOneHot[25] = [0, 0, 0, 0, 0, 0, 1, 0, 0, 0] (i.e. 1 in 7th element of row 25)\n",
    "    encoder = OneHotEncoder(sparse = False)\n",
    "    yOneHot = encoder.fit_transform(y)\n",
    "    \n",
    "    \n",
    "    # return cost, from forward pass\n",
    "    cost = 0\n",
    "\n",
    "    # cost (forward pass)\n",
    "    # ==================\n",
    "   \n",
    "    # extract Theta1,Theta2 from nnParams\n",
    "    Theta1 = nnParams[0 : (hiddenLayerSize * (inputLayerSize + 1))].reshape(hiddenLayerSize, (inputLayerSize + 1))\n",
    "    Theta2 = nnParams[(hiddenLayerSize * (inputLayerSize + 1)) :  ].reshape(numLabels,       (hiddenLayerSize + 1))    \n",
    "   \n",
    "\n",
    "    a1,z2,a2,z3,a3 = forwardPass(X, Theta1, Theta2)    \n",
    "    \"\"\"\n",
    "    # add intercept at input layer\n",
    "    a1 = np.c_[np.ones((X.shape[0], 1)), X] # (5000,401)    \n",
    "    \n",
    "    z2 = np.dot(a1, Theta1.T) # (5000,401) * (401,25) ->(5000,25)\n",
    "    a2 = sigmoid(z2)\n",
    "    \n",
    "    # add intercept at hidden layer\n",
    "    a2 = np.c_[np.ones((a2.shape[0], 1)), a2] # (5000,26)    \n",
    "    \n",
    "    z3 = np.dot(a2, Theta2.T) # (5000,26) * (26,10) ->(5000,10)\n",
    "    a3 = sigmoid(z3)\n",
    "    \"\"\"\n",
    "    \n",
    "    # calculating regularization term\n",
    "    regTerm = (learningRate/(2*m)) * (np.sum(np.square(Theta1[:,1:])) + np.sum(np.square(Theta2[:,1:])))\n",
    "    # ignoring intercept first column of theta which is not regularized\n",
    "\n",
    "    term1 = np.multiply(-yOneHot, np.log(a3)) \n",
    "    term2 = np.multiply((1-yOneHot), np.log(1 - a3))\n",
    "    # note difference between numpy.dot and numpy.multiply\n",
    "    # numpy.dot is dot product of matrices\n",
    "    # numpy.multiply is elementwise multiplication\n",
    "    \n",
    "    cost = (1/m) * np.sum(term1 - term2) + regTerm\n",
    "    \n",
    "    \n",
    "    # back propagation\n",
    "    # ==================\n",
    "    \n",
    "    # return gradients, from back pass\n",
    "    Theta1Grad = np.zeros((Theta1.size))\n",
    "    Theta2Grad = np.zeros((Theta2.size))\n",
    "    \n",
    "    #computing errors at every node of every layer\n",
    "    \n",
    "    d3 = a3 - yOneHot \n",
    "    # each being (5000,10)\n",
    "    \n",
    "    d2 = np.multiply(np.dot(d3, Theta2[:,1:]), sigmoidGradient(z2))\n",
    "    # d3 is (5000,10), Theta2[:,1:] is (10,25), hence dot product is (5000,25)\n",
    "    # z2 is (5000,25), hence elementwise product d2 is (5000,25)\n",
    "    \n",
    "    delta2 = np.dot(d3.T, a2)\n",
    "    # d3 is (10,5000), a2 is (5000,26), \n",
    "    # result delta2 is (10,26) - same as Theta1\n",
    "    \n",
    "    delta1 = np.dot(d2.T, a1)\n",
    "    # d2 is (25,5000), a1 is (5000,401)\n",
    "    # result delta1 is (25,401) - same as Theta2\n",
    "\n",
    "    #regularizing gradients\n",
    "    \n",
    "    # intercept term is not regularized, first column set to zero\n",
    "    Theta1[:, 0] = 0 \n",
    "    Theta2[:, 0] = 0    \n",
    "    \n",
    "    # here shape of theta is retained since end result grad is shape of Theta    \n",
    "    Theta1Grad = (delta1 / m ) + (learningRate / m) * Theta1\n",
    "    Theta2Grad = (delta2 / m ) + (learningRate / m) * Theta2    \n",
    "   \n",
    "    #unroll into vectors\n",
    "    grads = np.r_[Theta1Grad.ravel(), Theta2Grad.ravel()]\n",
    "    \n",
    "    return cost, grads"
   ]
  },
  {
   "cell_type": "code",
   "execution_count": 57,
   "metadata": {},
   "outputs": [],
   "source": [
    "inputLayerSize = 400 \n",
    "hiddenLayerSize = 25 \n",
    "numLabels = 10\n"
   ]
  },
  {
   "cell_type": "code",
   "execution_count": 60,
   "metadata": {},
   "outputs": [],
   "source": [
    "# Unroll parameters.\n",
    "nnParams = np.r_[Theta1.ravel(), Theta2.ravel()]"
   ]
  },
  {
   "cell_type": "code",
   "execution_count": 59,
   "metadata": {},
   "outputs": [
    {
     "data": {
      "text/plain": [
       "0.2876291651613189"
      ]
     },
     "execution_count": 59,
     "metadata": {},
     "output_type": "execute_result"
    }
   ],
   "source": [
    "# testing cost with regularization\n",
    "learningRate = 0\n",
    "\n",
    "cost, grad = nnCostFunction(nnParams, inputLayerSize, hiddenLayerSize, numLabels, X, y, learningRate)\n",
    "cost"
   ]
  },
  {
   "cell_type": "code",
   "execution_count": 61,
   "metadata": {},
   "outputs": [
    {
     "data": {
      "text/plain": [
       "0.38376985909092365"
      ]
     },
     "execution_count": 61,
     "metadata": {},
     "output_type": "execute_result"
    }
   ],
   "source": [
    "# testing cost with regularization\n",
    "learningRate = 1\n",
    "\n",
    "cost, grad = nnCostFunction(nnParams, inputLayerSize, hiddenLayerSize, numLabels, X, y, learningRate)\n",
    "cost"
   ]
  },
  {
   "cell_type": "code",
   "execution_count": 62,
   "metadata": {},
   "outputs": [
    {
     "data": {
      "text/plain": [
       "     fun: 0.337383568160693\n",
       "     jac: array([-1.35698818e-04, -1.73743231e-12,  3.60919462e-13, ...,\n",
       "       -3.42475249e-05,  2.38841116e-05, -5.99301385e-05])\n",
       " message: 'Linear search failed'\n",
       "    nfev: 125\n",
       "     nit: 4\n",
       "  status: 4\n",
       " success: False\n",
       "       x: array([-7.65112229e-02, -8.68716153e-09,  1.80459731e-09, ...,\n",
       "       -3.57018124e-01,  1.84608277e+00, -1.82264364e+00])"
      ]
     },
     "execution_count": 62,
     "metadata": {},
     "output_type": "execute_result"
    }
   ],
   "source": [
    "# minimize the objective function\n",
    "fmin = minimize(fun = nnCostFunction, x0 = nnParams, args = (inputLayerSize, hiddenLayerSize, numLabels, X, y, learningRate), \n",
    "                method='TNC', jac = True, options = {'maxiter': 250})\n",
    "fmin"
   ]
  },
  {
   "cell_type": "code",
   "execution_count": 63,
   "metadata": {},
   "outputs": [],
   "source": [
    "# alternative"
   ]
  },
  {
   "cell_type": "code",
   "execution_count": 64,
   "metadata": {},
   "outputs": [],
   "source": [
    "fmin = opt.fmin_tnc(func = nnCostFunction, x0 = nnParams, args = (inputLayerSize, hiddenLayerSize, numLabels, X, y, learningRate))\n",
    "\n",
    "parameters = fmin[0]"
   ]
  },
  {
   "cell_type": "code",
   "execution_count": 65,
   "metadata": {},
   "outputs": [
    {
     "data": {
      "text/plain": [
       "array([-7.65112229e-02, -8.68716153e-09,  1.80459731e-09, ...,\n",
       "       -3.57018124e-01,  1.84608277e+00, -1.82264364e+00])"
      ]
     },
     "execution_count": 65,
     "metadata": {},
     "output_type": "execute_result"
    }
   ],
   "source": [
    "parameters"
   ]
  },
  {
   "cell_type": "code",
   "execution_count": 66,
   "metadata": {},
   "outputs": [
    {
     "data": {
      "text/plain": [
       "((25, 401), (10, 26))"
      ]
     },
     "execution_count": 66,
     "metadata": {},
     "output_type": "execute_result"
    }
   ],
   "source": [
    "optTheta1 = parameters[0 : (hiddenLayerSize * (inputLayerSize + 1))].reshape(hiddenLayerSize, (inputLayerSize + 1))\n",
    "optTheta2 = parameters[(hiddenLayerSize * (inputLayerSize + 1)) :  ].reshape(numLabels,       (hiddenLayerSize + 1)) \n",
    "\n",
    "optTheta1.shape, optTheta2.shape"
   ]
  },
  {
   "cell_type": "code",
   "execution_count": 67,
   "metadata": {},
   "outputs": [],
   "source": [
    "a1,z2,a2,z3,a3 = forwardPass(X, optTheta1, optTheta2) "
   ]
  },
  {
   "cell_type": "code",
   "execution_count": 68,
   "metadata": {},
   "outputs": [],
   "source": [
    "# create array of the index with the maximum probability\n",
    "hArgmax = np.argmax(a3, axis=1)"
   ]
  },
  {
   "cell_type": "code",
   "execution_count": 70,
   "metadata": {},
   "outputs": [
    {
     "name": "stdout",
     "output_type": "stream",
     "text": [
      "Training set accuracy: 0.04 %\n"
     ]
    }
   ],
   "source": [
    "print('Training set accuracy: {} %'.format(np.mean(hArgmax == y.ravel())*100))"
   ]
  },
  {
   "cell_type": "code",
   "execution_count": null,
   "metadata": {},
   "outputs": [],
   "source": []
  }
 ],
 "metadata": {
  "kernelspec": {
   "display_name": "Python 3",
   "language": "python",
   "name": "python3"
  },
  "language_info": {
   "codemirror_mode": {
    "name": "ipython",
    "version": 3
   },
   "file_extension": ".py",
   "mimetype": "text/x-python",
   "name": "python",
   "nbconvert_exporter": "python",
   "pygments_lexer": "ipython3",
   "version": "3.8.3"
  }
 },
 "nbformat": 4,
 "nbformat_minor": 4
}
