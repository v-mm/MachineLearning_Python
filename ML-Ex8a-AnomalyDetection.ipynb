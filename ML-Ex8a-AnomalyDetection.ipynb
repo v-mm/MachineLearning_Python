{
 "cells": [
  {
   "cell_type": "code",
   "execution_count": 1,
   "metadata": {},
   "outputs": [],
   "source": [
    "import numpy as np\n",
    "import matplotlib.pyplot as plt\n",
    "%matplotlib inline"
   ]
  },
  {
   "cell_type": "code",
   "execution_count": 2,
   "metadata": {},
   "outputs": [],
   "source": [
    "from scipy.io import loadmat"
   ]
  },
  {
   "cell_type": "code",
   "execution_count": 3,
   "metadata": {},
   "outputs": [],
   "source": [
    "# for probability density functions\n",
    "from scipy import stats"
   ]
  },
  {
   "cell_type": "code",
   "execution_count": 4,
   "metadata": {},
   "outputs": [],
   "source": [
    "# part 1 "
   ]
  },
  {
   "cell_type": "code",
   "execution_count": 5,
   "metadata": {},
   "outputs": [
    {
     "data": {
      "text/plain": [
       "dict_keys(['__header__', '__version__', '__globals__', 'X', 'Xval', 'yval'])"
      ]
     },
     "execution_count": 5,
     "metadata": {},
     "output_type": "execute_result"
    }
   ],
   "source": [
    "# load data\n",
    "\n",
    "path = \"D:\\Programming\\TestData\\ex8data1.mat\"\n",
    "\n",
    "data = loadmat(path)\n",
    "data.keys()"
   ]
  },
  {
   "cell_type": "code",
   "execution_count": 6,
   "metadata": {},
   "outputs": [
    {
     "data": {
      "text/plain": [
       "((307, 2), (307, 2), (307, 1))"
      ]
     },
     "execution_count": 6,
     "metadata": {},
     "output_type": "execute_result"
    }
   ],
   "source": [
    "X, Xval, yval = data['X'], data['Xval'], data['yval']\n",
    "X.shape, Xval.shape, yval.shape"
   ]
  },
  {
   "cell_type": "code",
   "execution_count": 7,
   "metadata": {},
   "outputs": [
    {
     "data": {
      "text/plain": [
       "<matplotlib.collections.PathCollection at 0x2668b15c0d0>"
      ]
     },
     "execution_count": 7,
     "metadata": {},
     "output_type": "execute_result"
    },
    {
     "data": {
      "image/png": "[encoded data removed]",
      "text/plain": [
       "<Figure size 432x288 with 1 Axes>"
      ]
     },
     "metadata": {
      "needs_background": "light"
     },
     "output_type": "display_data"
    }
   ],
   "source": [
    "# plot data\n",
    "\n",
    "fig, ax = plt.subplots(figsize = (6,4))\n",
    "ax.set_xlabel('Latency(ms)')\n",
    "ax.set_ylabel('Throughput(mb/s)')\n",
    "ax.scatter([X[:,0]], [X[:,1]], marker = 'x', s=30, color='b')"
   ]
  },
  {
   "cell_type": "code",
   "execution_count": 10,
   "metadata": {},
   "outputs": [
    {
     "data": {
      "text/plain": [
       "<matplotlib.collections.PathCollection at 0x2668b26d5b0>"
      ]
     },
     "execution_count": 10,
     "metadata": {},
     "output_type": "execute_result"
    },
    {
     "data": {
      "image/png": "[encoded data removed]",
      "text/plain": [
       "<Figure size 432x288 with 1 Axes>"
      ]
     },
     "metadata": {
      "needs_background": "light"
     },
     "output_type": "display_data"
    }
   ],
   "source": [
    "# plot Xval data\n",
    "\n",
    "fig, ax = plt.subplots(figsize = (6,4))\n",
    "ax.set_xlabel('Latency(ms)')\n",
    "ax.set_ylabel('Throughput(mb/s)')\n",
    "ax.scatter([Xval[:,0]], [Xval[:,1]], marker = 'x', s=30, color='b')"
   ]
  },
  {
   "cell_type": "code",
   "execution_count": 11,
   "metadata": {},
   "outputs": [],
   "source": [
    "# estimate dataset statistics"
   ]
  },
  {
   "cell_type": "code",
   "execution_count": 12,
   "metadata": {},
   "outputs": [],
   "source": [
    "def estimateGaussian(X):\n",
    "    \n",
    "    # mu = X.mean(axis = 0)\n",
    "    # sigma2 = X.var(axis = 0)\n",
    "    \n",
    "    # alternate\n",
    "    \n",
    "    mu = np.mean(X, axis = 0)\n",
    "    sigma2 = np.var(X, axis = 0)\n",
    "    \n",
    "    return mu, sigma2"
   ]
  },
  {
   "cell_type": "code",
   "execution_count": 13,
   "metadata": {},
   "outputs": [
    {
     "data": {
      "text/plain": [
       "(array([14.11222578, 14.99771051]), array([1.83263141, 1.70974533]))"
      ]
     },
     "execution_count": 13,
     "metadata": {},
     "output_type": "execute_result"
    }
   ],
   "source": [
    "mu, sigma2 = estimateGaussian(X)\n",
    "mu, sigma2"
   ]
  },
  {
   "cell_type": "code",
   "execution_count": 14,
   "metadata": {},
   "outputs": [],
   "source": [
    "# calcutalte pdf (probability density functions) for X, Xval\n",
    "# using inbuilt methods from scipy.stats"
   ]
  },
  {
   "cell_type": "code",
   "execution_count": 15,
   "metadata": {},
   "outputs": [
    {
     "data": {
      "text/plain": [
       "(307, 2)"
      ]
     },
     "execution_count": 15,
     "metadata": {},
     "output_type": "execute_result"
    }
   ],
   "source": [
    "# compute the probability that each element of X belongs to the 'normal' distribution\n",
    "# defined by mu and sigma2\n",
    "# i.e. the probability density function for all elements of X\n",
    "\n",
    "m,n = X.shape\n",
    "\n",
    "p = np.zeros((m,n))\n",
    "p[:,0] = stats.norm(mu[0], sigma2[0]).pdf(X[:,0])\n",
    "p[:,1] = stats.norm(mu[1], sigma2[1]).pdf(X[:,1])\n",
    "p.shape"
   ]
  },
  {
   "cell_type": "code",
   "execution_count": 16,
   "metadata": {},
   "outputs": [],
   "source": [
    "# note - \n",
    "# above we calculated the probability that each of the instances of X belong to the 'normal' distribution \n",
    "# that we defined earlier by calculating the mean and variance for each dimension. \n",
    "# Essentially it's computing how far each instance is from the mean and \n",
    "# how that compares to the \"typical\" distance from the mean for this data."
   ]
  },
  {
   "cell_type": "code",
   "execution_count": 17,
   "metadata": {},
   "outputs": [],
   "source": [
    "# repeat for Xval"
   ]
  },
  {
   "cell_type": "code",
   "execution_count": 18,
   "metadata": {},
   "outputs": [
    {
     "data": {
      "text/plain": [
       "(307, 2)"
      ]
     },
     "execution_count": 18,
     "metadata": {},
     "output_type": "execute_result"
    }
   ],
   "source": [
    "# compute the probability that each element of Xval belongs to the distribution\n",
    "# defined by mu and sigma2\n",
    "# i.e. the probability density function for all elements of Xval\n",
    "\n",
    "mval,nval = Xval.shape\n",
    "\n",
    "pval = np.zeros((mval,nval))\n",
    "pval[:,0] = stats.norm(mu[0], sigma2[0]).pdf(Xval[:,0])\n",
    "pval[:,1] = stats.norm(mu[1], sigma2[1]).pdf(Xval[:,1])\n",
    "pval.shape"
   ]
  },
  {
   "cell_type": "code",
   "execution_count": 19,
   "metadata": {},
   "outputs": [],
   "source": [
    "# select threshold value epsilon to benchmark predictions (p, pval)\n",
    "# use cross validation set to determine epsilon value\n",
    "\n",
    "def selectThreshold(yval, pval):\n",
    "    \n",
    "    \"\"\"\n",
    "    F1 score = 2 * (precision * recall) / (precision + recall)\n",
    "    precision = truePositives / (truePositives + falsePositives)\n",
    "    recall = truePositives / (truePositives + falseNegatives)\n",
    "\n",
    "    yval == 1, => actual anomaly\n",
    "    pval < epsilon, => predicted anomaly, i.e. predicting yval is 1\n",
    "    \"\"\"\n",
    "    \n",
    "    bestEpsilon = 0\n",
    "    bestF1 = 0\n",
    "    F1 = 0\n",
    "    \n",
    "    step = (pval.max() - pval.min()) / 1000\n",
    "    \n",
    "    for epsilon in np.arange(pval.min(), pval.max(), step):\n",
    "        prediction = (pval < epsilon) \n",
    "        truePositives  = np.sum(np.logical_and(prediction == 1, yval == 1)).astype(float)\n",
    "        falsePositives = np.sum(np.logical_and(prediction == 1, yval == 0)).astype(float)\n",
    "        falseNegatives = np.sum(np.logical_and(prediction == 0, yval == 1)).astype(float)\n",
    "        \n",
    "        precision = truePositives / (truePositives + falsePositives)\n",
    "        recall    = truePositives / (truePositives + falseNegatives)\n",
    "        \n",
    "        F1 = 2 * (precision * recall) / (precision + recall)\n",
    "        \n",
    "        if F1 > bestF1:\n",
    "            bestF1 = F1\n",
    "            bestEpsilon = epsilon\n",
    "        \n",
    "    \n",
    "    return bestEpsilon, bestF1"
   ]
  },
  {
   "cell_type": "code",
   "execution_count": 21,
   "metadata": {},
   "outputs": [
    {
     "name": "stderr",
     "output_type": "stream",
     "text": [
      "<ipython-input-19-f7a1fc4cec8f>:27: RuntimeWarning: invalid value encountered in double_scalars\n",
      "  precision = truePositives / (truePositives + falsePositives)\n"
     ]
    },
    {
     "data": {
      "text/plain": [
       "(0.009566706005956842, 0.7142857142857143)"
      ]
     },
     "execution_count": 21,
     "metadata": {},
     "output_type": "execute_result"
    }
   ],
   "source": [
    "# compute best value for epsilon and F1\n",
    "\n",
    "epsilon, F1 = selectThreshold(yval, pval)\n",
    "epsilon, F1"
   ]
  },
  {
   "cell_type": "code",
   "execution_count": 22,
   "metadata": {},
   "outputs": [
    {
     "data": {
      "text/plain": [
       "(array([300, 301, 301, 303, 303, 304, 306, 306], dtype=int64),\n",
       " array([1, 0, 1, 0, 1, 0, 0, 1], dtype=int64))"
      ]
     },
     "execution_count": 22,
     "metadata": {},
     "output_type": "execute_result"
    }
   ],
   "source": [
    "# find outliers i.e elements of X, where p(X) < epsilon\n",
    "\n",
    "outliers = np.where(p < epsilon)\n",
    "outliers"
   ]
  },
  {
   "cell_type": "code",
   "execution_count": 23,
   "metadata": {},
   "outputs": [
    {
     "data": {
      "text/plain": [
       "8"
      ]
     },
     "execution_count": 23,
     "metadata": {},
     "output_type": "execute_result"
    }
   ],
   "source": [
    "# Nr of predicted outliers\n",
    "\n",
    "np.sum(p < epsilon)"
   ]
  },
  {
   "cell_type": "code",
   "execution_count": 25,
   "metadata": {},
   "outputs": [
    {
     "data": {
      "text/plain": [
       "<matplotlib.collections.PathCollection at 0x1fba64d1370>"
      ]
     },
     "execution_count": 25,
     "metadata": {},
     "output_type": "execute_result"
    },
    {
     "data": {
      "image/png": "[encoded data removed]",
      "text/plain": [
       "<Figure size 432x288 with 1 Axes>"
      ]
     },
     "metadata": {
      "needs_background": "light"
     },
     "output_type": "display_data"
    }
   ],
   "source": [
    "# plot outliers i.e elements of X, where p(X) < epsilon\n",
    "\n",
    "fig, ax = plt.subplots(figsize = (6,4))\n",
    "ax.set_xlabel('Latency(ms)')\n",
    "ax.set_ylabel('Throughput(mb/s)')\n",
    "\n",
    "ax.scatter([X[:,0]], [X[:,1]], marker = 'x', s=30, color='b')\n",
    "ax.scatter([X[outliers,0]], [X[outliers,1]], marker = 'x', s=30, color='r')\n"
   ]
  },
  {
   "cell_type": "code",
   "execution_count": 26,
   "metadata": {},
   "outputs": [],
   "source": [
    "# part 2"
   ]
  },
  {
   "cell_type": "code",
   "execution_count": 31,
   "metadata": {},
   "outputs": [
    {
     "data": {
      "text/plain": [
       "dict_keys(['__header__', '__version__', '__globals__', 'X', 'Xval', 'yval'])"
      ]
     },
     "execution_count": 31,
     "metadata": {},
     "output_type": "execute_result"
    }
   ],
   "source": [
    "path = \"D:\\Programming\\TestData\\ex8data2.mat\"\n",
    "\n",
    "data = loadmat(path)\n",
    "data.keys()"
   ]
  },
  {
   "cell_type": "code",
   "execution_count": 32,
   "metadata": {},
   "outputs": [
    {
     "data": {
      "text/plain": [
       "((1000, 11), (100, 11), (100, 1))"
      ]
     },
     "execution_count": 32,
     "metadata": {},
     "output_type": "execute_result"
    }
   ],
   "source": [
    "X, Xval, yval = data['X'], data['Xval'], data['yval']\n",
    "X.shape, Xval.shape, yval.shape"
   ]
  },
  {
   "cell_type": "code",
   "execution_count": 33,
   "metadata": {},
   "outputs": [
    {
     "data": {
      "text/plain": [
       "(array([  4.93940034,  -9.63726819,  13.81470749, -10.4644888 ,\n",
       "         -7.95622922,  10.19950372,  -6.01940755,   7.96982896,\n",
       "         -6.2531819 ,   2.32451289,   8.47372252]),\n",
       " array([60.97489373, 53.20572186, 58.51546272, 84.20403725, 65.26859177,\n",
       "        89.57487757, 55.63349911, 87.16233783, 29.62926829, 70.7852052 ,\n",
       "        50.50356719]))"
      ]
     },
     "execution_count": 33,
     "metadata": {},
     "output_type": "execute_result"
    }
   ],
   "source": [
    "# estimate new dataset statistics - mean and vaiance\n",
    "\n",
    "mu, sigma2 = estimateGaussian(X)\n",
    "mu, sigma2"
   ]
  },
  {
   "cell_type": "code",
   "execution_count": 34,
   "metadata": {},
   "outputs": [
    {
     "data": {
      "text/plain": [
       "(1000, 11)"
      ]
     },
     "execution_count": 34,
     "metadata": {},
     "output_type": "execute_result"
    }
   ],
   "source": [
    "# cmpute probability density functions for X and X val\n",
    "\n",
    "m,n = X.shape\n",
    "\n",
    "p = np.zeros((m,n))\n",
    "p = stats.norm(mu, sigma2).pdf(X)\n",
    "p.shape"
   ]
  },
  {
   "cell_type": "code",
   "execution_count": 46,
   "metadata": {},
   "outputs": [
    {
     "data": {
      "text/plain": [
       "(100, 11)"
      ]
     },
     "execution_count": 46,
     "metadata": {},
     "output_type": "execute_result"
    }
   ],
   "source": [
    "m,n = Xval.shape\n",
    "\n",
    "pval = np.zeros((m,n))\n",
    "pval = stats.norm(mu, sigma2).pdf(Xval)\n",
    "pval.shape"
   ]
  },
  {
   "cell_type": "code",
   "execution_count": 36,
   "metadata": {},
   "outputs": [
    {
     "name": "stderr",
     "output_type": "stream",
     "text": [
      "<ipython-input-19-f7a1fc4cec8f>:27: RuntimeWarning: invalid value encountered in double_scalars\n",
      "  precision = truePositives / (truePositives + falsePositives)\n"
     ]
    },
    {
     "data": {
      "text/plain": [
       "(0.012420382026040781, 0.18749999999999997)"
      ]
     },
     "execution_count": 36,
     "metadata": {},
     "output_type": "execute_result"
    }
   ],
   "source": [
    "# compute the best threshold value for epsilon\n",
    "\n",
    "epsilon, F1 = selectThreshold(yval, pval)\n",
    "epsilon, F1"
   ]
  },
  {
   "cell_type": "code",
   "execution_count": null,
   "metadata": {},
   "outputs": [],
   "source": []
  }
 ],
 "metadata": {
  "kernelspec": {
   "display_name": "Python 3",
   "language": "python",
   "name": "python3"
  },
  "language_info": {
   "codemirror_mode": {
    "name": "ipython",
    "version": 3
   },
   "file_extension": ".py",
   "mimetype": "text/x-python",
   "name": "python",
   "nbconvert_exporter": "python",
   "pygments_lexer": "ipython3",
   "version": "3.8.3"
  }
 },
 "nbformat": 4,
 "nbformat_minor": 4
}
