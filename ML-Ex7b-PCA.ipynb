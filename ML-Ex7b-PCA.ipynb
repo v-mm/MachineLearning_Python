{
 "cells": [
  {
   "cell_type": "code",
   "execution_count": 1,
   "metadata": {},
   "outputs": [],
   "source": [
    "# PCA\n",
    "\n",
    "# typically used for dimensionality reduction\n",
    "\n",
    "# reduce dataset with several thousand features (dimensions) into\n",
    "# manageable number of features\n",
    "\n",
    "# in this case we take the projections onto X, of the top 'K' Eigen Vectors from U.\n",
    "# where K <= n\n",
    "\n",
    "# face example\n",
    "# original image X is 5000x1024\n",
    "# PCA transformed image Z is 5000x100 (K = 100 dimensions)\n",
    "# recovered image Xrec is 5000x1024\n",
    "\n",
    "# i.e. for bird image\n",
    "# original image is 128x128x3 (3 indicating R,G, B colors)\n",
    "# reshaped into 16384x3 (3D features)\n",
    "# "
   ]
  },
  {
   "cell_type": "code",
   "execution_count": 30,
   "metadata": {},
   "outputs": [],
   "source": [
    "import numpy as np\n",
    "import matplotlib.pyplot as plt\n",
    "%matplotlib inline"
   ]
  },
  {
   "cell_type": "code",
   "execution_count": 31,
   "metadata": {},
   "outputs": [],
   "source": [
    "# for reading MATLAB files\n",
    "from scipy.io import loadmat"
   ]
  },
  {
   "cell_type": "code",
   "execution_count": 32,
   "metadata": {},
   "outputs": [],
   "source": [
    "# part 1"
   ]
  },
  {
   "cell_type": "code",
   "execution_count": 33,
   "metadata": {},
   "outputs": [
    {
     "data": {
      "text/plain": [
       "dict_keys(['__header__', '__version__', '__globals__', 'X'])"
      ]
     },
     "execution_count": 33,
     "metadata": {},
     "output_type": "execute_result"
    }
   ],
   "source": [
    "# use data1 file\n",
    "path = \"D:\\Programming\\TestData\\ex7data1.mat\"\n",
    "\n",
    "data = loadmat(path)\n",
    "data.keys()"
   ]
  },
  {
   "cell_type": "code",
   "execution_count": 34,
   "metadata": {},
   "outputs": [
    {
     "data": {
      "text/plain": [
       "(50, 2)"
      ]
     },
     "execution_count": 34,
     "metadata": {},
     "output_type": "execute_result"
    }
   ],
   "source": [
    "X = data['X']\n",
    "X.shape"
   ]
  },
  {
   "cell_type": "code",
   "execution_count": 35,
   "metadata": {},
   "outputs": [
    {
     "data": {
      "text/plain": [
       "<matplotlib.collections.PathCollection at 0x26a2178b3d0>"
      ]
     },
     "execution_count": 35,
     "metadata": {},
     "output_type": "execute_result"
    },
    {
     "data": {
      "image/png": "[encoded data removed]",
      "text/plain": [
       "<Figure size 432x288 with 1 Axes>"
      ]
     },
     "metadata": {
      "needs_background": "light"
     },
     "output_type": "display_data"
    }
   ],
   "source": [
    "fig, ax = plt.subplots(figsize = (6,4))\n",
    "ax.scatter(X[:,0], X[:,1])"
   ]
  },
  {
   "cell_type": "code",
   "execution_count": 36,
   "metadata": {},
   "outputs": [],
   "source": [
    "def PCA(X):\n",
    "    \n",
    "    # first normalize X\n",
    "    X = (X - X.mean(axis = 0)) / X.std(axis = 0)\n",
    "    \n",
    "    # compute covariance matrix\n",
    "    X = np.matrix(X)\n",
    "    cov = (X.T * X) / X.shape[0]\n",
    "    \n",
    "    # perform SVD (singular value decomposition)\n",
    "    U, S, V = np.linalg.svd(cov)\n",
    "    # U -> Egen Vectors\n",
    "    # S -> diagonal matrix\n",
    "    \n",
    "    return U, S, V"
   ]
  },
  {
   "cell_type": "code",
   "execution_count": 37,
   "metadata": {},
   "outputs": [],
   "source": [
    "U, S, V = PCA(X)"
   ]
  },
  {
   "cell_type": "code",
   "execution_count": 38,
   "metadata": {},
   "outputs": [
    {
     "data": {
      "text/plain": [
       "((2, 2), (2,), (2, 2))"
      ]
     },
     "execution_count": 38,
     "metadata": {},
     "output_type": "execute_result"
    }
   ],
   "source": [
    "U.shape, S.shape, V.shape"
   ]
  },
  {
   "cell_type": "code",
   "execution_count": 39,
   "metadata": {},
   "outputs": [
    {
     "data": {
      "text/plain": [
       "(matrix([[-0.70710678, -0.70710678],\n",
       "         [-0.70710678,  0.70710678]]),\n",
       " array([1.73553038, 0.26446962]),\n",
       " matrix([[-0.70710678, -0.70710678],\n",
       "         [-0.70710678,  0.70710678]]))"
      ]
     },
     "execution_count": 39,
     "metadata": {},
     "output_type": "execute_result"
    }
   ],
   "source": [
    "U, S, V"
   ]
  },
  {
   "cell_type": "code",
   "execution_count": 40,
   "metadata": {},
   "outputs": [],
   "source": [
    "def projectData(X, U, K):\n",
    "    \n",
    "    # X is mxn, U is nxn, U_reduced is nxk, Z is mxk\n",
    "    \n",
    "    Z = np.zeros((X.shape[0], K))\n",
    "    U_reduced = U[:, :K] # top K Eigen Vectors\n",
    "    Z = np.dot(X, U_reduced) # projection onto X of top K Eigen Vectors\n",
    "    return Z"
   ]
  },
  {
   "cell_type": "code",
   "execution_count": 41,
   "metadata": {},
   "outputs": [
    {
     "data": {
      "text/plain": [
       "((50, 2), (50, 1))"
      ]
     },
     "execution_count": 41,
     "metadata": {},
     "output_type": "execute_result"
    }
   ],
   "source": [
    "K = 1 # reducing features from 2D to 1D\n",
    "\n",
    "#Xnorm = (X - X.mean(axis = 0)) / X.std(axis = 0)\n",
    "\n",
    "Z = projectData(X, U, K)\n",
    "# X is mxn, U is nxn, U_reduced is nxk, Z is mxk\n",
    "\n",
    "X.shape, Z.shape"
   ]
  },
  {
   "cell_type": "code",
   "execution_count": 42,
   "metadata": {},
   "outputs": [],
   "source": [
    "def recoverData(Z, U, K):\n",
    "    \n",
    "    # Z is mxk, U is nxn, U_reduced is nxk, X is mxn\n",
    "    \n",
    "    U_reduced = U[:, :K] # top K Eigen Vectors, nxk\n",
    "    Xrec = np.dot(Z, U_reduced.T) # mxk dot kxn = mxn\n",
    "    \n",
    "    return Xrec"
   ]
  },
  {
   "cell_type": "code",
   "execution_count": 43,
   "metadata": {},
   "outputs": [
    {
     "data": {
      "text/plain": [
       "((50, 2), (50, 1), (50, 2))"
      ]
     },
     "execution_count": 43,
     "metadata": {},
     "output_type": "execute_result"
    }
   ],
   "source": [
    "Xrec = recoverData(Z, U, K)\n",
    "X.shape, Z.shape, Xrec.shape"
   ]
  },
  {
   "cell_type": "code",
   "execution_count": 44,
   "metadata": {
    "scrolled": true
   },
   "outputs": [
    {
     "data": {
      "text/plain": [
       "(array([[3.38156267, 3.38911268],\n",
       "        [4.52787538, 5.8541781 ],\n",
       "        [2.65568187, 4.41199472],\n",
       "        [2.76523467, 3.71541365],\n",
       "        [2.84656011, 4.17550645]]),\n",
       " matrix([[3.38533768, 3.38533768],\n",
       "         [5.19102674, 5.19102674],\n",
       "         [3.53383829, 3.53383829],\n",
       "         [3.24032416, 3.24032416],\n",
       "         [3.51103328, 3.51103328]]))"
      ]
     },
     "execution_count": 44,
     "metadata": {},
     "output_type": "execute_result"
    }
   ],
   "source": [
    "X[:5,:], Xrec[:5,:]"
   ]
  },
  {
   "cell_type": "code",
   "execution_count": 45,
   "metadata": {},
   "outputs": [
    {
     "data": {
      "text/plain": [
       "<matplotlib.collections.PathCollection at 0x26a217e34f0>"
      ]
     },
     "execution_count": 45,
     "metadata": {},
     "output_type": "execute_result"
    },
    {
     "data": {
      "image/png": "[encoded data removed]",
      "text/plain": [
       "<Figure size 432x288 with 1 Axes>"
      ]
     },
     "metadata": {
      "needs_background": "light"
     },
     "output_type": "display_data"
    }
   ],
   "source": [
    "fig, ax = plt.subplots(figsize = (6,4))\n",
    "# ax.scatter([Xrec[:,0]], [Xrec[:,1]])\n",
    "ax.scatter([Xrec[:,0]], [Xrec[:,1]])\n",
    "# added addtional square brackets else getting error 'Masked arrays must be 1-D', see link below\n",
    "# https://stackoverflow.com/questions/44224076/python-3-scatter-plot-gives-valueerror-masked-arrays-must-be-1-d-even-though"
   ]
  },
  {
   "cell_type": "code",
   "execution_count": 46,
   "metadata": {},
   "outputs": [],
   "source": [
    "# part 2 - face data"
   ]
  },
  {
   "cell_type": "code",
   "execution_count": 47,
   "metadata": {},
   "outputs": [],
   "source": [
    "# load face data\n",
    "path = \"D:\\Programming\\TestData\\ex7faces.mat\"\n",
    "faceData = loadmat(path)"
   ]
  },
  {
   "cell_type": "code",
   "execution_count": 48,
   "metadata": {},
   "outputs": [
    {
     "data": {
      "text/plain": [
       "dict_keys(['__header__', '__version__', '__globals__', 'X'])"
      ]
     },
     "execution_count": 48,
     "metadata": {},
     "output_type": "execute_result"
    }
   ],
   "source": [
    "faceData.keys()"
   ]
  },
  {
   "cell_type": "code",
   "execution_count": 52,
   "metadata": {},
   "outputs": [
    {
     "data": {
      "text/plain": [
       "(5000, 1024)"
      ]
     },
     "execution_count": 52,
     "metadata": {},
     "output_type": "execute_result"
    }
   ],
   "source": [
    "X = faceData['X']\n",
    "X.shape"
   ]
  },
  {
   "cell_type": "code",
   "execution_count": 53,
   "metadata": {},
   "outputs": [
    {
     "data": {
      "text/plain": [
       "<matplotlib.image.AxesImage at 0x26a24380eb0>"
      ]
     },
     "execution_count": 53,
     "metadata": {},
     "output_type": "execute_result"
    },
    {
     "data": {
      "image/png": "[encoded data removed]",
      "text/plain": [
       "<Figure size 432x288 with 1 Axes>"
      ]
     },
     "metadata": {
      "needs_background": "light"
     },
     "output_type": "display_data"
    }
   ],
   "source": [
    "# X has 5000 'faces', each of 32x32 (i.e. 1024) pixels in grayscale\n",
    "# displaying one sample X[i], where i -> 0 to 4999\n",
    "i = 10\n",
    "face = np.reshape(X[i,:], (32,32))\n",
    "plt.imshow(face)"
   ]
  },
  {
   "cell_type": "code",
   "execution_count": 56,
   "metadata": {},
   "outputs": [
    {
     "data": {
      "text/plain": [
       "((1024, 1024), (1024,), (1024, 1024))"
      ]
     },
     "execution_count": 56,
     "metadata": {},
     "output_type": "execute_result"
    }
   ],
   "source": [
    "# running PCA on face data set X\n",
    "U, S, V = PCA(X)\n",
    "U.shape, S.shape, V.shape"
   ]
  },
  {
   "cell_type": "code",
   "execution_count": 57,
   "metadata": {},
   "outputs": [
    {
     "data": {
      "text/plain": [
       "(5000, 100)"
      ]
     },
     "execution_count": 57,
     "metadata": {},
     "output_type": "execute_result"
    }
   ],
   "source": [
    "# reducing dimensions from 1024 to 100\n",
    "K = 100\n",
    "Z = projectData(X, U, K)\n",
    "Z.shape # i.e. X transformed into reduced dimensions"
   ]
  },
  {
   "cell_type": "code",
   "execution_count": 59,
   "metadata": {},
   "outputs": [
    {
     "data": {
      "text/plain": [
       "<matplotlib.image.AxesImage at 0x26a243e6160>"
      ]
     },
     "execution_count": 59,
     "metadata": {},
     "output_type": "execute_result"
    },
    {
     "data": {
      "image/png": "[encoded data removed]",
      "text/plain": [
       "<Figure size 432x288 with 1 Axes>"
      ]
     },
     "metadata": {
      "needs_background": "light"
     },
     "output_type": "display_data"
    }
   ],
   "source": [
    "#displaying 'reduced' face\n",
    "i = 10\n",
    "faceRed = np.reshape(Z[i,:], (10,10))\n",
    "plt.imshow(faceRed) # only key shading visible"
   ]
  },
  {
   "cell_type": "code",
   "execution_count": 60,
   "metadata": {},
   "outputs": [
    {
     "data": {
      "text/plain": [
       "(5000, 1024)"
      ]
     },
     "execution_count": 60,
     "metadata": {},
     "output_type": "execute_result"
    }
   ],
   "source": [
    "# recovering X\n",
    "Xrec = recoverData(Z, U, K)\n",
    "Xrec.shape"
   ]
  },
  {
   "cell_type": "code",
   "execution_count": 61,
   "metadata": {},
   "outputs": [
    {
     "data": {
      "text/plain": [
       "<matplotlib.image.AxesImage at 0x26a1e9a0700>"
      ]
     },
     "execution_count": 61,
     "metadata": {},
     "output_type": "execute_result"
    },
    {
     "data": {
      "image/png": "[encoded data removed]",
      "text/plain": [
       "<Figure size 432x288 with 1 Axes>"
      ]
     },
     "metadata": {
      "needs_background": "light"
     },
     "output_type": "display_data"
    }
   ],
   "source": [
    "#displaying recovered face\n",
    "i = 10\n",
    "face = np.reshape(Xrec[i,:], (32,32))\n",
    "plt.imshow(face) # not exactly like original version"
   ]
  },
  {
   "cell_type": "code",
   "execution_count": 62,
   "metadata": {},
   "outputs": [],
   "source": [
    "# part 3 - visualizing bird file as 2D data"
   ]
  },
  {
   "cell_type": "code",
   "execution_count": 63,
   "metadata": {},
   "outputs": [
    {
     "data": {
      "text/plain": [
       "dict_keys(['__header__', '__version__', '__globals__', 'A'])"
      ]
     },
     "execution_count": 63,
     "metadata": {},
     "output_type": "execute_result"
    }
   ],
   "source": [
    "# load bird data\n",
    "\n",
    "path = \"D:\\Programming\\TestData\\Bird_small.mat\"\n",
    "birdData = loadmat(path)\n",
    "birdData.keys()"
   ]
  },
  {
   "cell_type": "code",
   "execution_count": 65,
   "metadata": {},
   "outputs": [
    {
     "data": {
      "text/plain": [
       "(128, 128, 3)"
      ]
     },
     "execution_count": 65,
     "metadata": {},
     "output_type": "execute_result"
    }
   ],
   "source": [
    "A = birdData['A']\n",
    "A.shape"
   ]
  },
  {
   "cell_type": "code",
   "execution_count": 66,
   "metadata": {},
   "outputs": [
    {
     "data": {
      "text/plain": [
       "(16384, 3)"
      ]
     },
     "execution_count": 66,
     "metadata": {},
     "output_type": "execute_result"
    }
   ],
   "source": [
    "# preprocess bird image data\n",
    "\n",
    "# normalize data\n",
    "A = A / 255\n",
    "\n",
    "# reshape data\n",
    "Ximg = np.reshape(A, (A.shape[0] * A.shape[1], A.shape[2])) # X is of form [128*128, 3]\n",
    "Ximg.shape"
   ]
  },
  {
   "cell_type": "code",
   "execution_count": 68,
   "metadata": {},
   "outputs": [
    {
     "data": {
      "text/plain": [
       "((3, 3), (3,), (3, 3))"
      ]
     },
     "execution_count": 68,
     "metadata": {},
     "output_type": "execute_result"
    }
   ],
   "source": [
    "U, S, V = PCA(Ximg)\n",
    "U.shape, S.shape, V.shape"
   ]
  },
  {
   "cell_type": "code",
   "execution_count": 69,
   "metadata": {},
   "outputs": [
    {
     "data": {
      "text/plain": [
       "((16384, 3), (16384, 2))"
      ]
     },
     "execution_count": 69,
     "metadata": {},
     "output_type": "execute_result"
    }
   ],
   "source": [
    "# reducing features from 3D to 2D\n",
    "\n",
    "K = 2 \n",
    "\n",
    "Z = projectData(Ximg, U, K)\n",
    "# Ximg is mxn, U is nxn, U_reduced is nxk, Z is mxk\n",
    "\n",
    "Ximg.shape, Z.shape"
   ]
  },
  {
   "cell_type": "code",
   "execution_count": 70,
   "metadata": {},
   "outputs": [
    {
     "data": {
      "text/plain": [
       "<matplotlib.collections.PathCollection at 0x26a244129a0>"
      ]
     },
     "execution_count": 70,
     "metadata": {},
     "output_type": "execute_result"
    },
    {
     "data": {
      "image/png": "[encoded data removed]",
      "text/plain": [
       "<Figure size 432x288 with 1 Axes>"
      ]
     },
     "metadata": {
      "needs_background": "light"
     },
     "output_type": "display_data"
    }
   ],
   "source": [
    "# visualize 2d data\n",
    "\n",
    "fig, ax = plt.subplots(figsize = (6,4))\n",
    "\n",
    "ax.scatter([Z[:,0]], [Z[:,1]])\n",
    "# added addtional square brackets else getting error 'Masked arrays must be 1-D', see link below\n",
    "# https://stackoverflow.com/questions/44224076/python-3-scatter-plot-gives-valueerror-masked-arrays-must-be-1-d-even-though"
   ]
  },
  {
   "cell_type": "code",
   "execution_count": null,
   "metadata": {},
   "outputs": [],
   "source": []
  }
 ],
 "metadata": {
  "kernelspec": {
   "display_name": "Python 3",
   "language": "python",
   "name": "python3"
  },
  "language_info": {
   "codemirror_mode": {
    "name": "ipython",
    "version": 3
   },
   "file_extension": ".py",
   "mimetype": "text/x-python",
   "name": "python",
   "nbconvert_exporter": "python",
   "pygments_lexer": "ipython3",
   "version": "3.8.3"
  }
 },
 "nbformat": 4,
 "nbformat_minor": 4
}
