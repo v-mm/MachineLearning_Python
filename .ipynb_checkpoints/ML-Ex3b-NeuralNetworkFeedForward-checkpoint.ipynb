{
 "cells": [
  {
   "cell_type": "code",
   "execution_count": 1,
   "metadata": {},
   "outputs": [],
   "source": [
    "import numpy as np\n",
    "import pandas as pd\n",
    "import matplotlib.pyplot as plt\n",
    "%matplotlib inline"
   ]
  },
  {
   "cell_type": "code",
   "execution_count": 2,
   "metadata": {},
   "outputs": [],
   "source": [
    "# for the minimising function\n",
    "from scipy.optimize import minimize\n",
    "\n",
    "# for reading MATLAB files\n",
    "from scipy.io import loadmat"
   ]
  },
  {
   "cell_type": "code",
   "execution_count": null,
   "metadata": {},
   "outputs": [],
   "source": [
    "# Neural Network model\n",
    "\n",
    "# 3 layers - input, hidden and output\n",
    "\n",
    "# input layer X has 401 neurons \n",
    "# hidden layer has 25 neurons\n",
    "# output layer has 10 neuros\n",
    "# input layer a1 is X with intercept - (5000,401)\n",
    "# weights between input layer and hidden layer = Theta1 - (25,401)\n",
    "# weights between hidden layer and output layer = Theta2 - (10,26)\n",
    "\n",
    "# z2 = Theta1 x a1\n",
    "# a2 = g(z2) plus intercept\n",
    "# z3 = Theta2 x a2\n",
    "# a3 = g(z3) = htheta(x)\n"
   ]
  },
  {
   "cell_type": "code",
   "execution_count": 50,
   "metadata": {},
   "outputs": [
    {
     "data": {
      "text/plain": [
       "{'__header__': b'MATLAB 5.0 MAT-file, Platform: GLNXA64, Created on: Sun Oct 16 13:09:09 2011',\n",
       " '__version__': '1.0',\n",
       " '__globals__': [],\n",
       " 'X': array([[0., 0., 0., ..., 0., 0., 0.],\n",
       "        [0., 0., 0., ..., 0., 0., 0.],\n",
       "        [0., 0., 0., ..., 0., 0., 0.],\n",
       "        ...,\n",
       "        [0., 0., 0., ..., 0., 0., 0.],\n",
       "        [0., 0., 0., ..., 0., 0., 0.],\n",
       "        [0., 0., 0., ..., 0., 0., 0.]]),\n",
       " 'y': array([[10],\n",
       "        [10],\n",
       "        [10],\n",
       "        ...,\n",
       "        [ 9],\n",
       "        [ 9],\n",
       "        [ 9]], dtype=uint8)}"
      ]
     },
     "execution_count": 50,
     "metadata": {},
     "output_type": "execute_result"
    }
   ],
   "source": [
    "# read X, y data from file \n",
    "\n",
    "path = \"D:\\Programming\\TestData\\ex3data1.mat\"\n",
    "data = loadmat(path)\n",
    "#loads X, y from MATLAB file ex3data1.mat\n",
    "data"
   ]
  },
  {
   "cell_type": "code",
   "execution_count": 51,
   "metadata": {},
   "outputs": [
    {
     "data": {
      "text/plain": [
       "dict_keys(['__header__', '__version__', '__globals__', 'X', 'y'])"
      ]
     },
     "execution_count": 51,
     "metadata": {},
     "output_type": "execute_result"
    }
   ],
   "source": [
    "data.keys()"
   ]
  },
  {
   "cell_type": "code",
   "execution_count": 52,
   "metadata": {},
   "outputs": [
    {
     "data": {
      "text/plain": [
       "((5000, 400), (5000, 1))"
      ]
     },
     "execution_count": 52,
     "metadata": {},
     "output_type": "execute_result"
    }
   ],
   "source": [
    "data['X'].shape, data['y'].shape"
   ]
  },
  {
   "cell_type": "code",
   "execution_count": 53,
   "metadata": {},
   "outputs": [
    {
     "data": {
      "text/plain": [
       "((5000, 400), (5000, 1))"
      ]
     },
     "execution_count": 53,
     "metadata": {},
     "output_type": "execute_result"
    }
   ],
   "source": [
    "#extract X, y\n",
    "X, y = data['X'], data['y']\n",
    "\n",
    "X.shape, y.shape"
   ]
  },
  {
   "cell_type": "code",
   "execution_count": 54,
   "metadata": {},
   "outputs": [
    {
     "data": {
      "text/plain": [
       "array([ 1,  2,  3,  4,  5,  6,  7,  8,  9, 10], dtype=uint8)"
      ]
     },
     "execution_count": 54,
     "metadata": {},
     "output_type": "execute_result"
    }
   ],
   "source": [
    "# unique class labels in y\n",
    "np.unique(y)"
   ]
  },
  {
   "cell_type": "code",
   "execution_count": 55,
   "metadata": {},
   "outputs": [],
   "source": [
    "# read weights data from file \n",
    "\n",
    "path = \"D:\\Programming\\TestData\\ex3weights.mat\"\n",
    "weights = loadmat(path)\n",
    "#loads X, y from MATLAB file ex3data1.mat\n",
    "#weights"
   ]
  },
  {
   "cell_type": "code",
   "execution_count": 56,
   "metadata": {},
   "outputs": [
    {
     "data": {
      "text/plain": [
       "dict_keys(['__header__', '__version__', '__globals__', 'Theta1', 'Theta2'])"
      ]
     },
     "execution_count": 56,
     "metadata": {},
     "output_type": "execute_result"
    }
   ],
   "source": [
    "weights.keys()"
   ]
  },
  {
   "cell_type": "code",
   "execution_count": 61,
   "metadata": {},
   "outputs": [
    {
     "name": "stdout",
     "output_type": "stream",
     "text": [
      "Theta1: (25, 401)\n",
      "Theta2: (10, 26)\n"
     ]
    }
   ],
   "source": [
    "Theta1, Theta2 = weights['Theta1'], weights['Theta2'] \n",
    "\n",
    "print('Theta1: {}'.format(Theta1.shape))\n",
    "print('Theta2: {}'.format(Theta2.shape))"
   ]
  },
  {
   "cell_type": "code",
   "execution_count": 58,
   "metadata": {},
   "outputs": [
    {
     "data": {
      "image/png": "[encoded data removed]",
      "text/plain": [
       "<Figure size 432x288 with 1 Axes>"
      ]
     },
     "metadata": {
      "needs_background": "light"
     },
     "output_type": "display_data"
    }
   ],
   "source": [
    "sample = np.random.choice(X.shape[0], 20)\n",
    "plt.imshow(X[sample].reshape(-1,20))\n",
    "plt.axis('off');\n",
    "# note semicolon above"
   ]
  },
  {
   "cell_type": "code",
   "execution_count": 49,
   "metadata": {},
   "outputs": [],
   "source": [
    "def sigmoid(z):\n",
    "    return 1/(1 + np.exp(-z))"
   ]
  },
  {
   "cell_type": "code",
   "execution_count": 66,
   "metadata": {},
   "outputs": [],
   "source": [
    "def predict(Theta1, Theta2, X):\n",
    "    \n",
    "    \"\"\"\n",
    "    X is (5000,400)\n",
    "    Theta1 is (25,401)\n",
    "    Theta2 is (10,26)\n",
    "    \n",
    "    z2 = Theta1 x a1\n",
    "    a2 = g(z2) plus intercept\n",
    "    z3 = Theta2 x a2\n",
    "    a3 = g(z3) = htheta(x)\n",
    "    \n",
    "    \"\"\"\n",
    "    \n",
    "    # add intercept\n",
    "    a1 = np.c_[np.ones((X.shape[0], 1)), X] #(5000,401)\n",
    "        \n",
    "    z2 = np.dot(a1, Theta1.T) #(5000,401)*(401,25)->(5000,25)\n",
    "    a2 = sigmoid(z2) #(5000,25)\n",
    "    \n",
    "    # add intercept\n",
    "    a2 = np.c_[np.ones((a2.shape[0], 1)), a2] #(5000,26)\n",
    "    \n",
    "    z3 = np.dot(a2, Theta2.T) #(5000,26)*(26,10)->(5000,10) \n",
    "    a3 = sigmoid(z3) #(5000,10) #5000 rows, each with 10 predictions for 10 classes/labels\n",
    "    \n",
    "    hArgmax = np.argmax(a3, axis=1) + 1    \n",
    "    \n",
    "    return hArgmax"
   ]
  },
  {
   "cell_type": "code",
   "execution_count": 67,
   "metadata": {},
   "outputs": [],
   "source": [
    "yPred = predict(Theta1, Theta2, X)"
   ]
  },
  {
   "cell_type": "code",
   "execution_count": 68,
   "metadata": {},
   "outputs": [
    {
     "name": "stdout",
     "output_type": "stream",
     "text": [
      "Training set accuracy: 97.52 %\n"
     ]
    }
   ],
   "source": [
    "print('Training set accuracy: {} %'.format(np.mean(yPred == y.ravel())*100))"
   ]
  },
  {
   "cell_type": "code",
   "execution_count": null,
   "metadata": {},
   "outputs": [],
   "source": []
  }
 ],
 "metadata": {
  "kernelspec": {
   "display_name": "Python 3",
   "language": "python",
   "name": "python3"
  },
  "language_info": {
   "codemirror_mode": {
    "name": "ipython",
    "version": 3
   },
   "file_extension": ".py",
   "mimetype": "text/x-python",
   "name": "python",
   "nbconvert_exporter": "python",
   "pygments_lexer": "ipython3",
   "version": "3.8.3"
  }
 },
 "nbformat": 4,
 "nbformat_minor": 4
}
