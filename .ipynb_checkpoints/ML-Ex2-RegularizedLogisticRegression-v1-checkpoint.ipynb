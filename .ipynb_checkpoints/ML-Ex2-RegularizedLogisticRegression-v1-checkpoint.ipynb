{
 "cells": [
  {
   "cell_type": "code",
   "execution_count": 1,
   "metadata": {},
   "outputs": [],
   "source": [
    "import numpy as np\n",
    "import pandas as pd\n",
    "import matplotlib.pyplot as plt\n",
    "%matplotlib inline"
   ]
  },
  {
   "cell_type": "code",
   "execution_count": 2,
   "metadata": {},
   "outputs": [],
   "source": [
    "# needed for the minimize function\n",
    "#from scipy.optimize import minimize\n",
    "import scipy.optimize as opt # needed for the minimize function"
   ]
  },
  {
   "cell_type": "code",
   "execution_count": 3,
   "metadata": {},
   "outputs": [],
   "source": [
    "# for converting into polynomial features\n",
    "# poly = PolynomialFeatures(degree)\n",
    "# X = poly.fit_transform(X) \n",
    "\n",
    "from sklearn.preprocessing import PolynomialFeatures"
   ]
  },
  {
   "cell_type": "code",
   "execution_count": 4,
   "metadata": {},
   "outputs": [
    {
     "data": {
      "text/html": [
       "<div>\n",
       "<style scoped>\n",
       "    .dataframe tbody tr th:only-of-type {\n",
       "        vertical-align: middle;\n",
       "    }\n",
       "\n",
       "    .dataframe tbody tr th {\n",
       "        vertical-align: top;\n",
       "    }\n",
       "\n",
       "    .dataframe thead th {\n",
       "        text-align: right;\n",
       "    }\n",
       "</style>\n",
       "<table border=\"1\" class=\"dataframe\">\n",
       "  <thead>\n",
       "    <tr style=\"text-align: right;\">\n",
       "      <th></th>\n",
       "      <th>Test1</th>\n",
       "      <th>Test2</th>\n",
       "      <th>Result</th>\n",
       "    </tr>\n",
       "  </thead>\n",
       "  <tbody>\n",
       "    <tr>\n",
       "      <th>0</th>\n",
       "      <td>0.051267</td>\n",
       "      <td>0.69956</td>\n",
       "      <td>1</td>\n",
       "    </tr>\n",
       "    <tr>\n",
       "      <th>1</th>\n",
       "      <td>-0.092742</td>\n",
       "      <td>0.68494</td>\n",
       "      <td>1</td>\n",
       "    </tr>\n",
       "    <tr>\n",
       "      <th>2</th>\n",
       "      <td>-0.213710</td>\n",
       "      <td>0.69225</td>\n",
       "      <td>1</td>\n",
       "    </tr>\n",
       "    <tr>\n",
       "      <th>3</th>\n",
       "      <td>-0.375000</td>\n",
       "      <td>0.50219</td>\n",
       "      <td>1</td>\n",
       "    </tr>\n",
       "    <tr>\n",
       "      <th>4</th>\n",
       "      <td>-0.513250</td>\n",
       "      <td>0.46564</td>\n",
       "      <td>1</td>\n",
       "    </tr>\n",
       "    <tr>\n",
       "      <th>...</th>\n",
       "      <td>...</td>\n",
       "      <td>...</td>\n",
       "      <td>...</td>\n",
       "    </tr>\n",
       "    <tr>\n",
       "      <th>112</th>\n",
       "      <td>-0.830070</td>\n",
       "      <td>0.31213</td>\n",
       "      <td>0</td>\n",
       "    </tr>\n",
       "    <tr>\n",
       "      <th>113</th>\n",
       "      <td>-0.720620</td>\n",
       "      <td>0.53874</td>\n",
       "      <td>0</td>\n",
       "    </tr>\n",
       "    <tr>\n",
       "      <th>114</th>\n",
       "      <td>-0.593890</td>\n",
       "      <td>0.49488</td>\n",
       "      <td>0</td>\n",
       "    </tr>\n",
       "    <tr>\n",
       "      <th>115</th>\n",
       "      <td>-0.484450</td>\n",
       "      <td>0.99927</td>\n",
       "      <td>0</td>\n",
       "    </tr>\n",
       "    <tr>\n",
       "      <th>116</th>\n",
       "      <td>-0.006336</td>\n",
       "      <td>0.99927</td>\n",
       "      <td>0</td>\n",
       "    </tr>\n",
       "  </tbody>\n",
       "</table>\n",
       "<p>117 rows × 3 columns</p>\n",
       "</div>"
      ],
      "text/plain": [
       "        Test1    Test2  Result\n",
       "0    0.051267  0.69956       1\n",
       "1   -0.092742  0.68494       1\n",
       "2   -0.213710  0.69225       1\n",
       "3   -0.375000  0.50219       1\n",
       "4   -0.513250  0.46564       1\n",
       "..        ...      ...     ...\n",
       "112 -0.830070  0.31213       0\n",
       "113 -0.720620  0.53874       0\n",
       "114 -0.593890  0.49488       0\n",
       "115 -0.484450  0.99927       0\n",
       "116 -0.006336  0.99927       0\n",
       "\n",
       "[117 rows x 3 columns]"
      ]
     },
     "execution_count": 4,
     "metadata": {},
     "output_type": "execute_result"
    }
   ],
   "source": [
    "# load data from file using pandas dataframes\n",
    "\n",
    "path = \"D:\\Programming\\TestData\\ex2data2.txt\"\n",
    "data = pd.read_csv(path, header=None, names=['Test1', 'Test2', 'Result'])\n",
    "data.head(-1) # first 5 rows, last 5 rows"
   ]
  },
  {
   "cell_type": "code",
   "execution_count": 5,
   "metadata": {},
   "outputs": [
    {
     "name": "stdout",
     "output_type": "stream",
     "text": [
      "(118, 2)\n",
      "      Test1    Test2\n",
      "0  0.051267  0.69956\n",
      "1 -0.092742  0.68494\n",
      "2 -0.213710  0.69225\n",
      "3 -0.375000  0.50219\n",
      "4 -0.513250  0.46564\n",
      "\n",
      "\n",
      "(118,)\n",
      "0    1\n",
      "1    1\n",
      "2    1\n",
      "3    1\n",
      "4    1\n",
      "Name: Result, dtype: int64\n"
     ]
    }
   ],
   "source": [
    "#extract X,y from data\n",
    "X = data.iloc[:, :-1] # all columns upto last column\n",
    "y = data.iloc[:, -1]  # last column\n",
    "\n",
    "print(X.shape)\n",
    "print(X[:5])\n",
    "print('\\n')\n",
    "print(y.shape)\n",
    "print(y[:5])\n",
    "\n",
    "# X, y are not yet matrices, but values in a dataframe"
   ]
  },
  {
   "cell_type": "code",
   "execution_count": 6,
   "metadata": {},
   "outputs": [
    {
     "data": {
      "text/plain": [
       "Text(0, 0.5, 'Test 2')"
      ]
     },
     "execution_count": 6,
     "metadata": {},
     "output_type": "execute_result"
    },
    {
     "data": {
      "image/png": "[encoded data removed]",
      "text/plain": [
       "<Figure size 432x288 with 1 Axes>"
      ]
     },
     "metadata": {
      "needs_background": "light"
     },
     "output_type": "display_data"
    }
   ],
   "source": [
    "# plot data\n",
    "\n",
    "#plot positive and negative indices\n",
    "pos = data['Result'] == 1\n",
    "neg = data['Result'] == 0\n",
    "\n",
    "fig, ax = plt.subplots(figsize = (6,4))\n",
    "\n",
    "ax.scatter(data[pos]['Test1'], data[pos]['Test2'], s=30, c='g', marker = '+', label = 'Accepted')\n",
    "ax.scatter(data[neg]['Test1'], data[neg]['Test2'], s=5, c='r', marker = 'o', label = 'Rejected')\n",
    "\n",
    "ax.legend()\n",
    "\n",
    "ax.set_xlabel('Test 1')\n",
    "ax.set_ylabel('Test 2')"
   ]
  },
  {
   "cell_type": "code",
   "execution_count": 7,
   "metadata": {},
   "outputs": [
    {
     "data": {
      "text/plain": [
       "(118, 28)"
      ]
     },
     "execution_count": 7,
     "metadata": {},
     "output_type": "execute_result"
    }
   ],
   "source": [
    "# Note that this function inserts a column with 'ones' in the design matrix for the intercept.\n",
    "\n",
    "degree = 6 # degree of polynomial features\n",
    "\n",
    "poly = PolynomialFeatures(6) # from sklearn.preprocessing\n",
    "X = poly.fit_transform(X)\n",
    "\n",
    "# fit_transform creates polynomial features\n",
    "# and also scales the numbers around mu and sigma\n",
    "# no need of further scaling\n",
    "\n",
    "X.shape"
   ]
  },
  {
   "cell_type": "code",
   "execution_count": 8,
   "metadata": {},
   "outputs": [
    {
     "name": "stdout",
     "output_type": "stream",
     "text": [
      "(118, 28)\n",
      "[[1.00000000e+00 5.12670000e-02 6.99560000e-01 2.62830529e-03\n",
      "  3.58643425e-02 4.89384194e-01 1.34745327e-04 1.83865725e-03\n",
      "  2.50892595e-02 3.42353606e-01 6.90798869e-06 9.42624411e-05\n",
      "  1.28625106e-03 1.75514423e-02 2.39496889e-01 3.54151856e-07\n",
      "  4.83255257e-06 6.59422333e-05 8.99809795e-04 1.22782870e-02\n",
      "  1.67542444e-01 1.81563032e-08 2.47750473e-07 3.38066048e-06\n",
      "  4.61305487e-05 6.29470940e-04 8.58939846e-03 1.17205992e-01]]\n"
     ]
    }
   ],
   "source": [
    "# converting from data frame values to matrices\n",
    "X = np.c_[X]\n",
    "# using this method to avoid problems in the matrix multipications within the minimizing function\n",
    "\n",
    "print(X.shape)\n",
    "print(X[:1 ]) # first 1 row of X"
   ]
  },
  {
   "cell_type": "code",
   "execution_count": 9,
   "metadata": {},
   "outputs": [
    {
     "name": "stdout",
     "output_type": "stream",
     "text": [
      "(118, 1)\n",
      "[[1]\n",
      " [1]\n",
      " [1]\n",
      " [1]\n",
      " [1]]\n"
     ]
    }
   ],
   "source": [
    "# converting y to a matrix (m,) => (m,1)\n",
    "\n",
    "y = y[:, np.newaxis]\n",
    "# using this method to avoid problems in the matrix multipications within the minimizing function\n",
    "\n",
    "print(y.shape)\n",
    "print(y[:5])"
   ]
  },
  {
   "cell_type": "code",
   "execution_count": 10,
   "metadata": {},
   "outputs": [],
   "source": [
    "def sigmoid(z):\n",
    "    \n",
    "    g = 1 / (1 + np.exp(-z))\n",
    "    \n",
    "    return g"
   ]
  },
  {
   "cell_type": "code",
   "execution_count": 11,
   "metadata": {},
   "outputs": [
    {
     "data": {
      "text/plain": [
       "[<matplotlib.lines.Line2D at 0x27c7cd2b100>]"
      ]
     },
     "execution_count": 11,
     "metadata": {},
     "output_type": "execute_result"
    },
    {
     "data": {
      "image/png": "[encoded data removed]",
      "text/plain": [
       "<Figure size 432x288 with 1 Axes>"
      ]
     },
     "metadata": {
      "needs_background": "light"
     },
     "output_type": "display_data"
    }
   ],
   "source": [
    "# plot sigmoid function\n",
    "\n",
    "nums = np.arange(-5,5,step=1)\n",
    "fig,ax = plt.subplots(figsize=(6,4))\n",
    "\n",
    "ax.plot(nums, sigmoid(nums),'g')"
   ]
  },
  {
   "cell_type": "code",
   "execution_count": 38,
   "metadata": {},
   "outputs": [],
   "source": [
    "def costFunctionReg(theta, X, y, learningRate): # minimizing function expects operands in that order theta...X...y, see args list\n",
    "    \n",
    "    \"\"\"\n",
    "    #X is (m,n+1) / including intercept column of 1s\n",
    "    #y is (m,1)\n",
    "    #theta is (n+1,1)  \n",
    "    \"\"\"   \n",
    "    m = X.shape[0]     \n",
    "    h = sigmoid(np.dot(X, theta)) # X * theta => (m,n+1) * (n+1,1) => (m,1) => y\n",
    "    term1 = np.dot(-y.T, np.log(h)) \n",
    "    term2 = np.dot((1-y).T, np.log(1 - h))\n",
    "    \n",
    "    # intercept theta is not regularized i.e. first theta\n",
    "    # this is only for regularization term \n",
    "    #theta[0] = 0\n",
    "    regTerm = (learningRate / (2 * m)) * np.sum(np.square(theta[1:]))\n",
    "\n",
    "    cost = (1/m) * np.sum(term1 - term2) + regTerm\n",
    "    \n",
    "    return cost\n"
   ]
  },
  {
   "cell_type": "code",
   "execution_count": 39,
   "metadata": {},
   "outputs": [
    {
     "data": {
      "text/plain": [
       "0.6931471805599453"
      ]
     },
     "execution_count": 39,
     "metadata": {},
     "output_type": "execute_result"
    }
   ],
   "source": [
    "# test cost function with theta all zeros, learningRate set to 1\n",
    "theta = np.zeros((X.shape[1],1))\n",
    "learningRate = 1\n",
    "\n",
    "costFunctionReg(theta, X, y, learningRate) # should return 0.693\n"
   ]
  },
  {
   "cell_type": "code",
   "execution_count": 40,
   "metadata": {},
   "outputs": [],
   "source": [
    "def gradientReg(theta, X, y, learningRate): # minimizing function expects operands in that order theta...X...y, see args list\n",
    "    \n",
    "    \"\"\"\n",
    "    X is (m,n+1) / including intercept column of 1s\n",
    "    y is (m,1)\n",
    "    theta is (n+1,1)        \n",
    "    \"\"\" \n",
    "    m = X.shape[0]    \n",
    "    h = sigmoid(np.dot(X, theta)) # h = X * theta => (m,n+1)*(n+1,1) => (m,1) => y\n",
    "    \n",
    "    # intercept term is not regularized i.e. first theta\n",
    "    # this is only for regularization term and here shape of theta needs to be maintained\n",
    "    theta[0] = 0\n",
    "    regTerm = (learningRate / m) * theta\n",
    "    \n",
    "    grad = (1/m) * np.dot(X.T, (h-y)) + regTerm # (n+1,m) * (m,1) =>(n+1,1) => same as theta\n",
    "            \n",
    "    return grad # no need to flatten"
   ]
  },
  {
   "cell_type": "code",
   "execution_count": 41,
   "metadata": {},
   "outputs": [
    {
     "data": {
      "text/plain": [
       "array([[8.47457627e-03],\n",
       "       [1.87880932e-02],\n",
       "       [7.77711864e-05],\n",
       "       [5.03446395e-02],\n",
       "       [1.15013308e-02],\n",
       "       [3.76648474e-02],\n",
       "       [1.83559872e-02],\n",
       "       [7.32393391e-03],\n",
       "       [8.19244468e-03],\n",
       "       [2.34764889e-02],\n",
       "       [3.93486234e-02],\n",
       "       [2.23923907e-03],\n",
       "       [1.28600503e-02],\n",
       "       [3.09593720e-03],\n",
       "       [3.93028171e-02],\n",
       "       [1.99707467e-02],\n",
       "       [4.32983232e-03],\n",
       "       [3.38643902e-03],\n",
       "       [5.83822078e-03],\n",
       "       [4.47629067e-03],\n",
       "       [3.10079849e-02],\n",
       "       [3.10312442e-02],\n",
       "       [1.09740238e-03],\n",
       "       [6.31570797e-03],\n",
       "       [4.08503006e-04],\n",
       "       [7.26504316e-03],\n",
       "       [1.37646175e-03],\n",
       "       [3.87936363e-02]])"
      ]
     },
     "execution_count": 41,
     "metadata": {},
     "output_type": "execute_result"
    }
   ],
   "source": [
    "# test gradient function\n",
    "# test cost function with theta all zeros, regLambda set to 1\n",
    "\n",
    "gradientReg(theta, X, y, learningRate)\n"
   ]
  },
  {
   "cell_type": "code",
   "execution_count": 42,
   "metadata": {},
   "outputs": [
    {
     "name": "stdout",
     "output_type": "stream",
     "text": [
      "(118, 28)\n",
      "(118, 1)\n",
      "(28, 1)\n"
     ]
    }
   ],
   "source": [
    "# check X, y and theta\n",
    "\n",
    "print(X.shape)\n",
    "print(y.shape)\n",
    "print(theta.shape)"
   ]
  },
  {
   "cell_type": "code",
   "execution_count": 43,
   "metadata": {},
   "outputs": [
    {
     "data": {
      "text/plain": [
       "array([ 1.27271028,  0.62529965,  1.18111687, -2.01987402, -0.9174319 ,\n",
       "       -1.43166931,  0.12393226, -0.36553118, -0.35725404, -0.17516293,\n",
       "       -1.4581701 , -0.05098417, -0.61558557, -0.27469165, -1.192713  ,\n",
       "       -0.2421784 , -0.20603301, -0.04466177, -0.27778948, -0.29539513,\n",
       "       -0.45645981, -1.04319153,  0.02779374, -0.29244865,  0.01555759,\n",
       "       -0.32742404, -0.14389149, -0.92467487])"
      ]
     },
     "execution_count": 43,
     "metadata": {},
     "output_type": "execute_result"
    }
   ],
   "source": [
    "# minimize cost function\n",
    "# we don't run gradient descent, instead we use SciPy's built in Optimization function...\n",
    "# ...to minimize our costFunction and calculate gradients using our gradient function\n",
    "\n",
    "initialTheta = np.zeros((X.shape[1],1))\n",
    "learningRate = 1\n",
    "\n",
    "result = opt.fmin_tnc(func = costFunctionReg, x0 = initialTheta, fprime = gradientReg, args = (X, y.flatten(), learningRate))\n",
    "\n",
    "parameters = result[0]\n",
    "\n",
    "parameters\n"
   ]
  },
  {
   "cell_type": "code",
   "execution_count": 44,
   "metadata": {},
   "outputs": [
    {
     "name": "stdout",
     "output_type": "stream",
     "text": [
      "cost =  3.16450933161501\n",
      "grad =  [[0.34604507]\n",
      " [0.16135192]\n",
      " [0.19479576]\n",
      " [0.22686278]\n",
      " [0.09218568]]\n"
     ]
    }
   ],
   "source": [
    "# Compute and display cost and gradient with all-ones theta and lambda = 10\n",
    "testTheta = np.ones((X.shape[1],1))\n",
    "testLearningRate = 10\n",
    "\n",
    "testCost = costFunctionReg(testTheta, X, y, testLearningRate)\n",
    "testGrad = gradientReg(testTheta, X, y, testLearningRate)\n",
    "\n",
    "print('cost = ', testCost)\n",
    "print('grad = ', testGrad[:5])"
   ]
  },
  {
   "cell_type": "code",
   "execution_count": 45,
   "metadata": {},
   "outputs": [],
   "source": [
    "def predict(theta, X, threshold = 0.5):\n",
    "    hTheta = sigmoid(np.dot(X, theta))\n",
    "    p = hTheta >= threshold\n",
    "    return p.astype('int')"
   ]
  },
  {
   "cell_type": "code",
   "execution_count": 46,
   "metadata": {},
   "outputs": [],
   "source": [
    "theta = parameters\n",
    "p = predict(theta, X, 0.5)\n"
   ]
  },
  {
   "cell_type": "code",
   "execution_count": 47,
   "metadata": {},
   "outputs": [
    {
     "data": {
      "text/plain": [
       "(118,)"
      ]
     },
     "execution_count": 47,
     "metadata": {},
     "output_type": "execute_result"
    }
   ],
   "source": [
    "p.shape"
   ]
  },
  {
   "cell_type": "code",
   "execution_count": 48,
   "metadata": {},
   "outputs": [
    {
     "name": "stdout",
     "output_type": "stream",
     "text": [
      "Training Accuracy 83.05084745762711%\n"
     ]
    }
   ],
   "source": [
    "print('Training Accuracy {}%'.format(100 * sum(p == y.ravel())/p.size))"
   ]
  },
  {
   "cell_type": "code",
   "execution_count": null,
   "metadata": {},
   "outputs": [],
   "source": []
  }
 ],
 "metadata": {
  "kernelspec": {
   "display_name": "Python 3",
   "language": "python",
   "name": "python3"
  },
  "language_info": {
   "codemirror_mode": {
    "name": "ipython",
    "version": 3
   },
   "file_extension": ".py",
   "mimetype": "text/x-python",
   "name": "python",
   "nbconvert_exporter": "python",
   "pygments_lexer": "ipython3",
   "version": "3.8.3"
  }
 },
 "nbformat": 4,
 "nbformat_minor": 4
}
